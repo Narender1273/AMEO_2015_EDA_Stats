{
 "cells": [
  {
   "cell_type": "markdown",
   "id": "million-forum",
   "metadata": {},
   "source": [
    " ## The  dataset  was  released  by  Aspiring  Minds  from  the Aspiring Mind    Employment Outcome  2015  (AMEO). $"
   ]
  },
  {
   "cell_type": "markdown",
   "id": "suffering-station",
   "metadata": {},
   "source": [
    "### installing necessary libraries"
   ]
  },
  {
   "cell_type": "code",
   "execution_count": 2,
   "id": "pressed-shark",
   "metadata": {
    "ExecuteTime": {
     "end_time": "2021-05-26T02:33:42.763417Z",
     "start_time": "2021-05-26T02:33:42.759425Z"
    }
   },
   "outputs": [],
   "source": [
    "import pandas as pd\n",
    "import numpy as np\n",
    "import seaborn as sns\n",
    "import matplotlib as plt"
   ]
  },
  {
   "cell_type": "markdown",
   "id": "driven-aircraft",
   "metadata": {},
   "source": [
    "### reading excel file"
   ]
  },
  {
   "cell_type": "code",
   "execution_count": 3,
   "id": "narrative-titanium",
   "metadata": {
    "ExecuteTime": {
     "end_time": "2021-05-26T02:33:59.974251Z",
     "start_time": "2021-05-26T02:33:46.432732Z"
    },
    "scrolled": false
   },
   "outputs": [
    {
     "data": {
      "text/html": [
       "<div>\n",
       "<style scoped>\n",
       "    .dataframe tbody tr th:only-of-type {\n",
       "        vertical-align: middle;\n",
       "    }\n",
       "\n",
       "    .dataframe tbody tr th {\n",
       "        vertical-align: top;\n",
       "    }\n",
       "\n",
       "    .dataframe thead th {\n",
       "        text-align: right;\n",
       "    }\n",
       "</style>\n",
       "<table border=\"1\" class=\"dataframe\">\n",
       "  <thead>\n",
       "    <tr style=\"text-align: right;\">\n",
       "      <th></th>\n",
       "      <th>Unnamed: 0</th>\n",
       "      <th>ID</th>\n",
       "      <th>Salary</th>\n",
       "      <th>DOJ</th>\n",
       "      <th>DOL</th>\n",
       "      <th>Designation</th>\n",
       "      <th>JobCity</th>\n",
       "      <th>Gender</th>\n",
       "      <th>DOB</th>\n",
       "      <th>10percentage</th>\n",
       "      <th>...</th>\n",
       "      <th>ComputerScience</th>\n",
       "      <th>MechanicalEngg</th>\n",
       "      <th>ElectricalEngg</th>\n",
       "      <th>TelecomEngg</th>\n",
       "      <th>CivilEngg</th>\n",
       "      <th>conscientiousness</th>\n",
       "      <th>agreeableness</th>\n",
       "      <th>extraversion</th>\n",
       "      <th>nueroticism</th>\n",
       "      <th>openess_to_experience</th>\n",
       "    </tr>\n",
       "  </thead>\n",
       "  <tbody>\n",
       "    <tr>\n",
       "      <th>0</th>\n",
       "      <td>train</td>\n",
       "      <td>203097</td>\n",
       "      <td>420000</td>\n",
       "      <td>2012-06-01</td>\n",
       "      <td>present</td>\n",
       "      <td>senior quality engineer</td>\n",
       "      <td>Bangalore</td>\n",
       "      <td>f</td>\n",
       "      <td>1990-02-19</td>\n",
       "      <td>84.30</td>\n",
       "      <td>...</td>\n",
       "      <td>-1</td>\n",
       "      <td>-1</td>\n",
       "      <td>-1</td>\n",
       "      <td>-1</td>\n",
       "      <td>-1</td>\n",
       "      <td>0.9737</td>\n",
       "      <td>0.8128</td>\n",
       "      <td>0.5269</td>\n",
       "      <td>1.35490</td>\n",
       "      <td>-0.4455</td>\n",
       "    </tr>\n",
       "    <tr>\n",
       "      <th>1</th>\n",
       "      <td>train</td>\n",
       "      <td>579905</td>\n",
       "      <td>500000</td>\n",
       "      <td>2013-09-01</td>\n",
       "      <td>present</td>\n",
       "      <td>assistant manager</td>\n",
       "      <td>Indore</td>\n",
       "      <td>m</td>\n",
       "      <td>1989-10-04</td>\n",
       "      <td>85.40</td>\n",
       "      <td>...</td>\n",
       "      <td>-1</td>\n",
       "      <td>-1</td>\n",
       "      <td>-1</td>\n",
       "      <td>-1</td>\n",
       "      <td>-1</td>\n",
       "      <td>-0.7335</td>\n",
       "      <td>0.3789</td>\n",
       "      <td>1.2396</td>\n",
       "      <td>-0.10760</td>\n",
       "      <td>0.8637</td>\n",
       "    </tr>\n",
       "    <tr>\n",
       "      <th>2</th>\n",
       "      <td>train</td>\n",
       "      <td>810601</td>\n",
       "      <td>325000</td>\n",
       "      <td>2014-06-01</td>\n",
       "      <td>present</td>\n",
       "      <td>systems engineer</td>\n",
       "      <td>Chennai</td>\n",
       "      <td>f</td>\n",
       "      <td>1992-08-03</td>\n",
       "      <td>85.00</td>\n",
       "      <td>...</td>\n",
       "      <td>-1</td>\n",
       "      <td>-1</td>\n",
       "      <td>-1</td>\n",
       "      <td>-1</td>\n",
       "      <td>-1</td>\n",
       "      <td>0.2718</td>\n",
       "      <td>1.7109</td>\n",
       "      <td>0.1637</td>\n",
       "      <td>-0.86820</td>\n",
       "      <td>0.6721</td>\n",
       "    </tr>\n",
       "    <tr>\n",
       "      <th>3</th>\n",
       "      <td>train</td>\n",
       "      <td>267447</td>\n",
       "      <td>1100000</td>\n",
       "      <td>2011-07-01</td>\n",
       "      <td>present</td>\n",
       "      <td>senior software engineer</td>\n",
       "      <td>Gurgaon</td>\n",
       "      <td>m</td>\n",
       "      <td>1989-12-05</td>\n",
       "      <td>85.60</td>\n",
       "      <td>...</td>\n",
       "      <td>-1</td>\n",
       "      <td>-1</td>\n",
       "      <td>-1</td>\n",
       "      <td>-1</td>\n",
       "      <td>-1</td>\n",
       "      <td>0.0464</td>\n",
       "      <td>0.3448</td>\n",
       "      <td>-0.3440</td>\n",
       "      <td>-0.40780</td>\n",
       "      <td>-0.9194</td>\n",
       "    </tr>\n",
       "    <tr>\n",
       "      <th>4</th>\n",
       "      <td>train</td>\n",
       "      <td>343523</td>\n",
       "      <td>200000</td>\n",
       "      <td>2014-03-01</td>\n",
       "      <td>2015-03-01 00:00:00</td>\n",
       "      <td>get</td>\n",
       "      <td>Manesar</td>\n",
       "      <td>m</td>\n",
       "      <td>1991-02-27</td>\n",
       "      <td>78.00</td>\n",
       "      <td>...</td>\n",
       "      <td>-1</td>\n",
       "      <td>-1</td>\n",
       "      <td>-1</td>\n",
       "      <td>-1</td>\n",
       "      <td>-1</td>\n",
       "      <td>-0.8810</td>\n",
       "      <td>-0.2793</td>\n",
       "      <td>-1.0697</td>\n",
       "      <td>0.09163</td>\n",
       "      <td>-0.1295</td>\n",
       "    </tr>\n",
       "    <tr>\n",
       "      <th>...</th>\n",
       "      <td>...</td>\n",
       "      <td>...</td>\n",
       "      <td>...</td>\n",
       "      <td>...</td>\n",
       "      <td>...</td>\n",
       "      <td>...</td>\n",
       "      <td>...</td>\n",
       "      <td>...</td>\n",
       "      <td>...</td>\n",
       "      <td>...</td>\n",
       "      <td>...</td>\n",
       "      <td>...</td>\n",
       "      <td>...</td>\n",
       "      <td>...</td>\n",
       "      <td>...</td>\n",
       "      <td>...</td>\n",
       "      <td>...</td>\n",
       "      <td>...</td>\n",
       "      <td>...</td>\n",
       "      <td>...</td>\n",
       "      <td>...</td>\n",
       "    </tr>\n",
       "    <tr>\n",
       "      <th>3993</th>\n",
       "      <td>train</td>\n",
       "      <td>47916</td>\n",
       "      <td>280000</td>\n",
       "      <td>2011-10-01</td>\n",
       "      <td>2012-10-01 00:00:00</td>\n",
       "      <td>software engineer</td>\n",
       "      <td>New Delhi</td>\n",
       "      <td>m</td>\n",
       "      <td>1987-04-15</td>\n",
       "      <td>52.09</td>\n",
       "      <td>...</td>\n",
       "      <td>-1</td>\n",
       "      <td>-1</td>\n",
       "      <td>-1</td>\n",
       "      <td>-1</td>\n",
       "      <td>-1</td>\n",
       "      <td>-0.1082</td>\n",
       "      <td>0.3448</td>\n",
       "      <td>0.2366</td>\n",
       "      <td>0.64980</td>\n",
       "      <td>-0.9194</td>\n",
       "    </tr>\n",
       "    <tr>\n",
       "      <th>3994</th>\n",
       "      <td>train</td>\n",
       "      <td>752781</td>\n",
       "      <td>100000</td>\n",
       "      <td>2013-07-01</td>\n",
       "      <td>2013-07-01 00:00:00</td>\n",
       "      <td>technical writer</td>\n",
       "      <td>Hyderabad</td>\n",
       "      <td>f</td>\n",
       "      <td>1992-08-27</td>\n",
       "      <td>90.00</td>\n",
       "      <td>...</td>\n",
       "      <td>-1</td>\n",
       "      <td>-1</td>\n",
       "      <td>-1</td>\n",
       "      <td>-1</td>\n",
       "      <td>-1</td>\n",
       "      <td>-0.3027</td>\n",
       "      <td>0.8784</td>\n",
       "      <td>0.9322</td>\n",
       "      <td>0.77980</td>\n",
       "      <td>-0.0943</td>\n",
       "    </tr>\n",
       "    <tr>\n",
       "      <th>3995</th>\n",
       "      <td>train</td>\n",
       "      <td>355888</td>\n",
       "      <td>320000</td>\n",
       "      <td>2013-07-01</td>\n",
       "      <td>present</td>\n",
       "      <td>associate software engineer</td>\n",
       "      <td>Bangalore</td>\n",
       "      <td>m</td>\n",
       "      <td>1991-07-03</td>\n",
       "      <td>81.86</td>\n",
       "      <td>...</td>\n",
       "      <td>-1</td>\n",
       "      <td>-1</td>\n",
       "      <td>-1</td>\n",
       "      <td>-1</td>\n",
       "      <td>-1</td>\n",
       "      <td>-1.5765</td>\n",
       "      <td>-1.5273</td>\n",
       "      <td>-1.5051</td>\n",
       "      <td>-1.31840</td>\n",
       "      <td>-0.7615</td>\n",
       "    </tr>\n",
       "    <tr>\n",
       "      <th>3996</th>\n",
       "      <td>train</td>\n",
       "      <td>947111</td>\n",
       "      <td>200000</td>\n",
       "      <td>2014-07-01</td>\n",
       "      <td>2015-01-01 00:00:00</td>\n",
       "      <td>software developer</td>\n",
       "      <td>Asifabadbanglore</td>\n",
       "      <td>f</td>\n",
       "      <td>1992-03-20</td>\n",
       "      <td>78.72</td>\n",
       "      <td>...</td>\n",
       "      <td>438</td>\n",
       "      <td>-1</td>\n",
       "      <td>-1</td>\n",
       "      <td>-1</td>\n",
       "      <td>-1</td>\n",
       "      <td>-0.1590</td>\n",
       "      <td>0.0459</td>\n",
       "      <td>-0.4511</td>\n",
       "      <td>-0.36120</td>\n",
       "      <td>-0.0943</td>\n",
       "    </tr>\n",
       "    <tr>\n",
       "      <th>3997</th>\n",
       "      <td>train</td>\n",
       "      <td>324966</td>\n",
       "      <td>400000</td>\n",
       "      <td>2013-02-01</td>\n",
       "      <td>present</td>\n",
       "      <td>senior systems engineer</td>\n",
       "      <td>Chennai</td>\n",
       "      <td>f</td>\n",
       "      <td>1991-02-26</td>\n",
       "      <td>70.60</td>\n",
       "      <td>...</td>\n",
       "      <td>-1</td>\n",
       "      <td>-1</td>\n",
       "      <td>-1</td>\n",
       "      <td>-1</td>\n",
       "      <td>-1</td>\n",
       "      <td>-1.1128</td>\n",
       "      <td>-0.2793</td>\n",
       "      <td>-0.6343</td>\n",
       "      <td>1.32553</td>\n",
       "      <td>-0.6035</td>\n",
       "    </tr>\n",
       "  </tbody>\n",
       "</table>\n",
       "<p>3998 rows × 39 columns</p>\n",
       "</div>"
      ],
      "text/plain": [
       "     Unnamed: 0      ID   Salary        DOJ                  DOL  \\\n",
       "0         train  203097   420000 2012-06-01              present   \n",
       "1         train  579905   500000 2013-09-01              present   \n",
       "2         train  810601   325000 2014-06-01              present   \n",
       "3         train  267447  1100000 2011-07-01              present   \n",
       "4         train  343523   200000 2014-03-01  2015-03-01 00:00:00   \n",
       "...         ...     ...      ...        ...                  ...   \n",
       "3993      train   47916   280000 2011-10-01  2012-10-01 00:00:00   \n",
       "3994      train  752781   100000 2013-07-01  2013-07-01 00:00:00   \n",
       "3995      train  355888   320000 2013-07-01              present   \n",
       "3996      train  947111   200000 2014-07-01  2015-01-01 00:00:00   \n",
       "3997      train  324966   400000 2013-02-01              present   \n",
       "\n",
       "                      Designation           JobCity Gender        DOB  \\\n",
       "0         senior quality engineer         Bangalore      f 1990-02-19   \n",
       "1               assistant manager            Indore      m 1989-10-04   \n",
       "2                systems engineer           Chennai      f 1992-08-03   \n",
       "3        senior software engineer           Gurgaon      m 1989-12-05   \n",
       "4                             get           Manesar      m 1991-02-27   \n",
       "...                           ...               ...    ...        ...   \n",
       "3993            software engineer        New Delhi       m 1987-04-15   \n",
       "3994             technical writer         Hyderabad      f 1992-08-27   \n",
       "3995  associate software engineer         Bangalore      m 1991-07-03   \n",
       "3996           software developer  Asifabadbanglore      f 1992-03-20   \n",
       "3997      senior systems engineer           Chennai      f 1991-02-26   \n",
       "\n",
       "      10percentage  ... ComputerScience  MechanicalEngg  ElectricalEngg  \\\n",
       "0            84.30  ...              -1              -1              -1   \n",
       "1            85.40  ...              -1              -1              -1   \n",
       "2            85.00  ...              -1              -1              -1   \n",
       "3            85.60  ...              -1              -1              -1   \n",
       "4            78.00  ...              -1              -1              -1   \n",
       "...            ...  ...             ...             ...             ...   \n",
       "3993         52.09  ...              -1              -1              -1   \n",
       "3994         90.00  ...              -1              -1              -1   \n",
       "3995         81.86  ...              -1              -1              -1   \n",
       "3996         78.72  ...             438              -1              -1   \n",
       "3997         70.60  ...              -1              -1              -1   \n",
       "\n",
       "     TelecomEngg  CivilEngg  conscientiousness agreeableness extraversion  \\\n",
       "0             -1         -1             0.9737        0.8128       0.5269   \n",
       "1             -1         -1            -0.7335        0.3789       1.2396   \n",
       "2             -1         -1             0.2718        1.7109       0.1637   \n",
       "3             -1         -1             0.0464        0.3448      -0.3440   \n",
       "4             -1         -1            -0.8810       -0.2793      -1.0697   \n",
       "...          ...        ...                ...           ...          ...   \n",
       "3993          -1         -1            -0.1082        0.3448       0.2366   \n",
       "3994          -1         -1            -0.3027        0.8784       0.9322   \n",
       "3995          -1         -1            -1.5765       -1.5273      -1.5051   \n",
       "3996          -1         -1            -0.1590        0.0459      -0.4511   \n",
       "3997          -1         -1            -1.1128       -0.2793      -0.6343   \n",
       "\n",
       "      nueroticism  openess_to_experience  \n",
       "0         1.35490                -0.4455  \n",
       "1        -0.10760                 0.8637  \n",
       "2        -0.86820                 0.6721  \n",
       "3        -0.40780                -0.9194  \n",
       "4         0.09163                -0.1295  \n",
       "...           ...                    ...  \n",
       "3993      0.64980                -0.9194  \n",
       "3994      0.77980                -0.0943  \n",
       "3995     -1.31840                -0.7615  \n",
       "3996     -0.36120                -0.0943  \n",
       "3997      1.32553                -0.6035  \n",
       "\n",
       "[3998 rows x 39 columns]"
      ]
     },
     "execution_count": 3,
     "metadata": {},
     "output_type": "execute_result"
    }
   ],
   "source": [
    "df = pd.read_excel('aspiring_minds_employability_outcomes_2015.xlsx')\n",
    "df"
   ]
  },
  {
   "cell_type": "code",
   "execution_count": 131,
   "id": "accepted-colors",
   "metadata": {
    "ExecuteTime": {
     "end_time": "2021-05-22T17:07:41.178748Z",
     "start_time": "2021-05-22T17:07:40.573475Z"
    }
   },
   "outputs": [
    {
     "data": {
      "text/html": [
       "<div>\n",
       "<style scoped>\n",
       "    .dataframe tbody tr th:only-of-type {\n",
       "        vertical-align: middle;\n",
       "    }\n",
       "\n",
       "    .dataframe tbody tr th {\n",
       "        vertical-align: top;\n",
       "    }\n",
       "\n",
       "    .dataframe thead th {\n",
       "        text-align: right;\n",
       "    }\n",
       "</style>\n",
       "<table border=\"1\" class=\"dataframe\">\n",
       "  <thead>\n",
       "    <tr style=\"text-align: right;\">\n",
       "      <th></th>\n",
       "      <th>ID</th>\n",
       "      <th>Salary</th>\n",
       "      <th>10percentage</th>\n",
       "      <th>12graduation</th>\n",
       "      <th>12percentage</th>\n",
       "      <th>CollegeID</th>\n",
       "      <th>CollegeTier</th>\n",
       "      <th>collegeGPA</th>\n",
       "      <th>CollegeCityID</th>\n",
       "      <th>CollegeCityTier</th>\n",
       "      <th>...</th>\n",
       "      <th>ComputerScience</th>\n",
       "      <th>MechanicalEngg</th>\n",
       "      <th>ElectricalEngg</th>\n",
       "      <th>TelecomEngg</th>\n",
       "      <th>CivilEngg</th>\n",
       "      <th>conscientiousness</th>\n",
       "      <th>agreeableness</th>\n",
       "      <th>extraversion</th>\n",
       "      <th>nueroticism</th>\n",
       "      <th>openess_to_experience</th>\n",
       "    </tr>\n",
       "  </thead>\n",
       "  <tbody>\n",
       "    <tr>\n",
       "      <th>count</th>\n",
       "      <td>3.998000e+03</td>\n",
       "      <td>3.998000e+03</td>\n",
       "      <td>3998.000000</td>\n",
       "      <td>3998.000000</td>\n",
       "      <td>3998.000000</td>\n",
       "      <td>3998.000000</td>\n",
       "      <td>3998.000000</td>\n",
       "      <td>3998.000000</td>\n",
       "      <td>3998.000000</td>\n",
       "      <td>3998.000000</td>\n",
       "      <td>...</td>\n",
       "      <td>3998.000000</td>\n",
       "      <td>3998.000000</td>\n",
       "      <td>3998.000000</td>\n",
       "      <td>3998.000000</td>\n",
       "      <td>3998.000000</td>\n",
       "      <td>3998.000000</td>\n",
       "      <td>3998.000000</td>\n",
       "      <td>3998.000000</td>\n",
       "      <td>3998.000000</td>\n",
       "      <td>3998.000000</td>\n",
       "    </tr>\n",
       "    <tr>\n",
       "      <th>mean</th>\n",
       "      <td>6.637945e+05</td>\n",
       "      <td>3.076998e+05</td>\n",
       "      <td>77.925443</td>\n",
       "      <td>2008.087544</td>\n",
       "      <td>74.466366</td>\n",
       "      <td>5156.851426</td>\n",
       "      <td>1.925713</td>\n",
       "      <td>71.486171</td>\n",
       "      <td>5156.851426</td>\n",
       "      <td>0.300400</td>\n",
       "      <td>...</td>\n",
       "      <td>90.742371</td>\n",
       "      <td>22.974737</td>\n",
       "      <td>16.478739</td>\n",
       "      <td>31.851176</td>\n",
       "      <td>2.683842</td>\n",
       "      <td>-0.037831</td>\n",
       "      <td>0.146496</td>\n",
       "      <td>0.002763</td>\n",
       "      <td>-0.169033</td>\n",
       "      <td>-0.138110</td>\n",
       "    </tr>\n",
       "    <tr>\n",
       "      <th>std</th>\n",
       "      <td>3.632182e+05</td>\n",
       "      <td>2.127375e+05</td>\n",
       "      <td>9.850162</td>\n",
       "      <td>1.653599</td>\n",
       "      <td>10.999933</td>\n",
       "      <td>4802.261482</td>\n",
       "      <td>0.262270</td>\n",
       "      <td>8.167338</td>\n",
       "      <td>4802.261482</td>\n",
       "      <td>0.458489</td>\n",
       "      <td>...</td>\n",
       "      <td>175.273083</td>\n",
       "      <td>98.123311</td>\n",
       "      <td>87.585634</td>\n",
       "      <td>104.852845</td>\n",
       "      <td>36.658505</td>\n",
       "      <td>1.028666</td>\n",
       "      <td>0.941782</td>\n",
       "      <td>0.951471</td>\n",
       "      <td>1.007580</td>\n",
       "      <td>1.008075</td>\n",
       "    </tr>\n",
       "    <tr>\n",
       "      <th>min</th>\n",
       "      <td>1.124400e+04</td>\n",
       "      <td>3.500000e+04</td>\n",
       "      <td>43.000000</td>\n",
       "      <td>1995.000000</td>\n",
       "      <td>40.000000</td>\n",
       "      <td>2.000000</td>\n",
       "      <td>1.000000</td>\n",
       "      <td>6.450000</td>\n",
       "      <td>2.000000</td>\n",
       "      <td>0.000000</td>\n",
       "      <td>...</td>\n",
       "      <td>-1.000000</td>\n",
       "      <td>-1.000000</td>\n",
       "      <td>-1.000000</td>\n",
       "      <td>-1.000000</td>\n",
       "      <td>-1.000000</td>\n",
       "      <td>-4.126700</td>\n",
       "      <td>-5.781600</td>\n",
       "      <td>-4.600900</td>\n",
       "      <td>-2.643000</td>\n",
       "      <td>-7.375700</td>\n",
       "    </tr>\n",
       "    <tr>\n",
       "      <th>25%</th>\n",
       "      <td>3.342842e+05</td>\n",
       "      <td>1.800000e+05</td>\n",
       "      <td>71.680000</td>\n",
       "      <td>2007.000000</td>\n",
       "      <td>66.000000</td>\n",
       "      <td>494.000000</td>\n",
       "      <td>2.000000</td>\n",
       "      <td>66.407500</td>\n",
       "      <td>494.000000</td>\n",
       "      <td>0.000000</td>\n",
       "      <td>...</td>\n",
       "      <td>-1.000000</td>\n",
       "      <td>-1.000000</td>\n",
       "      <td>-1.000000</td>\n",
       "      <td>-1.000000</td>\n",
       "      <td>-1.000000</td>\n",
       "      <td>-0.713525</td>\n",
       "      <td>-0.287100</td>\n",
       "      <td>-0.604800</td>\n",
       "      <td>-0.868200</td>\n",
       "      <td>-0.669200</td>\n",
       "    </tr>\n",
       "    <tr>\n",
       "      <th>50%</th>\n",
       "      <td>6.396000e+05</td>\n",
       "      <td>3.000000e+05</td>\n",
       "      <td>79.150000</td>\n",
       "      <td>2008.000000</td>\n",
       "      <td>74.400000</td>\n",
       "      <td>3879.000000</td>\n",
       "      <td>2.000000</td>\n",
       "      <td>71.720000</td>\n",
       "      <td>3879.000000</td>\n",
       "      <td>0.000000</td>\n",
       "      <td>...</td>\n",
       "      <td>-1.000000</td>\n",
       "      <td>-1.000000</td>\n",
       "      <td>-1.000000</td>\n",
       "      <td>-1.000000</td>\n",
       "      <td>-1.000000</td>\n",
       "      <td>0.046400</td>\n",
       "      <td>0.212400</td>\n",
       "      <td>0.091400</td>\n",
       "      <td>-0.234400</td>\n",
       "      <td>-0.094300</td>\n",
       "    </tr>\n",
       "    <tr>\n",
       "      <th>75%</th>\n",
       "      <td>9.904800e+05</td>\n",
       "      <td>3.700000e+05</td>\n",
       "      <td>85.670000</td>\n",
       "      <td>2009.000000</td>\n",
       "      <td>82.600000</td>\n",
       "      <td>8818.000000</td>\n",
       "      <td>2.000000</td>\n",
       "      <td>76.327500</td>\n",
       "      <td>8818.000000</td>\n",
       "      <td>1.000000</td>\n",
       "      <td>...</td>\n",
       "      <td>-1.000000</td>\n",
       "      <td>-1.000000</td>\n",
       "      <td>-1.000000</td>\n",
       "      <td>-1.000000</td>\n",
       "      <td>-1.000000</td>\n",
       "      <td>0.702700</td>\n",
       "      <td>0.812800</td>\n",
       "      <td>0.672000</td>\n",
       "      <td>0.526200</td>\n",
       "      <td>0.502400</td>\n",
       "    </tr>\n",
       "    <tr>\n",
       "      <th>max</th>\n",
       "      <td>1.298275e+06</td>\n",
       "      <td>4.000000e+06</td>\n",
       "      <td>97.760000</td>\n",
       "      <td>2013.000000</td>\n",
       "      <td>98.700000</td>\n",
       "      <td>18409.000000</td>\n",
       "      <td>2.000000</td>\n",
       "      <td>99.930000</td>\n",
       "      <td>18409.000000</td>\n",
       "      <td>1.000000</td>\n",
       "      <td>...</td>\n",
       "      <td>715.000000</td>\n",
       "      <td>623.000000</td>\n",
       "      <td>676.000000</td>\n",
       "      <td>548.000000</td>\n",
       "      <td>516.000000</td>\n",
       "      <td>1.995300</td>\n",
       "      <td>1.904800</td>\n",
       "      <td>2.535400</td>\n",
       "      <td>3.352500</td>\n",
       "      <td>1.822400</td>\n",
       "    </tr>\n",
       "  </tbody>\n",
       "</table>\n",
       "<p>8 rows × 27 columns</p>\n",
       "</div>"
      ],
      "text/plain": [
       "                 ID        Salary  10percentage  12graduation  12percentage  \\\n",
       "count  3.998000e+03  3.998000e+03   3998.000000   3998.000000   3998.000000   \n",
       "mean   6.637945e+05  3.076998e+05     77.925443   2008.087544     74.466366   \n",
       "std    3.632182e+05  2.127375e+05      9.850162      1.653599     10.999933   \n",
       "min    1.124400e+04  3.500000e+04     43.000000   1995.000000     40.000000   \n",
       "25%    3.342842e+05  1.800000e+05     71.680000   2007.000000     66.000000   \n",
       "50%    6.396000e+05  3.000000e+05     79.150000   2008.000000     74.400000   \n",
       "75%    9.904800e+05  3.700000e+05     85.670000   2009.000000     82.600000   \n",
       "max    1.298275e+06  4.000000e+06     97.760000   2013.000000     98.700000   \n",
       "\n",
       "          CollegeID  CollegeTier   collegeGPA  CollegeCityID  CollegeCityTier  \\\n",
       "count   3998.000000  3998.000000  3998.000000    3998.000000      3998.000000   \n",
       "mean    5156.851426     1.925713    71.486171    5156.851426         0.300400   \n",
       "std     4802.261482     0.262270     8.167338    4802.261482         0.458489   \n",
       "min        2.000000     1.000000     6.450000       2.000000         0.000000   \n",
       "25%      494.000000     2.000000    66.407500     494.000000         0.000000   \n",
       "50%     3879.000000     2.000000    71.720000    3879.000000         0.000000   \n",
       "75%     8818.000000     2.000000    76.327500    8818.000000         1.000000   \n",
       "max    18409.000000     2.000000    99.930000   18409.000000         1.000000   \n",
       "\n",
       "       ...  ComputerScience  MechanicalEngg  ElectricalEngg  TelecomEngg  \\\n",
       "count  ...      3998.000000     3998.000000     3998.000000  3998.000000   \n",
       "mean   ...        90.742371       22.974737       16.478739    31.851176   \n",
       "std    ...       175.273083       98.123311       87.585634   104.852845   \n",
       "min    ...        -1.000000       -1.000000       -1.000000    -1.000000   \n",
       "25%    ...        -1.000000       -1.000000       -1.000000    -1.000000   \n",
       "50%    ...        -1.000000       -1.000000       -1.000000    -1.000000   \n",
       "75%    ...        -1.000000       -1.000000       -1.000000    -1.000000   \n",
       "max    ...       715.000000      623.000000      676.000000   548.000000   \n",
       "\n",
       "         CivilEngg  conscientiousness  agreeableness  extraversion  \\\n",
       "count  3998.000000        3998.000000    3998.000000   3998.000000   \n",
       "mean      2.683842          -0.037831       0.146496      0.002763   \n",
       "std      36.658505           1.028666       0.941782      0.951471   \n",
       "min      -1.000000          -4.126700      -5.781600     -4.600900   \n",
       "25%      -1.000000          -0.713525      -0.287100     -0.604800   \n",
       "50%      -1.000000           0.046400       0.212400      0.091400   \n",
       "75%      -1.000000           0.702700       0.812800      0.672000   \n",
       "max     516.000000           1.995300       1.904800      2.535400   \n",
       "\n",
       "       nueroticism  openess_to_experience  \n",
       "count  3998.000000            3998.000000  \n",
       "mean     -0.169033              -0.138110  \n",
       "std       1.007580               1.008075  \n",
       "min      -2.643000              -7.375700  \n",
       "25%      -0.868200              -0.669200  \n",
       "50%      -0.234400              -0.094300  \n",
       "75%       0.526200               0.502400  \n",
       "max       3.352500               1.822400  \n",
       "\n",
       "[8 rows x 27 columns]"
      ]
     },
     "execution_count": 131,
     "metadata": {},
     "output_type": "execute_result"
    }
   ],
   "source": [
    "df.describe()"
   ]
  },
  {
   "cell_type": "code",
   "execution_count": 4,
   "id": "romance-marker",
   "metadata": {
    "ExecuteTime": {
     "end_time": "2021-05-26T02:34:05.632735Z",
     "start_time": "2021-05-26T02:34:05.626753Z"
    }
   },
   "outputs": [],
   "source": [
    "# deleting the column from dataframe \n",
    "\n",
    "del  df['Unnamed: 0']"
   ]
  },
  {
   "cell_type": "code",
   "execution_count": 5,
   "id": "external-reviewer",
   "metadata": {
    "ExecuteTime": {
     "end_time": "2021-05-26T02:34:08.582842Z",
     "start_time": "2021-05-26T02:34:08.518017Z"
    }
   },
   "outputs": [
    {
     "data": {
      "text/html": [
       "<div>\n",
       "<style scoped>\n",
       "    .dataframe tbody tr th:only-of-type {\n",
       "        vertical-align: middle;\n",
       "    }\n",
       "\n",
       "    .dataframe tbody tr th {\n",
       "        vertical-align: top;\n",
       "    }\n",
       "\n",
       "    .dataframe thead th {\n",
       "        text-align: right;\n",
       "    }\n",
       "</style>\n",
       "<table border=\"1\" class=\"dataframe\">\n",
       "  <thead>\n",
       "    <tr style=\"text-align: right;\">\n",
       "      <th></th>\n",
       "      <th>ID</th>\n",
       "      <th>Salary</th>\n",
       "      <th>DOJ</th>\n",
       "      <th>DOL</th>\n",
       "      <th>Designation</th>\n",
       "      <th>JobCity</th>\n",
       "      <th>Gender</th>\n",
       "      <th>DOB</th>\n",
       "      <th>10percentage</th>\n",
       "      <th>10board</th>\n",
       "      <th>...</th>\n",
       "      <th>ComputerScience</th>\n",
       "      <th>MechanicalEngg</th>\n",
       "      <th>ElectricalEngg</th>\n",
       "      <th>TelecomEngg</th>\n",
       "      <th>CivilEngg</th>\n",
       "      <th>conscientiousness</th>\n",
       "      <th>agreeableness</th>\n",
       "      <th>extraversion</th>\n",
       "      <th>nueroticism</th>\n",
       "      <th>openess_to_experience</th>\n",
       "    </tr>\n",
       "  </thead>\n",
       "  <tbody>\n",
       "    <tr>\n",
       "      <th>0</th>\n",
       "      <td>203097</td>\n",
       "      <td>420000</td>\n",
       "      <td>2012-06-01</td>\n",
       "      <td>present</td>\n",
       "      <td>senior quality engineer</td>\n",
       "      <td>Bangalore</td>\n",
       "      <td>f</td>\n",
       "      <td>1990-02-19</td>\n",
       "      <td>84.30</td>\n",
       "      <td>board ofsecondary education,ap</td>\n",
       "      <td>...</td>\n",
       "      <td>-1</td>\n",
       "      <td>-1</td>\n",
       "      <td>-1</td>\n",
       "      <td>-1</td>\n",
       "      <td>-1</td>\n",
       "      <td>0.9737</td>\n",
       "      <td>0.8128</td>\n",
       "      <td>0.5269</td>\n",
       "      <td>1.35490</td>\n",
       "      <td>-0.4455</td>\n",
       "    </tr>\n",
       "    <tr>\n",
       "      <th>1</th>\n",
       "      <td>579905</td>\n",
       "      <td>500000</td>\n",
       "      <td>2013-09-01</td>\n",
       "      <td>present</td>\n",
       "      <td>assistant manager</td>\n",
       "      <td>Indore</td>\n",
       "      <td>m</td>\n",
       "      <td>1989-10-04</td>\n",
       "      <td>85.40</td>\n",
       "      <td>cbse</td>\n",
       "      <td>...</td>\n",
       "      <td>-1</td>\n",
       "      <td>-1</td>\n",
       "      <td>-1</td>\n",
       "      <td>-1</td>\n",
       "      <td>-1</td>\n",
       "      <td>-0.7335</td>\n",
       "      <td>0.3789</td>\n",
       "      <td>1.2396</td>\n",
       "      <td>-0.10760</td>\n",
       "      <td>0.8637</td>\n",
       "    </tr>\n",
       "    <tr>\n",
       "      <th>2</th>\n",
       "      <td>810601</td>\n",
       "      <td>325000</td>\n",
       "      <td>2014-06-01</td>\n",
       "      <td>present</td>\n",
       "      <td>systems engineer</td>\n",
       "      <td>Chennai</td>\n",
       "      <td>f</td>\n",
       "      <td>1992-08-03</td>\n",
       "      <td>85.00</td>\n",
       "      <td>cbse</td>\n",
       "      <td>...</td>\n",
       "      <td>-1</td>\n",
       "      <td>-1</td>\n",
       "      <td>-1</td>\n",
       "      <td>-1</td>\n",
       "      <td>-1</td>\n",
       "      <td>0.2718</td>\n",
       "      <td>1.7109</td>\n",
       "      <td>0.1637</td>\n",
       "      <td>-0.86820</td>\n",
       "      <td>0.6721</td>\n",
       "    </tr>\n",
       "    <tr>\n",
       "      <th>3</th>\n",
       "      <td>267447</td>\n",
       "      <td>1100000</td>\n",
       "      <td>2011-07-01</td>\n",
       "      <td>present</td>\n",
       "      <td>senior software engineer</td>\n",
       "      <td>Gurgaon</td>\n",
       "      <td>m</td>\n",
       "      <td>1989-12-05</td>\n",
       "      <td>85.60</td>\n",
       "      <td>cbse</td>\n",
       "      <td>...</td>\n",
       "      <td>-1</td>\n",
       "      <td>-1</td>\n",
       "      <td>-1</td>\n",
       "      <td>-1</td>\n",
       "      <td>-1</td>\n",
       "      <td>0.0464</td>\n",
       "      <td>0.3448</td>\n",
       "      <td>-0.3440</td>\n",
       "      <td>-0.40780</td>\n",
       "      <td>-0.9194</td>\n",
       "    </tr>\n",
       "    <tr>\n",
       "      <th>4</th>\n",
       "      <td>343523</td>\n",
       "      <td>200000</td>\n",
       "      <td>2014-03-01</td>\n",
       "      <td>2015-03-01 00:00:00</td>\n",
       "      <td>get</td>\n",
       "      <td>Manesar</td>\n",
       "      <td>m</td>\n",
       "      <td>1991-02-27</td>\n",
       "      <td>78.00</td>\n",
       "      <td>cbse</td>\n",
       "      <td>...</td>\n",
       "      <td>-1</td>\n",
       "      <td>-1</td>\n",
       "      <td>-1</td>\n",
       "      <td>-1</td>\n",
       "      <td>-1</td>\n",
       "      <td>-0.8810</td>\n",
       "      <td>-0.2793</td>\n",
       "      <td>-1.0697</td>\n",
       "      <td>0.09163</td>\n",
       "      <td>-0.1295</td>\n",
       "    </tr>\n",
       "    <tr>\n",
       "      <th>...</th>\n",
       "      <td>...</td>\n",
       "      <td>...</td>\n",
       "      <td>...</td>\n",
       "      <td>...</td>\n",
       "      <td>...</td>\n",
       "      <td>...</td>\n",
       "      <td>...</td>\n",
       "      <td>...</td>\n",
       "      <td>...</td>\n",
       "      <td>...</td>\n",
       "      <td>...</td>\n",
       "      <td>...</td>\n",
       "      <td>...</td>\n",
       "      <td>...</td>\n",
       "      <td>...</td>\n",
       "      <td>...</td>\n",
       "      <td>...</td>\n",
       "      <td>...</td>\n",
       "      <td>...</td>\n",
       "      <td>...</td>\n",
       "      <td>...</td>\n",
       "    </tr>\n",
       "    <tr>\n",
       "      <th>3993</th>\n",
       "      <td>47916</td>\n",
       "      <td>280000</td>\n",
       "      <td>2011-10-01</td>\n",
       "      <td>2012-10-01 00:00:00</td>\n",
       "      <td>software engineer</td>\n",
       "      <td>New Delhi</td>\n",
       "      <td>m</td>\n",
       "      <td>1987-04-15</td>\n",
       "      <td>52.09</td>\n",
       "      <td>cbse</td>\n",
       "      <td>...</td>\n",
       "      <td>-1</td>\n",
       "      <td>-1</td>\n",
       "      <td>-1</td>\n",
       "      <td>-1</td>\n",
       "      <td>-1</td>\n",
       "      <td>-0.1082</td>\n",
       "      <td>0.3448</td>\n",
       "      <td>0.2366</td>\n",
       "      <td>0.64980</td>\n",
       "      <td>-0.9194</td>\n",
       "    </tr>\n",
       "    <tr>\n",
       "      <th>3994</th>\n",
       "      <td>752781</td>\n",
       "      <td>100000</td>\n",
       "      <td>2013-07-01</td>\n",
       "      <td>2013-07-01 00:00:00</td>\n",
       "      <td>technical writer</td>\n",
       "      <td>Hyderabad</td>\n",
       "      <td>f</td>\n",
       "      <td>1992-08-27</td>\n",
       "      <td>90.00</td>\n",
       "      <td>state board</td>\n",
       "      <td>...</td>\n",
       "      <td>-1</td>\n",
       "      <td>-1</td>\n",
       "      <td>-1</td>\n",
       "      <td>-1</td>\n",
       "      <td>-1</td>\n",
       "      <td>-0.3027</td>\n",
       "      <td>0.8784</td>\n",
       "      <td>0.9322</td>\n",
       "      <td>0.77980</td>\n",
       "      <td>-0.0943</td>\n",
       "    </tr>\n",
       "    <tr>\n",
       "      <th>3995</th>\n",
       "      <td>355888</td>\n",
       "      <td>320000</td>\n",
       "      <td>2013-07-01</td>\n",
       "      <td>present</td>\n",
       "      <td>associate software engineer</td>\n",
       "      <td>Bangalore</td>\n",
       "      <td>m</td>\n",
       "      <td>1991-07-03</td>\n",
       "      <td>81.86</td>\n",
       "      <td>bse,odisha</td>\n",
       "      <td>...</td>\n",
       "      <td>-1</td>\n",
       "      <td>-1</td>\n",
       "      <td>-1</td>\n",
       "      <td>-1</td>\n",
       "      <td>-1</td>\n",
       "      <td>-1.5765</td>\n",
       "      <td>-1.5273</td>\n",
       "      <td>-1.5051</td>\n",
       "      <td>-1.31840</td>\n",
       "      <td>-0.7615</td>\n",
       "    </tr>\n",
       "    <tr>\n",
       "      <th>3996</th>\n",
       "      <td>947111</td>\n",
       "      <td>200000</td>\n",
       "      <td>2014-07-01</td>\n",
       "      <td>2015-01-01 00:00:00</td>\n",
       "      <td>software developer</td>\n",
       "      <td>Asifabadbanglore</td>\n",
       "      <td>f</td>\n",
       "      <td>1992-03-20</td>\n",
       "      <td>78.72</td>\n",
       "      <td>state board</td>\n",
       "      <td>...</td>\n",
       "      <td>438</td>\n",
       "      <td>-1</td>\n",
       "      <td>-1</td>\n",
       "      <td>-1</td>\n",
       "      <td>-1</td>\n",
       "      <td>-0.1590</td>\n",
       "      <td>0.0459</td>\n",
       "      <td>-0.4511</td>\n",
       "      <td>-0.36120</td>\n",
       "      <td>-0.0943</td>\n",
       "    </tr>\n",
       "    <tr>\n",
       "      <th>3997</th>\n",
       "      <td>324966</td>\n",
       "      <td>400000</td>\n",
       "      <td>2013-02-01</td>\n",
       "      <td>present</td>\n",
       "      <td>senior systems engineer</td>\n",
       "      <td>Chennai</td>\n",
       "      <td>f</td>\n",
       "      <td>1991-02-26</td>\n",
       "      <td>70.60</td>\n",
       "      <td>cbse</td>\n",
       "      <td>...</td>\n",
       "      <td>-1</td>\n",
       "      <td>-1</td>\n",
       "      <td>-1</td>\n",
       "      <td>-1</td>\n",
       "      <td>-1</td>\n",
       "      <td>-1.1128</td>\n",
       "      <td>-0.2793</td>\n",
       "      <td>-0.6343</td>\n",
       "      <td>1.32553</td>\n",
       "      <td>-0.6035</td>\n",
       "    </tr>\n",
       "  </tbody>\n",
       "</table>\n",
       "<p>3998 rows × 38 columns</p>\n",
       "</div>"
      ],
      "text/plain": [
       "          ID   Salary        DOJ                  DOL  \\\n",
       "0     203097   420000 2012-06-01              present   \n",
       "1     579905   500000 2013-09-01              present   \n",
       "2     810601   325000 2014-06-01              present   \n",
       "3     267447  1100000 2011-07-01              present   \n",
       "4     343523   200000 2014-03-01  2015-03-01 00:00:00   \n",
       "...      ...      ...        ...                  ...   \n",
       "3993   47916   280000 2011-10-01  2012-10-01 00:00:00   \n",
       "3994  752781   100000 2013-07-01  2013-07-01 00:00:00   \n",
       "3995  355888   320000 2013-07-01              present   \n",
       "3996  947111   200000 2014-07-01  2015-01-01 00:00:00   \n",
       "3997  324966   400000 2013-02-01              present   \n",
       "\n",
       "                      Designation           JobCity Gender        DOB  \\\n",
       "0         senior quality engineer         Bangalore      f 1990-02-19   \n",
       "1               assistant manager            Indore      m 1989-10-04   \n",
       "2                systems engineer           Chennai      f 1992-08-03   \n",
       "3        senior software engineer           Gurgaon      m 1989-12-05   \n",
       "4                             get           Manesar      m 1991-02-27   \n",
       "...                           ...               ...    ...        ...   \n",
       "3993            software engineer        New Delhi       m 1987-04-15   \n",
       "3994             technical writer         Hyderabad      f 1992-08-27   \n",
       "3995  associate software engineer         Bangalore      m 1991-07-03   \n",
       "3996           software developer  Asifabadbanglore      f 1992-03-20   \n",
       "3997      senior systems engineer           Chennai      f 1991-02-26   \n",
       "\n",
       "      10percentage                         10board  ...  ComputerScience  \\\n",
       "0            84.30  board ofsecondary education,ap  ...               -1   \n",
       "1            85.40                            cbse  ...               -1   \n",
       "2            85.00                            cbse  ...               -1   \n",
       "3            85.60                            cbse  ...               -1   \n",
       "4            78.00                            cbse  ...               -1   \n",
       "...            ...                             ...  ...              ...   \n",
       "3993         52.09                            cbse  ...               -1   \n",
       "3994         90.00                     state board  ...               -1   \n",
       "3995         81.86                      bse,odisha  ...               -1   \n",
       "3996         78.72                     state board  ...              438   \n",
       "3997         70.60                            cbse  ...               -1   \n",
       "\n",
       "      MechanicalEngg ElectricalEngg  TelecomEngg  CivilEngg conscientiousness  \\\n",
       "0                 -1             -1           -1         -1            0.9737   \n",
       "1                 -1             -1           -1         -1           -0.7335   \n",
       "2                 -1             -1           -1         -1            0.2718   \n",
       "3                 -1             -1           -1         -1            0.0464   \n",
       "4                 -1             -1           -1         -1           -0.8810   \n",
       "...              ...            ...          ...        ...               ...   \n",
       "3993              -1             -1           -1         -1           -0.1082   \n",
       "3994              -1             -1           -1         -1           -0.3027   \n",
       "3995              -1             -1           -1         -1           -1.5765   \n",
       "3996              -1             -1           -1         -1           -0.1590   \n",
       "3997              -1             -1           -1         -1           -1.1128   \n",
       "\n",
       "     agreeableness  extraversion  nueroticism  openess_to_experience  \n",
       "0           0.8128        0.5269      1.35490                -0.4455  \n",
       "1           0.3789        1.2396     -0.10760                 0.8637  \n",
       "2           1.7109        0.1637     -0.86820                 0.6721  \n",
       "3           0.3448       -0.3440     -0.40780                -0.9194  \n",
       "4          -0.2793       -1.0697      0.09163                -0.1295  \n",
       "...            ...           ...          ...                    ...  \n",
       "3993        0.3448        0.2366      0.64980                -0.9194  \n",
       "3994        0.8784        0.9322      0.77980                -0.0943  \n",
       "3995       -1.5273       -1.5051     -1.31840                -0.7615  \n",
       "3996        0.0459       -0.4511     -0.36120                -0.0943  \n",
       "3997       -0.2793       -0.6343      1.32553                -0.6035  \n",
       "\n",
       "[3998 rows x 38 columns]"
      ]
     },
     "execution_count": 5,
     "metadata": {},
     "output_type": "execute_result"
    }
   ],
   "source": [
    "df"
   ]
  },
  {
   "cell_type": "code",
   "execution_count": 81,
   "id": "victorian-comedy",
   "metadata": {
    "ExecuteTime": {
     "end_time": "2021-05-22T14:28:22.642862Z",
     "start_time": "2021-05-22T14:28:22.611137Z"
    },
    "scrolled": true
   },
   "outputs": [
    {
     "name": "stdout",
     "output_type": "stream",
     "text": [
      "<class 'pandas.core.frame.DataFrame'>\n",
      "RangeIndex: 3998 entries, 0 to 3997\n",
      "Data columns (total 38 columns):\n",
      " #   Column                 Non-Null Count  Dtype         \n",
      "---  ------                 --------------  -----         \n",
      " 0   ID                     3998 non-null   int64         \n",
      " 1   Salary                 3998 non-null   int64         \n",
      " 2   DOJ                    3998 non-null   datetime64[ns]\n",
      " 3   DOL                    3998 non-null   object        \n",
      " 4   Designation            3998 non-null   object        \n",
      " 5   JobCity                3998 non-null   object        \n",
      " 6   Gender                 3998 non-null   object        \n",
      " 7   DOB                    3998 non-null   datetime64[ns]\n",
      " 8   10percentage           3998 non-null   float64       \n",
      " 9   10board                3998 non-null   object        \n",
      " 10  12graduation           3998 non-null   int64         \n",
      " 11  12percentage           3998 non-null   float64       \n",
      " 12  12board                3998 non-null   object        \n",
      " 13  CollegeID              3998 non-null   int64         \n",
      " 14  CollegeTier            3998 non-null   int64         \n",
      " 15  Degree                 3998 non-null   object        \n",
      " 16  Specialization         3998 non-null   object        \n",
      " 17  collegeGPA             3998 non-null   float64       \n",
      " 18  CollegeCityID          3998 non-null   int64         \n",
      " 19  CollegeCityTier        3998 non-null   int64         \n",
      " 20  CollegeState           3998 non-null   object        \n",
      " 21  GraduationYear         3998 non-null   int64         \n",
      " 22  English                3998 non-null   int64         \n",
      " 23  Logical                3998 non-null   int64         \n",
      " 24  Quant                  3998 non-null   int64         \n",
      " 25  Domain                 3998 non-null   float64       \n",
      " 26  ComputerProgramming    3998 non-null   int64         \n",
      " 27  ElectronicsAndSemicon  3998 non-null   int64         \n",
      " 28  ComputerScience        3998 non-null   int64         \n",
      " 29  MechanicalEngg         3998 non-null   int64         \n",
      " 30  ElectricalEngg         3998 non-null   int64         \n",
      " 31  TelecomEngg            3998 non-null   int64         \n",
      " 32  CivilEngg              3998 non-null   int64         \n",
      " 33  conscientiousness      3998 non-null   float64       \n",
      " 34  agreeableness          3998 non-null   float64       \n",
      " 35  extraversion           3998 non-null   float64       \n",
      " 36  nueroticism            3998 non-null   float64       \n",
      " 37  openess_to_experience  3998 non-null   float64       \n",
      "dtypes: datetime64[ns](2), float64(9), int64(18), object(9)\n",
      "memory usage: 1.2+ MB\n"
     ]
    }
   ],
   "source": [
    "df.info()"
   ]
  },
  {
   "cell_type": "code",
   "execution_count": 629,
   "id": "swiss-piece",
   "metadata": {
    "ExecuteTime": {
     "end_time": "2021-05-25T09:43:24.997726Z",
     "start_time": "2021-05-25T09:43:24.935894Z"
    }
   },
   "outputs": [
    {
     "data": {
      "text/plain": [
       "Bangalore        627\n",
       "-1               461\n",
       "Noida            368\n",
       "Hyderabad        335\n",
       "Pune             290\n",
       "Chennai          272\n",
       "Gurgaon          198\n",
       "New Delhi        196\n",
       "Mumbai           108\n",
       "Kolkata           98\n",
       "Jaipur            46\n",
       "Lucknow           36\n",
       "Mysore            36\n",
       "Navi Mumbai       32\n",
       "chennai           27\n",
       "pune              26\n",
       "Greater Noida     26\n",
       "Chandigarh        26\n",
       "Indore            24\n",
       "Bhubaneswar       22\n",
       "Name: JobCity, dtype: int64"
      ]
     },
     "execution_count": 629,
     "metadata": {},
     "output_type": "execute_result"
    }
   ],
   "source": [
    "df.JobCity.value_counts()[:20] #top 20 city names with most of the employees workng"
   ]
  },
  {
   "cell_type": "code",
   "execution_count": 83,
   "id": "liquid-collector",
   "metadata": {
    "ExecuteTime": {
     "end_time": "2021-05-22T14:28:30.151131Z",
     "start_time": "2021-05-22T14:28:30.083254Z"
    },
    "scrolled": true
   },
   "outputs": [
    {
     "data": {
      "text/html": [
       "<div>\n",
       "<style scoped>\n",
       "    .dataframe tbody tr th:only-of-type {\n",
       "        vertical-align: middle;\n",
       "    }\n",
       "\n",
       "    .dataframe tbody tr th {\n",
       "        vertical-align: top;\n",
       "    }\n",
       "\n",
       "    .dataframe thead th {\n",
       "        text-align: right;\n",
       "    }\n",
       "</style>\n",
       "<table border=\"1\" class=\"dataframe\">\n",
       "  <thead>\n",
       "    <tr style=\"text-align: right;\">\n",
       "      <th></th>\n",
       "      <th>ID</th>\n",
       "      <th>Salary</th>\n",
       "      <th>DOJ</th>\n",
       "      <th>DOL</th>\n",
       "      <th>Designation</th>\n",
       "      <th>JobCity</th>\n",
       "      <th>Gender</th>\n",
       "      <th>DOB</th>\n",
       "      <th>10percentage</th>\n",
       "      <th>10board</th>\n",
       "      <th>...</th>\n",
       "      <th>ComputerScience</th>\n",
       "      <th>MechanicalEngg</th>\n",
       "      <th>ElectricalEngg</th>\n",
       "      <th>TelecomEngg</th>\n",
       "      <th>CivilEngg</th>\n",
       "      <th>conscientiousness</th>\n",
       "      <th>agreeableness</th>\n",
       "      <th>extraversion</th>\n",
       "      <th>nueroticism</th>\n",
       "      <th>openess_to_experience</th>\n",
       "    </tr>\n",
       "  </thead>\n",
       "  <tbody>\n",
       "    <tr>\n",
       "      <th>15</th>\n",
       "      <td>536517</td>\n",
       "      <td>350000</td>\n",
       "      <td>2013-08-01</td>\n",
       "      <td>present</td>\n",
       "      <td>network engineer</td>\n",
       "      <td>-1</td>\n",
       "      <td>f</td>\n",
       "      <td>1990-01-17</td>\n",
       "      <td>69.54</td>\n",
       "      <td>icse</td>\n",
       "      <td>...</td>\n",
       "      <td>-1</td>\n",
       "      <td>-1</td>\n",
       "      <td>-1</td>\n",
       "      <td>-1</td>\n",
       "      <td>-1</td>\n",
       "      <td>1.7465</td>\n",
       "      <td>1.9048</td>\n",
       "      <td>0.6720</td>\n",
       "      <td>-0.29020</td>\n",
       "      <td>1.2528</td>\n",
       "    </tr>\n",
       "    <tr>\n",
       "      <th>21</th>\n",
       "      <td>339689</td>\n",
       "      <td>200000</td>\n",
       "      <td>2012-08-01</td>\n",
       "      <td>2013-12-01 00:00:00</td>\n",
       "      <td>software engineer</td>\n",
       "      <td>-1</td>\n",
       "      <td>f</td>\n",
       "      <td>1991-08-20</td>\n",
       "      <td>75.67</td>\n",
       "      <td>up</td>\n",
       "      <td>...</td>\n",
       "      <td>-1</td>\n",
       "      <td>-1</td>\n",
       "      <td>-1</td>\n",
       "      <td>-1</td>\n",
       "      <td>-1</td>\n",
       "      <td>-1.0355</td>\n",
       "      <td>-0.5913</td>\n",
       "      <td>-1.3599</td>\n",
       "      <td>0.06223</td>\n",
       "      <td>-1.3539</td>\n",
       "    </tr>\n",
       "    <tr>\n",
       "      <th>39</th>\n",
       "      <td>533417</td>\n",
       "      <td>200000</td>\n",
       "      <td>2013-01-01</td>\n",
       "      <td>2013-06-01 00:00:00</td>\n",
       "      <td>management trainee</td>\n",
       "      <td>-1</td>\n",
       "      <td>m</td>\n",
       "      <td>1991-02-28</td>\n",
       "      <td>88.00</td>\n",
       "      <td>kerala state technical education</td>\n",
       "      <td>...</td>\n",
       "      <td>-1</td>\n",
       "      <td>-1</td>\n",
       "      <td>-1</td>\n",
       "      <td>-1</td>\n",
       "      <td>-1</td>\n",
       "      <td>0.3941</td>\n",
       "      <td>1.2808</td>\n",
       "      <td>0.2366</td>\n",
       "      <td>-2.19980</td>\n",
       "      <td>-0.4455</td>\n",
       "    </tr>\n",
       "    <tr>\n",
       "      <th>77</th>\n",
       "      <td>754392</td>\n",
       "      <td>120000</td>\n",
       "      <td>2014-07-01</td>\n",
       "      <td>present</td>\n",
       "      <td>test engineer</td>\n",
       "      <td>-1</td>\n",
       "      <td>m</td>\n",
       "      <td>1992-02-18</td>\n",
       "      <td>76.00</td>\n",
       "      <td>state board</td>\n",
       "      <td>...</td>\n",
       "      <td>-1</td>\n",
       "      <td>-1</td>\n",
       "      <td>-1</td>\n",
       "      <td>-1</td>\n",
       "      <td>-1</td>\n",
       "      <td>-0.1590</td>\n",
       "      <td>-0.2871</td>\n",
       "      <td>0.4711</td>\n",
       "      <td>0.27270</td>\n",
       "      <td>-0.4776</td>\n",
       "    </tr>\n",
       "    <tr>\n",
       "      <th>79</th>\n",
       "      <td>1089852</td>\n",
       "      <td>100000</td>\n",
       "      <td>2013-08-01</td>\n",
       "      <td>2014-05-01 00:00:00</td>\n",
       "      <td>software developer</td>\n",
       "      <td>-1</td>\n",
       "      <td>f</td>\n",
       "      <td>1992-05-17</td>\n",
       "      <td>86.00</td>\n",
       "      <td>state board</td>\n",
       "      <td>...</td>\n",
       "      <td>-1</td>\n",
       "      <td>-1</td>\n",
       "      <td>-1</td>\n",
       "      <td>-1</td>\n",
       "      <td>-1</td>\n",
       "      <td>0.5591</td>\n",
       "      <td>-0.4536</td>\n",
       "      <td>0.0100</td>\n",
       "      <td>-0.48790</td>\n",
       "      <td>0.6721</td>\n",
       "    </tr>\n",
       "    <tr>\n",
       "      <th>...</th>\n",
       "      <td>...</td>\n",
       "      <td>...</td>\n",
       "      <td>...</td>\n",
       "      <td>...</td>\n",
       "      <td>...</td>\n",
       "      <td>...</td>\n",
       "      <td>...</td>\n",
       "      <td>...</td>\n",
       "      <td>...</td>\n",
       "      <td>...</td>\n",
       "      <td>...</td>\n",
       "      <td>...</td>\n",
       "      <td>...</td>\n",
       "      <td>...</td>\n",
       "      <td>...</td>\n",
       "      <td>...</td>\n",
       "      <td>...</td>\n",
       "      <td>...</td>\n",
       "      <td>...</td>\n",
       "      <td>...</td>\n",
       "      <td>...</td>\n",
       "    </tr>\n",
       "    <tr>\n",
       "      <th>3937</th>\n",
       "      <td>385546</td>\n",
       "      <td>205000</td>\n",
       "      <td>2012-10-01</td>\n",
       "      <td>2014-02-01 00:00:00</td>\n",
       "      <td>production engineer</td>\n",
       "      <td>-1</td>\n",
       "      <td>m</td>\n",
       "      <td>1991-01-13</td>\n",
       "      <td>84.80</td>\n",
       "      <td>cbse</td>\n",
       "      <td>...</td>\n",
       "      <td>-1</td>\n",
       "      <td>-1</td>\n",
       "      <td>-1</td>\n",
       "      <td>233</td>\n",
       "      <td>-1</td>\n",
       "      <td>0.1623</td>\n",
       "      <td>0.0328</td>\n",
       "      <td>-0.3440</td>\n",
       "      <td>-1.05410</td>\n",
       "      <td>0.5024</td>\n",
       "    </tr>\n",
       "    <tr>\n",
       "      <th>3942</th>\n",
       "      <td>1067015</td>\n",
       "      <td>280000</td>\n",
       "      <td>2013-07-01</td>\n",
       "      <td>present</td>\n",
       "      <td>software engineer</td>\n",
       "      <td>-1</td>\n",
       "      <td>m</td>\n",
       "      <td>1990-03-17</td>\n",
       "      <td>78.00</td>\n",
       "      <td>state board</td>\n",
       "      <td>...</td>\n",
       "      <td>346</td>\n",
       "      <td>-1</td>\n",
       "      <td>-1</td>\n",
       "      <td>-1</td>\n",
       "      <td>-1</td>\n",
       "      <td>1.7081</td>\n",
       "      <td>-0.9531</td>\n",
       "      <td>0.1637</td>\n",
       "      <td>-1.62890</td>\n",
       "      <td>-0.8608</td>\n",
       "    </tr>\n",
       "    <tr>\n",
       "      <th>3954</th>\n",
       "      <td>531726</td>\n",
       "      <td>310000</td>\n",
       "      <td>2014-04-01</td>\n",
       "      <td>2015-04-01 00:00:00</td>\n",
       "      <td>business intelligence analyst</td>\n",
       "      <td>-1</td>\n",
       "      <td>f</td>\n",
       "      <td>1992-11-15</td>\n",
       "      <td>88.40</td>\n",
       "      <td>ssc</td>\n",
       "      <td>...</td>\n",
       "      <td>-1</td>\n",
       "      <td>-1</td>\n",
       "      <td>-1</td>\n",
       "      <td>393</td>\n",
       "      <td>-1</td>\n",
       "      <td>0.8192</td>\n",
       "      <td>0.6568</td>\n",
       "      <td>0.9623</td>\n",
       "      <td>-0.29020</td>\n",
       "      <td>0.0679</td>\n",
       "    </tr>\n",
       "    <tr>\n",
       "      <th>3973</th>\n",
       "      <td>755067</td>\n",
       "      <td>335000</td>\n",
       "      <td>2013-08-01</td>\n",
       "      <td>present</td>\n",
       "      <td>programmer analyst</td>\n",
       "      <td>-1</td>\n",
       "      <td>m</td>\n",
       "      <td>1990-05-20</td>\n",
       "      <td>66.85</td>\n",
       "      <td>state board</td>\n",
       "      <td>...</td>\n",
       "      <td>-1</td>\n",
       "      <td>-1</td>\n",
       "      <td>-1</td>\n",
       "      <td>-1</td>\n",
       "      <td>-1</td>\n",
       "      <td>0.2718</td>\n",
       "      <td>-0.1206</td>\n",
       "      <td>-1.2196</td>\n",
       "      <td>-0.36120</td>\n",
       "      <td>-0.6692</td>\n",
       "    </tr>\n",
       "    <tr>\n",
       "      <th>3974</th>\n",
       "      <td>641821</td>\n",
       "      <td>180000</td>\n",
       "      <td>2013-06-01</td>\n",
       "      <td>2014-07-01 00:00:00</td>\n",
       "      <td>quality engineer</td>\n",
       "      <td>-1</td>\n",
       "      <td>m</td>\n",
       "      <td>1991-06-09</td>\n",
       "      <td>70.80</td>\n",
       "      <td>cbse</td>\n",
       "      <td>...</td>\n",
       "      <td>-1</td>\n",
       "      <td>-1</td>\n",
       "      <td>-1</td>\n",
       "      <td>-1</td>\n",
       "      <td>-1</td>\n",
       "      <td>-0.0154</td>\n",
       "      <td>-1.1196</td>\n",
       "      <td>0.6248</td>\n",
       "      <td>-0.48790</td>\n",
       "      <td>-1.4356</td>\n",
       "    </tr>\n",
       "  </tbody>\n",
       "</table>\n",
       "<p>461 rows × 38 columns</p>\n",
       "</div>"
      ],
      "text/plain": [
       "           ID  Salary        DOJ                  DOL  \\\n",
       "15     536517  350000 2013-08-01              present   \n",
       "21     339689  200000 2012-08-01  2013-12-01 00:00:00   \n",
       "39     533417  200000 2013-01-01  2013-06-01 00:00:00   \n",
       "77     754392  120000 2014-07-01              present   \n",
       "79    1089852  100000 2013-08-01  2014-05-01 00:00:00   \n",
       "...       ...     ...        ...                  ...   \n",
       "3937   385546  205000 2012-10-01  2014-02-01 00:00:00   \n",
       "3942  1067015  280000 2013-07-01              present   \n",
       "3954   531726  310000 2014-04-01  2015-04-01 00:00:00   \n",
       "3973   755067  335000 2013-08-01              present   \n",
       "3974   641821  180000 2013-06-01  2014-07-01 00:00:00   \n",
       "\n",
       "                        Designation JobCity Gender        DOB  10percentage  \\\n",
       "15                 network engineer      -1      f 1990-01-17         69.54   \n",
       "21                software engineer      -1      f 1991-08-20         75.67   \n",
       "39               management trainee      -1      m 1991-02-28         88.00   \n",
       "77                    test engineer      -1      m 1992-02-18         76.00   \n",
       "79               software developer      -1      f 1992-05-17         86.00   \n",
       "...                             ...     ...    ...        ...           ...   \n",
       "3937            production engineer      -1      m 1991-01-13         84.80   \n",
       "3942              software engineer      -1      m 1990-03-17         78.00   \n",
       "3954  business intelligence analyst      -1      f 1992-11-15         88.40   \n",
       "3973             programmer analyst      -1      m 1990-05-20         66.85   \n",
       "3974               quality engineer      -1      m 1991-06-09         70.80   \n",
       "\n",
       "                               10board  ...  ComputerScience  MechanicalEngg  \\\n",
       "15                                icse  ...               -1              -1   \n",
       "21                                  up  ...               -1              -1   \n",
       "39    kerala state technical education  ...               -1              -1   \n",
       "77                         state board  ...               -1              -1   \n",
       "79                         state board  ...               -1              -1   \n",
       "...                                ...  ...              ...             ...   \n",
       "3937                              cbse  ...               -1              -1   \n",
       "3942                       state board  ...              346              -1   \n",
       "3954                               ssc  ...               -1              -1   \n",
       "3973                       state board  ...               -1              -1   \n",
       "3974                              cbse  ...               -1              -1   \n",
       "\n",
       "     ElectricalEngg  TelecomEngg  CivilEngg conscientiousness agreeableness  \\\n",
       "15               -1           -1         -1            1.7465        1.9048   \n",
       "21               -1           -1         -1           -1.0355       -0.5913   \n",
       "39               -1           -1         -1            0.3941        1.2808   \n",
       "77               -1           -1         -1           -0.1590       -0.2871   \n",
       "79               -1           -1         -1            0.5591       -0.4536   \n",
       "...             ...          ...        ...               ...           ...   \n",
       "3937             -1          233         -1            0.1623        0.0328   \n",
       "3942             -1           -1         -1            1.7081       -0.9531   \n",
       "3954             -1          393         -1            0.8192        0.6568   \n",
       "3973             -1           -1         -1            0.2718       -0.1206   \n",
       "3974             -1           -1         -1           -0.0154       -1.1196   \n",
       "\n",
       "      extraversion  nueroticism  openess_to_experience  \n",
       "15          0.6720     -0.29020                 1.2528  \n",
       "21         -1.3599      0.06223                -1.3539  \n",
       "39          0.2366     -2.19980                -0.4455  \n",
       "77          0.4711      0.27270                -0.4776  \n",
       "79          0.0100     -0.48790                 0.6721  \n",
       "...            ...          ...                    ...  \n",
       "3937       -0.3440     -1.05410                 0.5024  \n",
       "3942        0.1637     -1.62890                -0.8608  \n",
       "3954        0.9623     -0.29020                 0.0679  \n",
       "3973       -1.2196     -0.36120                -0.6692  \n",
       "3974        0.6248     -0.48790                -1.4356  \n",
       "\n",
       "[461 rows x 38 columns]"
      ]
     },
     "execution_count": 83,
     "metadata": {},
     "output_type": "execute_result"
    }
   ],
   "source": [
    "# there is an abnormal activity in \"JobCity\" column provide with value '-1'\n",
    "\n",
    "df[df['JobCity']==-1]"
   ]
  },
  {
   "cell_type": "code",
   "execution_count": 84,
   "id": "special-usage",
   "metadata": {
    "ExecuteTime": {
     "end_time": "2021-05-22T14:28:34.322464Z",
     "start_time": "2021-05-22T14:28:34.313520Z"
    }
   },
   "outputs": [
    {
     "data": {
      "text/plain": [
       "339"
      ]
     },
     "execution_count": 84,
     "metadata": {},
     "output_type": "execute_result"
    }
   ],
   "source": [
    "df['JobCity'].nunique() # data shows there are 339 types of different cities where people are working"
   ]
  },
  {
   "cell_type": "code",
   "execution_count": 85,
   "id": "tired-samoa",
   "metadata": {
    "ExecuteTime": {
     "end_time": "2021-05-22T14:28:37.140200Z",
     "start_time": "2021-05-22T14:28:37.128088Z"
    },
    "scrolled": true
   },
   "outputs": [
    {
     "data": {
      "text/plain": [
       "array(['Bangalore', 'Indore', 'Chennai', 'Gurgaon', 'Manesar',\n",
       "       'Hyderabad', 'Banglore', 'Noida', 'Kolkata', 'Pune', -1, 'mohali',\n",
       "       'Jhansi', 'Delhi', 'Hyderabad ', 'Bangalore ', 'noida', 'delhi',\n",
       "       'Bhubaneswar', 'Navi Mumbai', 'Mumbai', 'New Delhi', 'Mangalore',\n",
       "       'Rewari', 'Gaziabaad', 'Bhiwadi', 'Mysore', 'Rajkot',\n",
       "       'Greater Noida', 'Jaipur', 'noida ', 'HYDERABAD', 'mysore',\n",
       "       'THANE', 'Maharajganj', 'Thiruvananthapuram', 'Punchkula',\n",
       "       'Bhubaneshwar', 'Pune ', 'coimbatore', 'Dhanbad', 'Lucknow',\n",
       "       'Trivandrum', 'kolkata', 'mumbai', 'Gandhi Nagar', 'Una',\n",
       "       'Daman and Diu', 'chennai', 'GURGOAN', 'vsakhapttnam', 'pune',\n",
       "       'Nagpur', 'Bhagalpur', 'new delhi - jaisalmer', 'Coimbatore',\n",
       "       'Ahmedabad', 'Kochi/Cochin', 'Bankura', 'Bengaluru', 'Mysore ',\n",
       "       'Kanpur ', 'jaipur', 'Gurgaon ', 'bangalore', 'CHENNAI',\n",
       "       'Vijayawada', 'Kochi', 'Beawar', 'Alwar', 'NOIDA', 'Greater noida',\n",
       "       'Siliguri ', 'raipur', 'gurgaon', 'Bhopal', 'Faridabad', 'Jodhpur',\n",
       "       'udaipur', 'Muzaffarpur', 'Kolkata`', 'Bulandshahar', 'Haridwar',\n",
       "       'Raigarh', 'Visakhapatnam', 'Jabalpur', 'hyderabad', 'Unnao',\n",
       "       'KOLKATA', 'Thane', 'Aurangabad', 'Belgaum', 'gurgoan', 'Dehradun',\n",
       "       'Rudrapur', 'Jamshedpur', 'vizag', 'Nouda', 'Dharamshala',\n",
       "       'Banagalore', 'Hissar', 'Ranchi', 'BANGALORE', 'Madurai', 'Gurga',\n",
       "       'Chandigarh', 'Australia', ' Chennai', 'CHEYYAR', 'Mumbai ',\n",
       "       'sonepat', 'Ghaziabad', 'Pantnagar', 'Siliguri', 'mumbai ',\n",
       "       'Jagdalpur', 'Chennai ', 'angul', 'Baroda', ' ariyalur', 'Jowai',\n",
       "       'Kochi/Cochin, Chennai and Coimbatore', 'bhubaneswar', 'Neemrana',\n",
       "       'VIZAG', 'Tirupathi', 'Lucknow ', 'Ahmedabad ', 'Bhubneshwar',\n",
       "       'Noida ', 'pune ', 'Calicut', 'Gandhinagar', 'LUCKNOW', 'Dubai',\n",
       "       'bengaluru', 'MUMBAI', 'Ahmednagar', 'Nashik', 'New delhi',\n",
       "       'Bellary', 'Ludhiana', 'New Delhi ', 'Muzaffarnagar', 'BHOPAL',\n",
       "       'Gurgoan', 'Gagret', 'Indirapuram, Ghaziabad', 'Gwalior',\n",
       "       'new delhi', 'TRIVANDRUM', 'Chennai & Mumbai', 'Rajasthan',\n",
       "       'Sonipat', 'Bareli', 'Kanpur', 'Hospete', 'Miryalaguda', ' mumbai',\n",
       "       'Dharuhera', 'lucknow', 'meerut', 'dehradun', 'Ganjam', 'Hubli',\n",
       "       'bangalore ', 'NAVI MUMBAI', 'ncr', 'Agra', 'Trichy',\n",
       "       'kudankulam ,tarapur', 'Ongole', 'Sambalpur', 'Pondicherry',\n",
       "       'Bundi', 'SADULPUR,RAJGARH,DISTT-CHURU,RAJASTHAN', 'AM', 'Bikaner',\n",
       "       'Vadodara', 'BAngalore', 'india', 'Asansol', 'Tirunelvelli',\n",
       "       'Ernakulam', 'DELHI', 'Bilaspur', 'Chandrapur', 'Nanded',\n",
       "       'Dharmapuri', 'Vandavasi', 'Rohtak', 'trivandrum', 'Nagpur ',\n",
       "       'Udaipur', 'Patna', 'banglore', 'indore', 'Salem', 'Nasikcity',\n",
       "       'Gandhinagar ', 'Technopark, Trivandrum', 'Bharuch', 'Tornagallu',\n",
       "       'Raipur', 'Kolkata ', 'Jaspur', 'Burdwan', 'Bhubaneswar ',\n",
       "       'Shimla', 'ahmedabad', 'Gajiabaad', 'Jammu', 'Shahdol',\n",
       "       'Muvattupuzha', 'Al Jubail,Saudi Arabia', 'Kalmar, Sweden',\n",
       "       'Secunderabad', 'A-64,sec-64,noida', 'Ratnagiri', 'Jhajjar',\n",
       "       'Gulbarga', 'hyderabad(bhadurpally)', 'Nalagarh', 'Chandigarh ',\n",
       "       'Jaipur ', 'Jeddah Saudi Arabia', ' Delhi', 'PATNA', 'SHAHDOL',\n",
       "       'Chennai, Bangalore', 'Bhopal ', 'Jamnagar', 'PUNE', 'Tirupati',\n",
       "       'Gonda', 'jamnagar', 'chennai ', 'orissa', 'kharagpur',\n",
       "       'Trivandrum ', 'Navi Mumbai , Hyderabad', 'Joshimath',\n",
       "       'chandigarh', 'Bathinda', 'Johannesburg', 'kala amb ', 'Karnal',\n",
       "       'LONDON', 'Kota', 'Panchkula', 'Baddi HP', 'Nagari',\n",
       "       'Mettur, Tamil Nadu ', 'Durgapur', 'pondi', 'Surat', 'Kurnool',\n",
       "       'kolhapur', 'Madurai ', 'GREATER NOIDA', 'Bhilai', ' Pune',\n",
       "       'hderabad', 'KOTA', 'thane', 'Vizag', 'Bahadurgarh',\n",
       "       'Rayagada, Odisha', 'kakinada', 'GURGAON', 'Varanasi', 'punr',\n",
       "       'Nellore', 'patna', 'Meerut', 'hyderabad ', 'Sahibabad', 'Howrah',\n",
       "       'BHUBANESWAR', 'Trichur', 'Ambala', 'Khopoli', 'keral', 'Roorkee',\n",
       "       'Greater NOIDA', 'Navi mumbai', 'ghaziabad', 'Allahabad',\n",
       "       'Delhi/NCR', 'Panchkula ', 'Ranchi ', 'Jalandhar', 'manesar',\n",
       "       'vapi', 'PILANI', 'muzzafarpur', 'RAS AL KHAIMAH', 'bihar',\n",
       "       'singaruli', 'KANPUR', 'Banglore ', 'pondy', 'Mohali', 'Phagwara',\n",
       "       ' Mumbai', ' bangalore', 'GURAGAON', 'Baripada', 'MEERUT',\n",
       "       'Yamuna Nagar', 'shahibabad', 'sampla', 'Guwahati', 'Rourkela',\n",
       "       'Banaglore', 'Vellore', 'Dausa', 'latur (Maharashtra )',\n",
       "       'NEW DELHI', 'kanpur', 'Mainpuri', 'karnal', 'Dammam', 'Haldia',\n",
       "       'sambalpur', 'RAE BARELI', 'ranchi', 'jAipur', 'BANGLORE',\n",
       "       'Patiala', 'Gorakhpur', 'new dehli', 'BANGALORE ', 'Ambala City',\n",
       "       'Karad', 'Rajpura', 'Pilani', 'haryana', 'Asifabadbanglore'],\n",
       "      dtype=object)"
      ]
     },
     "execution_count": 85,
     "metadata": {},
     "output_type": "execute_result"
    }
   ],
   "source": [
    "df['JobCity'].unique() # we can observe here as same city names in the data provided"
   ]
  },
  {
   "cell_type": "markdown",
   "id": "oriented-branch",
   "metadata": {},
   "source": [
    " $ from \\ data \\ it \\ is \\ given \\ that \\ there \\ are \\ 339 \\ unique \\ number \\ of \\ cities \\ but \\ there \\ are \\ with \\ same \\ cities \\ names  $"
   ]
  },
  {
   "cell_type": "markdown",
   "id": "cultural-stationery",
   "metadata": {},
   "source": [
    " "
   ]
  },
  {
   "cell_type": "code",
   "execution_count": 213,
   "id": "tutorial-hacker",
   "metadata": {
    "ExecuteTime": {
     "end_time": "2021-05-23T02:00:03.497658Z",
     "start_time": "2021-05-23T02:00:03.482699Z"
    },
    "scrolled": true
   },
   "outputs": [
    {
     "data": {
      "text/plain": [
       "ID                                          48107\n",
       "Salary                                    4000000\n",
       "DOJ                           2010-07-01 00:00:00\n",
       "DOL                           2015-03-01 00:00:00\n",
       "Designation              senior software engineer\n",
       "JobCity                                 New Delhi\n",
       "Gender                                          m\n",
       "DOB                           1987-09-09 00:00:00\n",
       "10percentage                                90.83\n",
       "10board                                      rbse\n",
       "12graduation                                 2005\n",
       "12percentage                                88.77\n",
       "12board                                      rbse\n",
       "CollegeID                                    2857\n",
       "CollegeTier                                     1\n",
       "Degree                                B.Tech/B.E.\n",
       "Specialization               computer engineering\n",
       "collegeGPA                                   72.6\n",
       "CollegeCityID                                2857\n",
       "CollegeCityTier                                 1\n",
       "CollegeState                            Rajasthan\n",
       "GraduationYear                               2010\n",
       "English                                       675\n",
       "Logical                                       685\n",
       "Quant                                         585\n",
       "Domain                                   0.990009\n",
       "ComputerProgramming                           655\n",
       "ElectronicsAndSemicon                          -1\n",
       "ComputerScience                                -1\n",
       "MechanicalEngg                                 -1\n",
       "ElectricalEngg                                 -1\n",
       "TelecomEngg                                    -1\n",
       "CivilEngg                                      -1\n",
       "conscientiousness                         -0.7264\n",
       "agreeableness                              0.0328\n",
       "extraversion                              -1.6502\n",
       "nueroticism                               -0.8778\n",
       "openess_to_experience                     -0.1295\n",
       "Age                                            23\n",
       "Name: 1237, dtype: object"
      ]
     },
     "execution_count": 213,
     "metadata": {},
     "output_type": "execute_result"
    }
   ],
   "source": [
    "high_sal = df['Salary'].idxmax() # 'idxmax' helps in finding the index of the maximum value across any index\n",
    "df.loc[high_sal]"
   ]
  },
  {
   "cell_type": "markdown",
   "id": "broad-forge",
   "metadata": {},
   "source": [
    "$ here \\ the \\ cell \\ showing \\ complete \\ details \\ of \\ a \\ person \\ with \\ highest \\ salary \\ from \\ index$"
   ]
  },
  {
   "cell_type": "markdown",
   "id": "split-chester",
   "metadata": {},
   "source": [
    " "
   ]
  },
  {
   "cell_type": "code",
   "execution_count": 105,
   "id": "american-alpha",
   "metadata": {
    "ExecuteTime": {
     "end_time": "2021-05-22T15:05:23.652529Z",
     "start_time": "2021-05-22T15:05:23.331386Z"
    }
   },
   "outputs": [
    {
     "data": {
      "text/plain": [
       "<AxesSubplot:>"
      ]
     },
     "execution_count": 105,
     "metadata": {},
     "output_type": "execute_result"
    },
    {
     "data": {
      "image/png": "[encoded data removed]",
      "text/plain": [
       "<Figure size 432x288 with 1 Axes>"
      ]
     },
     "metadata": {
      "needs_background": "light"
     },
     "output_type": "display_data"
    }
   ],
   "source": [
    "(df['DOJ'].dt.year).value_counts().plot(kind='bar') # year wise date of joining"
   ]
  },
  {
   "cell_type": "markdown",
   "id": "cleared-motorcycle",
   "metadata": {},
   "source": [
    " $ in \\ 2014 \\ highest \\ number \\ of \\ students \\ had \\ joined \\ companies $ "
   ]
  },
  {
   "cell_type": "code",
   "execution_count": 104,
   "id": "usual-barrel",
   "metadata": {
    "ExecuteTime": {
     "end_time": "2021-05-22T14:55:27.039444Z",
     "start_time": "2021-05-22T14:55:26.689311Z"
    }
   },
   "outputs": [
    {
     "data": {
      "text/plain": [
       "<AxesSubplot:>"
      ]
     },
     "execution_count": 104,
     "metadata": {},
     "output_type": "execute_result"
    },
    {
     "data": {
      "image/png": "[encoded data removed]",
      "text/plain": [
       "<Figure size 432x288 with 1 Axes>"
      ]
     },
     "metadata": {
      "needs_background": "light"
     },
     "output_type": "display_data"
    }
   ],
   "source": [
    "(df['DOJ'].dt.month).value_counts().plot(kind='bar')"
   ]
  },
  {
   "cell_type": "markdown",
   "id": "stupid-farming",
   "metadata": {},
   "source": [
    " $ in \\ the \\ sevent \\ month \\ ie,August \\ large \\ number \\ of \\ students \\ had \\ got \\ their \\ Joining \\ date \\ following \\ by \\ 8th \\ month  \\ and \\ also \\ 6th \\ month, \\ this \\ analysis \\ is \\ from \\ all \\ the \\ joining \\ years.$"
   ]
  },
  {
   "cell_type": "code",
   "execution_count": 126,
   "id": "fundamental-undergraduate",
   "metadata": {
    "ExecuteTime": {
     "end_time": "2021-05-22T16:35:14.791288Z",
     "start_time": "2021-05-22T16:35:14.365291Z"
    },
    "scrolled": true
   },
   "outputs": [
    {
     "data": {
      "text/plain": [
       "<AxesSubplot:>"
      ]
     },
     "execution_count": 126,
     "metadata": {},
     "output_type": "execute_result"
    },
    {
     "data": {
      "image/png": "[encoded data removed]",
      "text/plain": [
       "<Figure size 432x288 with 1 Axes>"
      ]
     },
     "metadata": {
      "needs_background": "light"
     },
     "output_type": "display_data"
    }
   ],
   "source": [
    "(df['DOB'].dt.year).value_counts().plot(kind='bar') # bar graph shows year wise from DOB of people "
   ]
  },
  {
   "cell_type": "code",
   "execution_count": 122,
   "id": "binary-appeal",
   "metadata": {
    "ExecuteTime": {
     "end_time": "2021-05-22T15:10:56.932365Z",
     "start_time": "2021-05-22T15:10:56.841609Z"
    },
    "scrolled": true
   },
   "outputs": [
    {
     "data": {
      "text/html": [
       "<div>\n",
       "<style scoped>\n",
       "    .dataframe tbody tr th:only-of-type {\n",
       "        vertical-align: middle;\n",
       "    }\n",
       "\n",
       "    .dataframe tbody tr th {\n",
       "        vertical-align: top;\n",
       "    }\n",
       "\n",
       "    .dataframe thead th {\n",
       "        text-align: right;\n",
       "    }\n",
       "</style>\n",
       "<table border=\"1\" class=\"dataframe\">\n",
       "  <thead>\n",
       "    <tr style=\"text-align: right;\">\n",
       "      <th></th>\n",
       "      <th>ID</th>\n",
       "      <th>Salary</th>\n",
       "      <th>DOJ</th>\n",
       "      <th>DOL</th>\n",
       "      <th>Designation</th>\n",
       "      <th>JobCity</th>\n",
       "      <th>Gender</th>\n",
       "      <th>DOB</th>\n",
       "      <th>10percentage</th>\n",
       "      <th>10board</th>\n",
       "      <th>...</th>\n",
       "      <th>ComputerScience</th>\n",
       "      <th>MechanicalEngg</th>\n",
       "      <th>ElectricalEngg</th>\n",
       "      <th>TelecomEngg</th>\n",
       "      <th>CivilEngg</th>\n",
       "      <th>conscientiousness</th>\n",
       "      <th>agreeableness</th>\n",
       "      <th>extraversion</th>\n",
       "      <th>nueroticism</th>\n",
       "      <th>openess_to_experience</th>\n",
       "    </tr>\n",
       "  </thead>\n",
       "  <tbody>\n",
       "    <tr>\n",
       "      <th>0</th>\n",
       "      <td>203097</td>\n",
       "      <td>420000</td>\n",
       "      <td>2012-06-01</td>\n",
       "      <td>present</td>\n",
       "      <td>senior quality engineer</td>\n",
       "      <td>Bangalore</td>\n",
       "      <td>f</td>\n",
       "      <td>1990-02-19</td>\n",
       "      <td>84.30</td>\n",
       "      <td>board ofsecondary education,ap</td>\n",
       "      <td>...</td>\n",
       "      <td>-1</td>\n",
       "      <td>-1</td>\n",
       "      <td>-1</td>\n",
       "      <td>-1</td>\n",
       "      <td>-1</td>\n",
       "      <td>0.9737</td>\n",
       "      <td>0.8128</td>\n",
       "      <td>0.5269</td>\n",
       "      <td>1.35490</td>\n",
       "      <td>-0.4455</td>\n",
       "    </tr>\n",
       "    <tr>\n",
       "      <th>1</th>\n",
       "      <td>579905</td>\n",
       "      <td>500000</td>\n",
       "      <td>2013-09-01</td>\n",
       "      <td>present</td>\n",
       "      <td>assistant manager</td>\n",
       "      <td>Indore</td>\n",
       "      <td>m</td>\n",
       "      <td>1989-10-04</td>\n",
       "      <td>85.40</td>\n",
       "      <td>cbse</td>\n",
       "      <td>...</td>\n",
       "      <td>-1</td>\n",
       "      <td>-1</td>\n",
       "      <td>-1</td>\n",
       "      <td>-1</td>\n",
       "      <td>-1</td>\n",
       "      <td>-0.7335</td>\n",
       "      <td>0.3789</td>\n",
       "      <td>1.2396</td>\n",
       "      <td>-0.10760</td>\n",
       "      <td>0.8637</td>\n",
       "    </tr>\n",
       "    <tr>\n",
       "      <th>2</th>\n",
       "      <td>810601</td>\n",
       "      <td>325000</td>\n",
       "      <td>2014-06-01</td>\n",
       "      <td>present</td>\n",
       "      <td>systems engineer</td>\n",
       "      <td>Chennai</td>\n",
       "      <td>f</td>\n",
       "      <td>1992-08-03</td>\n",
       "      <td>85.00</td>\n",
       "      <td>cbse</td>\n",
       "      <td>...</td>\n",
       "      <td>-1</td>\n",
       "      <td>-1</td>\n",
       "      <td>-1</td>\n",
       "      <td>-1</td>\n",
       "      <td>-1</td>\n",
       "      <td>0.2718</td>\n",
       "      <td>1.7109</td>\n",
       "      <td>0.1637</td>\n",
       "      <td>-0.86820</td>\n",
       "      <td>0.6721</td>\n",
       "    </tr>\n",
       "    <tr>\n",
       "      <th>3</th>\n",
       "      <td>267447</td>\n",
       "      <td>1100000</td>\n",
       "      <td>2011-07-01</td>\n",
       "      <td>present</td>\n",
       "      <td>senior software engineer</td>\n",
       "      <td>Gurgaon</td>\n",
       "      <td>m</td>\n",
       "      <td>1989-12-05</td>\n",
       "      <td>85.60</td>\n",
       "      <td>cbse</td>\n",
       "      <td>...</td>\n",
       "      <td>-1</td>\n",
       "      <td>-1</td>\n",
       "      <td>-1</td>\n",
       "      <td>-1</td>\n",
       "      <td>-1</td>\n",
       "      <td>0.0464</td>\n",
       "      <td>0.3448</td>\n",
       "      <td>-0.3440</td>\n",
       "      <td>-0.40780</td>\n",
       "      <td>-0.9194</td>\n",
       "    </tr>\n",
       "    <tr>\n",
       "      <th>5</th>\n",
       "      <td>1027655</td>\n",
       "      <td>300000</td>\n",
       "      <td>2014-06-01</td>\n",
       "      <td>present</td>\n",
       "      <td>system engineer</td>\n",
       "      <td>Hyderabad</td>\n",
       "      <td>m</td>\n",
       "      <td>1992-07-02</td>\n",
       "      <td>89.92</td>\n",
       "      <td>state board</td>\n",
       "      <td>...</td>\n",
       "      <td>407</td>\n",
       "      <td>-1</td>\n",
       "      <td>-1</td>\n",
       "      <td>-1</td>\n",
       "      <td>-1</td>\n",
       "      <td>-0.3027</td>\n",
       "      <td>-0.6201</td>\n",
       "      <td>-2.2954</td>\n",
       "      <td>-0.74150</td>\n",
       "      <td>-0.8608</td>\n",
       "    </tr>\n",
       "    <tr>\n",
       "      <th>...</th>\n",
       "      <td>...</td>\n",
       "      <td>...</td>\n",
       "      <td>...</td>\n",
       "      <td>...</td>\n",
       "      <td>...</td>\n",
       "      <td>...</td>\n",
       "      <td>...</td>\n",
       "      <td>...</td>\n",
       "      <td>...</td>\n",
       "      <td>...</td>\n",
       "      <td>...</td>\n",
       "      <td>...</td>\n",
       "      <td>...</td>\n",
       "      <td>...</td>\n",
       "      <td>...</td>\n",
       "      <td>...</td>\n",
       "      <td>...</td>\n",
       "      <td>...</td>\n",
       "      <td>...</td>\n",
       "      <td>...</td>\n",
       "      <td>...</td>\n",
       "    </tr>\n",
       "    <tr>\n",
       "      <th>3987</th>\n",
       "      <td>439787</td>\n",
       "      <td>280000</td>\n",
       "      <td>2012-11-01</td>\n",
       "      <td>present</td>\n",
       "      <td>network engineer</td>\n",
       "      <td>New Delhi</td>\n",
       "      <td>f</td>\n",
       "      <td>1990-01-16</td>\n",
       "      <td>86.70</td>\n",
       "      <td>cbse board</td>\n",
       "      <td>...</td>\n",
       "      <td>-1</td>\n",
       "      <td>-1</td>\n",
       "      <td>-1</td>\n",
       "      <td>-1</td>\n",
       "      <td>-1</td>\n",
       "      <td>-1.4992</td>\n",
       "      <td>-1.8393</td>\n",
       "      <td>-0.7794</td>\n",
       "      <td>1.47240</td>\n",
       "      <td>-2.3017</td>\n",
       "    </tr>\n",
       "    <tr>\n",
       "      <th>3989</th>\n",
       "      <td>1204604</td>\n",
       "      <td>300000</td>\n",
       "      <td>2014-09-01</td>\n",
       "      <td>present</td>\n",
       "      <td>software engineer</td>\n",
       "      <td>Bangalore</td>\n",
       "      <td>m</td>\n",
       "      <td>1991-11-23</td>\n",
       "      <td>74.88</td>\n",
       "      <td>state board</td>\n",
       "      <td>...</td>\n",
       "      <td>346</td>\n",
       "      <td>-1</td>\n",
       "      <td>-1</td>\n",
       "      <td>-1</td>\n",
       "      <td>-1</td>\n",
       "      <td>0.1282</td>\n",
       "      <td>0.0459</td>\n",
       "      <td>1.2396</td>\n",
       "      <td>1.03330</td>\n",
       "      <td>0.6721</td>\n",
       "    </tr>\n",
       "    <tr>\n",
       "      <th>3990</th>\n",
       "      <td>204287</td>\n",
       "      <td>480000</td>\n",
       "      <td>2012-02-01</td>\n",
       "      <td>present</td>\n",
       "      <td>senior systems engineer</td>\n",
       "      <td>Hyderabad</td>\n",
       "      <td>f</td>\n",
       "      <td>1989-09-04</td>\n",
       "      <td>88.00</td>\n",
       "      <td>0</td>\n",
       "      <td>...</td>\n",
       "      <td>-1</td>\n",
       "      <td>-1</td>\n",
       "      <td>-1</td>\n",
       "      <td>233</td>\n",
       "      <td>-1</td>\n",
       "      <td>0.6646</td>\n",
       "      <td>0.3448</td>\n",
       "      <td>0.3817</td>\n",
       "      <td>-1.34780</td>\n",
       "      <td>0.8183</td>\n",
       "    </tr>\n",
       "    <tr>\n",
       "      <th>3995</th>\n",
       "      <td>355888</td>\n",
       "      <td>320000</td>\n",
       "      <td>2013-07-01</td>\n",
       "      <td>present</td>\n",
       "      <td>associate software engineer</td>\n",
       "      <td>Bangalore</td>\n",
       "      <td>m</td>\n",
       "      <td>1991-07-03</td>\n",
       "      <td>81.86</td>\n",
       "      <td>bse,odisha</td>\n",
       "      <td>...</td>\n",
       "      <td>-1</td>\n",
       "      <td>-1</td>\n",
       "      <td>-1</td>\n",
       "      <td>-1</td>\n",
       "      <td>-1</td>\n",
       "      <td>-1.5765</td>\n",
       "      <td>-1.5273</td>\n",
       "      <td>-1.5051</td>\n",
       "      <td>-1.31840</td>\n",
       "      <td>-0.7615</td>\n",
       "    </tr>\n",
       "    <tr>\n",
       "      <th>3997</th>\n",
       "      <td>324966</td>\n",
       "      <td>400000</td>\n",
       "      <td>2013-02-01</td>\n",
       "      <td>present</td>\n",
       "      <td>senior systems engineer</td>\n",
       "      <td>Chennai</td>\n",
       "      <td>f</td>\n",
       "      <td>1991-02-26</td>\n",
       "      <td>70.60</td>\n",
       "      <td>cbse</td>\n",
       "      <td>...</td>\n",
       "      <td>-1</td>\n",
       "      <td>-1</td>\n",
       "      <td>-1</td>\n",
       "      <td>-1</td>\n",
       "      <td>-1</td>\n",
       "      <td>-1.1128</td>\n",
       "      <td>-0.2793</td>\n",
       "      <td>-0.6343</td>\n",
       "      <td>1.32553</td>\n",
       "      <td>-0.6035</td>\n",
       "    </tr>\n",
       "  </tbody>\n",
       "</table>\n",
       "<p>1875 rows × 38 columns</p>\n",
       "</div>"
      ],
      "text/plain": [
       "           ID   Salary        DOJ      DOL                  Designation  \\\n",
       "0      203097   420000 2012-06-01  present      senior quality engineer   \n",
       "1      579905   500000 2013-09-01  present            assistant manager   \n",
       "2      810601   325000 2014-06-01  present             systems engineer   \n",
       "3      267447  1100000 2011-07-01  present     senior software engineer   \n",
       "5     1027655   300000 2014-06-01  present              system engineer   \n",
       "...       ...      ...        ...      ...                          ...   \n",
       "3987   439787   280000 2012-11-01  present             network engineer   \n",
       "3989  1204604   300000 2014-09-01  present            software engineer   \n",
       "3990   204287   480000 2012-02-01  present      senior systems engineer   \n",
       "3995   355888   320000 2013-07-01  present  associate software engineer   \n",
       "3997   324966   400000 2013-02-01  present      senior systems engineer   \n",
       "\n",
       "        JobCity Gender        DOB  10percentage  \\\n",
       "0     Bangalore      f 1990-02-19         84.30   \n",
       "1        Indore      m 1989-10-04         85.40   \n",
       "2       Chennai      f 1992-08-03         85.00   \n",
       "3       Gurgaon      m 1989-12-05         85.60   \n",
       "5     Hyderabad      m 1992-07-02         89.92   \n",
       "...         ...    ...        ...           ...   \n",
       "3987  New Delhi      f 1990-01-16         86.70   \n",
       "3989  Bangalore      m 1991-11-23         74.88   \n",
       "3990  Hyderabad      f 1989-09-04         88.00   \n",
       "3995  Bangalore      m 1991-07-03         81.86   \n",
       "3997    Chennai      f 1991-02-26         70.60   \n",
       "\n",
       "                             10board  ...  ComputerScience  MechanicalEngg  \\\n",
       "0     board ofsecondary education,ap  ...               -1              -1   \n",
       "1                               cbse  ...               -1              -1   \n",
       "2                               cbse  ...               -1              -1   \n",
       "3                               cbse  ...               -1              -1   \n",
       "5                        state board  ...              407              -1   \n",
       "...                              ...  ...              ...             ...   \n",
       "3987                      cbse board  ...               -1              -1   \n",
       "3989                     state board  ...              346              -1   \n",
       "3990                               0  ...               -1              -1   \n",
       "3995                      bse,odisha  ...               -1              -1   \n",
       "3997                            cbse  ...               -1              -1   \n",
       "\n",
       "     ElectricalEngg  TelecomEngg  CivilEngg conscientiousness agreeableness  \\\n",
       "0                -1           -1         -1            0.9737        0.8128   \n",
       "1                -1           -1         -1           -0.7335        0.3789   \n",
       "2                -1           -1         -1            0.2718        1.7109   \n",
       "3                -1           -1         -1            0.0464        0.3448   \n",
       "5                -1           -1         -1           -0.3027       -0.6201   \n",
       "...             ...          ...        ...               ...           ...   \n",
       "3987             -1           -1         -1           -1.4992       -1.8393   \n",
       "3989             -1           -1         -1            0.1282        0.0459   \n",
       "3990             -1          233         -1            0.6646        0.3448   \n",
       "3995             -1           -1         -1           -1.5765       -1.5273   \n",
       "3997             -1           -1         -1           -1.1128       -0.2793   \n",
       "\n",
       "      extraversion  nueroticism  openess_to_experience  \n",
       "0           0.5269      1.35490                -0.4455  \n",
       "1           1.2396     -0.10760                 0.8637  \n",
       "2           0.1637     -0.86820                 0.6721  \n",
       "3          -0.3440     -0.40780                -0.9194  \n",
       "5          -2.2954     -0.74150                -0.8608  \n",
       "...            ...          ...                    ...  \n",
       "3987       -0.7794      1.47240                -2.3017  \n",
       "3989        1.2396      1.03330                 0.6721  \n",
       "3990        0.3817     -1.34780                 0.8183  \n",
       "3995       -1.5051     -1.31840                -0.7615  \n",
       "3997       -0.6343      1.32553                -0.6035  \n",
       "\n",
       "[1875 rows x 38 columns]"
      ]
     },
     "execution_count": 122,
     "metadata": {},
     "output_type": "execute_result"
    }
   ],
   "source": [
    "df[df['DOL']=='present']"
   ]
  },
  {
   "cell_type": "code",
   "execution_count": 123,
   "id": "vietnamese-theorem",
   "metadata": {
    "ExecuteTime": {
     "end_time": "2021-05-22T16:09:42.390484Z",
     "start_time": "2021-05-22T16:09:42.337624Z"
    }
   },
   "outputs": [
    {
     "data": {
      "text/plain": [
       "m    3041\n",
       "f     957\n",
       "Name: Gender, dtype: int64"
      ]
     },
     "execution_count": 123,
     "metadata": {},
     "output_type": "execute_result"
    }
   ],
   "source": [
    "df['Gender'].value_counts()"
   ]
  },
  {
   "cell_type": "code",
   "execution_count": 135,
   "id": "communist-teens",
   "metadata": {
    "ExecuteTime": {
     "end_time": "2021-05-22T17:19:27.847887Z",
     "start_time": "2021-05-22T17:19:27.837914Z"
    },
    "scrolled": false
   },
   "outputs": [
    {
     "data": {
      "text/plain": [
       "419"
      ]
     },
     "execution_count": 135,
     "metadata": {},
     "output_type": "execute_result"
    }
   ],
   "source": [
    "df['Designation'].nunique() # number of unique designations"
   ]
  },
  {
   "cell_type": "code",
   "execution_count": 625,
   "id": "geographic-allah",
   "metadata": {
    "ExecuteTime": {
     "end_time": "2021-05-25T09:30:17.872231Z",
     "start_time": "2021-05-25T09:30:17.755356Z"
    },
    "scrolled": false
   },
   "outputs": [
    {
     "data": {
      "text/plain": [
       "software engineer                    539\n",
       "software developer                   265\n",
       "system engineer                      205\n",
       "programmer analyst                   139\n",
       "systems engineer                     118\n",
       "java software engineer               111\n",
       "software test engineer               100\n",
       "project engineer                      77\n",
       "technical support engineer            76\n",
       "senior software engineer              72\n",
       "java developer                        67\n",
       "test engineer                         57\n",
       "web developer                         54\n",
       "assistant manager                     52\n",
       "application developer                 52\n",
       "network engineer                      51\n",
       "business analyst                      49\n",
       "data analyst                          49\n",
       "engineer                              47\n",
       "associate software engineer           46\n",
       "android developer                     46\n",
       "programmer                            36\n",
       "senior systems engineer               35\n",
       ".net developer                        34\n",
       "php developer                         33\n",
       "qa analyst                            29\n",
       "production engineer                   29\n",
       "design engineer                       28\n",
       "asp.net developer                     26\n",
       "quality analyst                       25\n",
       "electrical engineer                   23\n",
       "assistant system engineer             23\n",
       "application engineer                  22\n",
       "lecturer                              20\n",
       "senior software developer             20\n",
       "system administrator                  20\n",
       "management trainee                    19\n",
       "senior engineer                       18\n",
       "sales executive                       17\n",
       "quality engineer                      17\n",
       "software development engineer         17\n",
       "customer service                      17\n",
       "software quality assurance tester     17\n",
       "customer service representative       17\n",
       "embedded software engineer            16\n",
       "research analyst                      15\n",
       "quality assurance test engineer       15\n",
       "automation engineer                   15\n",
       "graduate engineer trainee             14\n",
       "business development manager          14\n",
       "Name: Designation, dtype: int64"
      ]
     },
     "execution_count": 625,
     "metadata": {},
     "output_type": "execute_result"
    }
   ],
   "source": [
    "df['Designation'].value_counts()[:50]"
   ]
  },
  {
   "cell_type": "code",
   "execution_count": 627,
   "id": "warming-envelope",
   "metadata": {
    "ExecuteTime": {
     "end_time": "2021-05-25T09:39:19.494796Z",
     "start_time": "2021-05-25T09:39:19.069507Z"
    }
   },
   "outputs": [
    {
     "data": {
      "text/plain": [
       "array(['board ofsecondary education,ap', 'cbse', 'state board',\n",
       "       'mp board bhopal', 'icse',\n",
       "       'karnataka secondary school of examination', 'up',\n",
       "       'karnataka state education examination board', 'ssc',\n",
       "       'kerala state technical education', 0, 'bseb',\n",
       "       'state board of secondary education, andhra pradesh',\n",
       "       'matriculation', 'gujarat state board', 'karnataka state board',\n",
       "       'wbbse', 'maharashtra state board', 'icse board', 'up board',\n",
       "       'board of secondary education(bse) orissa',\n",
       "       'little jacky matric higher secondary school',\n",
       "       'uttar pradesh board', 'bsc,orissa', 'mp board', 'upboard',\n",
       "       'matriculation board', 'j & k bord', 'rbse',\n",
       "       'central board of secondary education', 'pseb', 'jkbose',\n",
       "       'haryana board of school education,(hbse)', 'metric', 'ms board',\n",
       "       'kseeb', 'stateboard', 'maticulation',\n",
       "       'karnataka secondory education board', 'mumbai board', 'sslc',\n",
       "       'kseb', 'board secondary  education', 'matric board',\n",
       "       'board of secondary education',\n",
       "       'west bengal board of secondary education',\n",
       "       'jharkhand secondary examination board,ranchi', 'u p board',\n",
       "       'bseb,patna', 'hsc', 'bse', 'sss pune',\n",
       "       'karnataka education board (keeb)', 'kerala',\n",
       "       'state board of secondary education( ssc)', 'gsheb',\n",
       "       'up(allahabad)', 'nagpur', 'don bosco maatriculation school',\n",
       "       'karnataka state secondary education board', 'maharashtra',\n",
       "       'karnataka secondary education board',\n",
       "       'himachal pradesh board of school education',\n",
       "       'certificate of middle years program of ib',\n",
       "       'karnataka board of secondary education',\n",
       "       'board of secondary education rajasthan', 'uttarakhand board',\n",
       "       'ua', 'board of secendary education orissa',\n",
       "       'karantaka secondary education and examination borad', 'hbsc',\n",
       "       'kseeb(karnataka secondary education examination board)',\n",
       "       'cbse[gulf zone]', 'hbse', 'state(karnataka board)',\n",
       "       'jharkhand accademic council',\n",
       "       'jharkhand secondary examination board (ranchi)',\n",
       "       'karnataka secondary education examination board', 'delhi board',\n",
       "       'mirza ahmed ali baig', 'jseb', 'bse, odisha', 'bihar board',\n",
       "       'maharashtra state(latur board)', 'rajasthan board', 'mpboard',\n",
       "       'upbhsie', 'secondary board of rajasthan',\n",
       "       'tamilnadu matriculation board', 'jharkhand secondary board',\n",
       "       'board of secondary education,andhara pradesh', 'up baord',\n",
       "       'state', 'board of intermediate education',\n",
       "       'state board of secondary education,andhra pradesh',\n",
       "       'up board , allahabad',\n",
       "       'stjosephs girls higher sec school,dindigul', 'maharashtra board',\n",
       "       'education board of kerala', 'board of ssc',\n",
       "       'maharashtra state board pune',\n",
       "       'board of school education harayana',\n",
       "       'secondary school cerfificate', 'maharashtra sate board', 'ksseb',\n",
       "       'bihar examination board, patna', 'latur',\n",
       "       'board of secondary education, rajasthan', 'state borad hp',\n",
       "       'cluny', 'bsepatna', 'up borad', 'ssc board of andrapradesh',\n",
       "       'matric', 'bse,orissa', 'ssc-andhra pradesh', 'mp',\n",
       "       'karnataka education board', 'mhsbse',\n",
       "       'karnataka sslc board bangalore', 'karnataka', 'u p',\n",
       "       'secondary school of education', 'state board of karnataka',\n",
       "       'karnataka secondary board', 'andhra pradesh board ssc',\n",
       "       'stjoseph of cluny matrhrsecschool,neyveli,cuddalore district',\n",
       "       'hse,orissa', 'national public school', 'nagpur board',\n",
       "       'jharkhand academic council', 'bsemp',\n",
       "       'board of secondary education, andhra pradesh',\n",
       "       'board of secondary education orissa',\n",
       "       'board of secondary education,rajasthan(rbse)',\n",
       "       'board of secondary education,ap',\n",
       "       'board of secondary education,andhra pradesh',\n",
       "       'jawahar navodaya vidyalaya', 'aisse',\n",
       "       'karnataka board of higher education', 'bihar',\n",
       "       'kerala state board', 'cicse', 'tn state board',\n",
       "       'kolhapur divisional board, maharashtra',\n",
       "       'bharathi matriculation school', 'uttaranchal state board',\n",
       "       'wbbsce', 'mp state board', 'seba(assam)', 'anglo indian', 'gseb',\n",
       "       'uttar pradesh', 'ghseb', 'board of school education uttarakhand',\n",
       "       'msbshse,pune', 'tamilnadu state board', 'kerala university',\n",
       "       'uttaranchal shiksha avam pariksha parishad',\n",
       "       'bse(board of secondary education)',\n",
       "       'bright way college, (up board)',\n",
       "       'school secondary education, andhra pradesh',\n",
       "       'secondary state certificate',\n",
       "       'maharashtra state board of secondary and higher secondary education,pune',\n",
       "       'andhra pradesh state board', 'stmary higher secondary', 'cgbse',\n",
       "       'secondary school certificate', 'rajasthan board ajmer', 'mpbse',\n",
       "       'pune board', 'cbse ', 'board of secondary education,orissa',\n",
       "       'maharashtra state board,pune', 'up bord',\n",
       "       'kiran english medium high school', 'state board (jac, ranchi)',\n",
       "       'gujarat board', 'state board ', 'sarada high scchool',\n",
       "       'kalaimagal matriculation higher secondary school',\n",
       "       'karnataka board', 'maharastra board', 'sslc board',\n",
       "       'ssc maharashtra board', 'tamil nadu state', 'uttrakhand board',\n",
       "       'bihar secondary education board,patna',\n",
       "       'haryana board of school education',\n",
       "       'sri kannika parameswari highier secondary school, udumalpet',\n",
       "       'ksseb(karnataka state board)', 'nashik board',\n",
       "       'jharkhand secondary education board', 'himachal pradesh board',\n",
       "       'maharashtra satate board',\n",
       "       'maharashtra state board mumbai divisional board',\n",
       "       'dav public school,hehal',\n",
       "       'state board of secondary education, ap',\n",
       "       'rajasthan board of secondary education', 'hsce',\n",
       "       'karnataka secondary education',\n",
       "       'board of secondary education,odisha', 'maharashtra nasik board',\n",
       "       'west bengal board of secondary examination (wbbse)',\n",
       "       'holy cross matriculation hr sec school', 'cbsc', 'apssc',\n",
       "       'bseb patna', 'kolhapur', 'bseb, patna', 'up board allahabad',\n",
       "       'biharboard', 'nagpur board,nagpur', 'pune', 'gyan bharati school',\n",
       "       'rbse,ajmer', 'board of secondaray education',\n",
       "       'secondary school education', 'state bord', 'jbse,jharkhand',\n",
       "       'hse', 'madhya pradesh board', 'bihar school examination board',\n",
       "       'west bengal board of secondary eucation', 'state boardmp board ',\n",
       "       'icse board , new delhi',\n",
       "       'board of secondary education (bse) orissa',\n",
       "       'maharashtra state board for ssc',\n",
       "       'board of secondary school education', 'latur board',\n",
       "       \"stmary's convent inter college\", 'nagpur divisional board',\n",
       "       'ap state board', 'cgbse raipur', 'uttranchal board', 'ksbe',\n",
       "       'central board of secondary education, new delhi',\n",
       "       'bihar school examination board patna', 'cbse board',\n",
       "       'sslc,karnataka', 'mp-bse', 'up bourd', 'dav public school sec 14',\n",
       "       'board of school education haryana',\n",
       "       'council for indian school certificate examination',\n",
       "       'aurangabad board', 'j&k state board of school education',\n",
       "       'maharashtra state board of secondary and higher secondary education',\n",
       "       'maharashtra state boar of secondary and higher secondary education',\n",
       "       'ssc regular', 'karnataka state examination board', 'nasik',\n",
       "       'west bengal  board of secondary education', 'up board,allahabad',\n",
       "       'bseb ,patna',\n",
       "       'state board - west bengal board of secondary education : wbbse',\n",
       "       'maharashtra state board of secondary & higher secondary education',\n",
       "       'delhi public school', 'karnataka secondary eduction',\n",
       "       'secondary education board of rajasthan',\n",
       "       'maharashtra board, pune', 'rbse (state board)', 'apsche',\n",
       "       'board of  secondary education',\n",
       "       'board of high school and intermediate education uttarpradesh',\n",
       "       'kea', 'board of secondary education - andhra pradesh',\n",
       "       'ap state board for secondary education', 'seba',\n",
       "       'punjab school education board, mohali',\n",
       "       'jharkhand acedemic council', 'hse,board',\n",
       "       'board of ssc education andhra pradesh', 'up-board', 'bse,odisha'],\n",
       "      dtype=object)"
      ]
     },
     "execution_count": 627,
     "metadata": {},
     "output_type": "execute_result"
    }
   ],
   "source": [
    "df['10board'].unique()"
   ]
  },
  {
   "cell_type": "markdown",
   "id": "mature-solomon",
   "metadata": {},
   "source": [
    " $ in\\ the \\ above \\ we \\ can \\ observe \\ that \\ most \\ of \\ 10board \\ names \\ are \\ similar \\ but \\ wrong \\ input \\ has \\ recorded$ "
   ]
  },
  {
   "cell_type": "markdown",
   "id": "intended-consolidation",
   "metadata": {},
   "source": [
    " "
   ]
  },
  {
   "cell_type": "code",
   "execution_count": 146,
   "id": "million-favorite",
   "metadata": {
    "ExecuteTime": {
     "end_time": "2021-05-22T18:14:41.952558Z",
     "start_time": "2021-05-22T18:14:41.943579Z"
    }
   },
   "outputs": [
    {
     "data": {
      "text/plain": [
       "Index(['ID', 'Salary', 'DOJ', 'DOL', 'Designation', 'JobCity', 'Gender', 'DOB',\n",
       "       '10percentage', '10board', '12graduation', '12percentage', '12board',\n",
       "       'CollegeID', 'CollegeTier', 'Degree', 'Specialization', 'collegeGPA',\n",
       "       'CollegeCityID', 'CollegeCityTier', 'CollegeState', 'GraduationYear',\n",
       "       'English', 'Logical', 'Quant', 'Domain', 'ComputerProgramming',\n",
       "       'ElectronicsAndSemicon', 'ComputerScience', 'MechanicalEngg',\n",
       "       'ElectricalEngg', 'TelecomEngg', 'CivilEngg', 'conscientiousness',\n",
       "       'agreeableness', 'extraversion', 'nueroticism',\n",
       "       'openess_to_experience'],\n",
       "      dtype='object')"
      ]
     },
     "execution_count": 146,
     "metadata": {},
     "output_type": "execute_result"
    }
   ],
   "source": [
    "df.columns"
   ]
  },
  {
   "cell_type": "code",
   "execution_count": 151,
   "id": "small-catch",
   "metadata": {
    "ExecuteTime": {
     "end_time": "2021-05-22T18:24:05.421607Z",
     "start_time": "2021-05-22T18:24:05.410638Z"
    }
   },
   "outputs": [
    {
     "data": {
      "text/plain": [
       "0    2797\n",
       "1    1201\n",
       "Name: CollegeCityTier, dtype: int64"
      ]
     },
     "execution_count": 151,
     "metadata": {},
     "output_type": "execute_result"
    }
   ],
   "source": [
    "df['CollegeCityTier'].value_counts()"
   ]
  },
  {
   "cell_type": "code",
   "execution_count": 153,
   "id": "fifty-mustang",
   "metadata": {
    "ExecuteTime": {
     "end_time": "2021-05-22T18:30:22.874278Z",
     "start_time": "2021-05-22T18:30:22.863309Z"
    },
    "scrolled": true
   },
   "outputs": [
    {
     "data": {
      "text/plain": [
       "Uttar Pradesh        915\n",
       "Karnataka            370\n",
       "Tamil Nadu           367\n",
       "Telangana            319\n",
       "Maharashtra          262\n",
       "Andhra Pradesh       225\n",
       "West Bengal          196\n",
       "Punjab               193\n",
       "Madhya Pradesh       189\n",
       "Haryana              180\n",
       "Rajasthan            174\n",
       "Orissa               172\n",
       "Delhi                162\n",
       "Uttarakhand          113\n",
       "Kerala                33\n",
       "Jharkhand             28\n",
       "Chhattisgarh          27\n",
       "Gujarat               24\n",
       "Himachal Pradesh      16\n",
       "Bihar                 10\n",
       "Jammu and Kashmir      7\n",
       "Union Territory        5\n",
       "Assam                  5\n",
       "Sikkim                 3\n",
       "Meghalaya              2\n",
       "Goa                    1\n",
       "Name: CollegeState, dtype: int64"
      ]
     },
     "execution_count": 153,
     "metadata": {},
     "output_type": "execute_result"
    }
   ],
   "source": [
    "df['CollegeState'].value_counts()"
   ]
  },
  {
   "cell_type": "code",
   "execution_count": 157,
   "id": "moving-survey",
   "metadata": {
    "ExecuteTime": {
     "end_time": "2021-05-22T18:39:35.477319Z",
     "start_time": "2021-05-22T18:39:35.462357Z"
    },
    "scrolled": true
   },
   "outputs": [
    {
     "data": {
      "text/plain": [
       "JobCity\n",
       "-1                        3000000\n",
       " Chennai                   335000\n",
       " Delhi                     360000\n",
       " Mumbai                    180000\n",
       " Pune                      180000\n",
       " ariyalur                  570000\n",
       " bangalore                 560000\n",
       " mumbai                    265000\n",
       "A-64,sec-64,noida          120000\n",
       "AM                         360000\n",
       "Agra                       200000\n",
       "Ahmedabad                  715000\n",
       "Ahmedabad                  330000\n",
       "Ahmednagar                 335000\n",
       "Al Jubail,Saudi Arabia     360000\n",
       "Allahabad                  225000\n",
       "Alwar                      240000\n",
       "Ambala                     200000\n",
       "Ambala City                180000\n",
       "Asansol                    180000\n",
       "Asifabadbanglore           200000\n",
       "Aurangabad                 250000\n",
       "Australia                  480000\n",
       "BANGALORE                  400000\n",
       "BANGALORE                  200000\n",
       "BANGLORE                   105000\n",
       "BAngalore                  180000\n",
       "BHOPAL                     100000\n",
       "BHUBANESWAR                305000\n",
       "Baddi HP                   145000\n",
       "Bahadurgarh                420000\n",
       "Banagalore                 290000\n",
       "Banaglore                  150000\n",
       "Bangalore                 2020000\n",
       "Bangalore                 1110000\n",
       "Banglore                   600000\n",
       "Banglore                   110000\n",
       "Bankura                    180000\n",
       "Bareli                     400000\n",
       "Baripada                   360000\n",
       "Name: Salary, dtype: int64"
      ]
     },
     "execution_count": 157,
     "metadata": {},
     "output_type": "execute_result"
    }
   ],
   "source": [
    "df.groupby(\"JobCity\")['Salary'].max()[:40]"
   ]
  },
  {
   "cell_type": "code",
   "execution_count": 158,
   "id": "induced-rugby",
   "metadata": {
    "ExecuteTime": {
     "end_time": "2021-05-22T18:42:28.775437Z",
     "start_time": "2021-05-22T18:42:28.724543Z"
    }
   },
   "outputs": [
    {
     "data": {
      "text/plain": [
       "B.Tech/B.E.      3700\n",
       "MCA               243\n",
       "M.Tech./M.E.       53\n",
       "M.Sc. (Tech.)       2\n",
       "Name: Degree, dtype: int64"
      ]
     },
     "execution_count": 158,
     "metadata": {},
     "output_type": "execute_result"
    }
   ],
   "source": [
    "df['Degree'].value_counts()"
   ]
  },
  {
   "cell_type": "code",
   "execution_count": 277,
   "id": "handy-logan",
   "metadata": {
    "ExecuteTime": {
     "end_time": "2021-05-23T08:36:56.301284Z",
     "start_time": "2021-05-23T08:36:56.250421Z"
    },
    "scrolled": true
   },
   "outputs": [
    {
     "data": {
      "text/html": [
       "<div>\n",
       "<style scoped>\n",
       "    .dataframe tbody tr th:only-of-type {\n",
       "        vertical-align: middle;\n",
       "    }\n",
       "\n",
       "    .dataframe tbody tr th {\n",
       "        vertical-align: top;\n",
       "    }\n",
       "\n",
       "    .dataframe thead th {\n",
       "        text-align: right;\n",
       "    }\n",
       "</style>\n",
       "<table border=\"1\" class=\"dataframe\">\n",
       "  <thead>\n",
       "    <tr style=\"text-align: right;\">\n",
       "      <th></th>\n",
       "      <th></th>\n",
       "      <th></th>\n",
       "      <th>Salary</th>\n",
       "    </tr>\n",
       "    <tr>\n",
       "      <th>Gender</th>\n",
       "      <th>CollegeState</th>\n",
       "      <th>Designation</th>\n",
       "      <th></th>\n",
       "    </tr>\n",
       "  </thead>\n",
       "  <tbody>\n",
       "    <tr>\n",
       "      <th rowspan=\"5\" valign=\"top\">f</th>\n",
       "      <th rowspan=\"5\" valign=\"top\">Andhra Pradesh</th>\n",
       "      <th>assistant professor</th>\n",
       "      <td>115000</td>\n",
       "    </tr>\n",
       "    <tr>\n",
       "      <th>assistant systems engineer</th>\n",
       "      <td>360000</td>\n",
       "    </tr>\n",
       "    <tr>\n",
       "      <th>associate software engineer</th>\n",
       "      <td>305000</td>\n",
       "    </tr>\n",
       "    <tr>\n",
       "      <th>business analyst</th>\n",
       "      <td>330000</td>\n",
       "    </tr>\n",
       "    <tr>\n",
       "      <th>client services associate</th>\n",
       "      <td>1800000</td>\n",
       "    </tr>\n",
       "    <tr>\n",
       "      <th>...</th>\n",
       "      <th>...</th>\n",
       "      <th>...</th>\n",
       "      <td>...</td>\n",
       "    </tr>\n",
       "    <tr>\n",
       "      <th rowspan=\"5\" valign=\"top\">m</th>\n",
       "      <th rowspan=\"5\" valign=\"top\">West Bengal</th>\n",
       "      <th>technical support specialist</th>\n",
       "      <td>520000</td>\n",
       "    </tr>\n",
       "    <tr>\n",
       "      <th>test engineer</th>\n",
       "      <td>325000</td>\n",
       "    </tr>\n",
       "    <tr>\n",
       "      <th>training specialist</th>\n",
       "      <td>110000</td>\n",
       "    </tr>\n",
       "    <tr>\n",
       "      <th>visiting faculty</th>\n",
       "      <td>70000</td>\n",
       "    </tr>\n",
       "    <tr>\n",
       "      <th>web developer</th>\n",
       "      <td>240000</td>\n",
       "    </tr>\n",
       "  </tbody>\n",
       "</table>\n",
       "<p>1830 rows × 1 columns</p>\n",
       "</div>"
      ],
      "text/plain": [
       "                                                     Salary\n",
       "Gender CollegeState   Designation                          \n",
       "f      Andhra Pradesh assistant professor            115000\n",
       "                      assistant systems engineer     360000\n",
       "                      associate software engineer    305000\n",
       "                      business analyst               330000\n",
       "                      client services associate     1800000\n",
       "...                                                     ...\n",
       "m      West Bengal    technical support specialist   520000\n",
       "                      test engineer                  325000\n",
       "                      training specialist            110000\n",
       "                      visiting faculty                70000\n",
       "                      web developer                  240000\n",
       "\n",
       "[1830 rows x 1 columns]"
      ]
     },
     "execution_count": 277,
     "metadata": {},
     "output_type": "execute_result"
    }
   ],
   "source": [
    "pd.pivot_table(df, index =['Gender','CollegeState','Designation'],aggfunc={'Salary':np.max}) \n",
    "# it shows up with only the highest salary of male or female, from the collegestate which they had studied and the designation they had"
   ]
  },
  {
   "cell_type": "code",
   "execution_count": 162,
   "id": "dominican-interim",
   "metadata": {
    "ExecuteTime": {
     "end_time": "2021-05-23T01:02:31.335120Z",
     "start_time": "2021-05-23T01:02:31.270265Z"
    },
    "scrolled": true
   },
   "outputs": [
    {
     "data": {
      "text/plain": [
       "ID                       0\n",
       "Salary                   0\n",
       "DOJ                      0\n",
       "DOL                      0\n",
       "Designation              0\n",
       "JobCity                  0\n",
       "Gender                   0\n",
       "DOB                      0\n",
       "10percentage             0\n",
       "10board                  0\n",
       "12graduation             0\n",
       "12percentage             0\n",
       "12board                  0\n",
       "CollegeID                0\n",
       "CollegeTier              0\n",
       "Degree                   0\n",
       "Specialization           0\n",
       "collegeGPA               0\n",
       "CollegeCityID            0\n",
       "CollegeCityTier          0\n",
       "CollegeState             0\n",
       "GraduationYear           0\n",
       "English                  0\n",
       "Logical                  0\n",
       "Quant                    0\n",
       "Domain                   0\n",
       "ComputerProgramming      0\n",
       "ElectronicsAndSemicon    0\n",
       "ComputerScience          0\n",
       "MechanicalEngg           0\n",
       "ElectricalEngg           0\n",
       "TelecomEngg              0\n",
       "CivilEngg                0\n",
       "conscientiousness        0\n",
       "agreeableness            0\n",
       "extraversion             0\n",
       "nueroticism              0\n",
       "openess_to_experience    0\n",
       "dtype: int64"
      ]
     },
     "execution_count": 162,
     "metadata": {},
     "output_type": "execute_result"
    }
   ],
   "source": [
    "df.isnull().sum() #no null values"
   ]
  },
  {
   "cell_type": "code",
   "execution_count": 165,
   "id": "referenced-ready",
   "metadata": {
    "ExecuteTime": {
     "end_time": "2021-05-23T01:04:17.057319Z",
     "start_time": "2021-05-23T01:04:13.838890Z"
    }
   },
   "outputs": [
    {
     "data": {
      "text/plain": [
       "<AxesSubplot:xlabel='Gender', ylabel='Salary'>"
      ]
     },
     "execution_count": 165,
     "metadata": {},
     "output_type": "execute_result"
    },
    {
     "data": {
      "image/png": "[encoded data removed]",
      "text/plain": [
       "<Figure size 432x288 with 1 Axes>"
      ]
     },
     "metadata": {
      "needs_background": "light"
     },
     "output_type": "display_data"
    }
   ],
   "source": [
    "sns.boxplot(data = df, x = 'Gender', y='Salary' )"
   ]
  },
  {
   "cell_type": "code",
   "execution_count": 166,
   "id": "bearing-sending",
   "metadata": {
    "ExecuteTime": {
     "end_time": "2021-05-23T01:08:40.894798Z",
     "start_time": "2021-05-23T01:08:40.694901Z"
    },
    "scrolled": true
   },
   "outputs": [
    {
     "name": "stdout",
     "output_type": "stream",
     "text": [
      "<class 'pandas.core.frame.DataFrame'>\n",
      "RangeIndex: 3998 entries, 0 to 3997\n",
      "Data columns (total 38 columns):\n",
      " #   Column                 Non-Null Count  Dtype         \n",
      "---  ------                 --------------  -----         \n",
      " 0   ID                     3998 non-null   int64         \n",
      " 1   Salary                 3998 non-null   int64         \n",
      " 2   DOJ                    3998 non-null   datetime64[ns]\n",
      " 3   DOL                    3998 non-null   object        \n",
      " 4   Designation            3998 non-null   object        \n",
      " 5   JobCity                3998 non-null   object        \n",
      " 6   Gender                 3998 non-null   object        \n",
      " 7   DOB                    3998 non-null   datetime64[ns]\n",
      " 8   10percentage           3998 non-null   float64       \n",
      " 9   10board                3998 non-null   object        \n",
      " 10  12graduation           3998 non-null   int64         \n",
      " 11  12percentage           3998 non-null   float64       \n",
      " 12  12board                3998 non-null   object        \n",
      " 13  CollegeID              3998 non-null   int64         \n",
      " 14  CollegeTier            3998 non-null   int64         \n",
      " 15  Degree                 3998 non-null   object        \n",
      " 16  Specialization         3998 non-null   object        \n",
      " 17  collegeGPA             3998 non-null   float64       \n",
      " 18  CollegeCityID          3998 non-null   int64         \n",
      " 19  CollegeCityTier        3998 non-null   int64         \n",
      " 20  CollegeState           3998 non-null   object        \n",
      " 21  GraduationYear         3998 non-null   int64         \n",
      " 22  English                3998 non-null   int64         \n",
      " 23  Logical                3998 non-null   int64         \n",
      " 24  Quant                  3998 non-null   int64         \n",
      " 25  Domain                 3998 non-null   float64       \n",
      " 26  ComputerProgramming    3998 non-null   int64         \n",
      " 27  ElectronicsAndSemicon  3998 non-null   int64         \n",
      " 28  ComputerScience        3998 non-null   int64         \n",
      " 29  MechanicalEngg         3998 non-null   int64         \n",
      " 30  ElectricalEngg         3998 non-null   int64         \n",
      " 31  TelecomEngg            3998 non-null   int64         \n",
      " 32  CivilEngg              3998 non-null   int64         \n",
      " 33  conscientiousness      3998 non-null   float64       \n",
      " 34  agreeableness          3998 non-null   float64       \n",
      " 35  extraversion           3998 non-null   float64       \n",
      " 36  nueroticism            3998 non-null   float64       \n",
      " 37  openess_to_experience  3998 non-null   float64       \n",
      "dtypes: datetime64[ns](2), float64(9), int64(18), object(9)\n",
      "memory usage: 1.2+ MB\n"
     ]
    }
   ],
   "source": [
    "df.info()"
   ]
  },
  {
   "cell_type": "code",
   "execution_count": 336,
   "id": "buried-breast",
   "metadata": {
    "ExecuteTime": {
     "end_time": "2021-05-23T10:34:04.090126Z",
     "start_time": "2021-05-23T10:34:04.083144Z"
    }
   },
   "outputs": [],
   "source": [
    "del df['Age']"
   ]
  },
  {
   "cell_type": "code",
   "execution_count": 337,
   "id": "moved-glory",
   "metadata": {
    "ExecuteTime": {
     "end_time": "2021-05-23T10:34:07.456118Z",
     "start_time": "2021-05-23T10:34:07.390294Z"
    }
   },
   "outputs": [
    {
     "data": {
      "text/plain": [
       "0       22\n",
       "1       24\n",
       "2       22\n",
       "3       22\n",
       "4       23\n",
       "        ..\n",
       "3993    24\n",
       "3994    21\n",
       "3995    22\n",
       "3996    22\n",
       "3997    22\n",
       "Name: Join_Age, Length: 3998, dtype: int64"
      ]
     },
     "execution_count": 337,
     "metadata": {},
     "output_type": "execute_result"
    }
   ],
   "source": [
    "df['Join_Age'] = (df['DOJ'].dt.year - df['DOB'].dt.year)\n",
    "df['Join_Age']"
   ]
  },
  {
   "cell_type": "code",
   "execution_count": 173,
   "id": "differential-monitor",
   "metadata": {
    "ExecuteTime": {
     "end_time": "2021-05-23T01:11:01.919877Z",
     "start_time": "2021-05-23T01:11:01.905912Z"
    },
    "scrolled": true
   },
   "outputs": [
    {
     "data": {
      "text/plain": [
       "22    1410\n",
       "23    1090\n",
       "21     622\n",
       "24     525\n",
       "25     182\n",
       "26      74\n",
       "20      43\n",
       "27      24\n",
       "28       9\n",
       "29       6\n",
       "19       5\n",
       "18       3\n",
       "0        1\n",
       "17       1\n",
       "32       1\n",
       "12       1\n",
       "30       1\n",
       "dtype: int64"
      ]
     },
     "execution_count": 173,
     "metadata": {},
     "output_type": "execute_result"
    }
   ],
   "source": [
    "(df['DOJ'].dt.year - df['DOB'].dt.year).value_counts() # frequency of certain Age of people"
   ]
  },
  {
   "cell_type": "code",
   "execution_count": null,
   "id": "suspected-homeless",
   "metadata": {},
   "outputs": [],
   "source": [
    "(df['DOJ'].dt.year - df['DOB'].dt.year).groupby('')"
   ]
  },
  {
   "cell_type": "code",
   "execution_count": 178,
   "id": "behavioral-architect",
   "metadata": {
    "ExecuteTime": {
     "end_time": "2021-05-23T01:13:28.852579Z",
     "start_time": "2021-05-23T01:13:28.110205Z"
    }
   },
   "outputs": [
    {
     "data": {
      "text/plain": [
       "<AxesSubplot:>"
      ]
     },
     "execution_count": 178,
     "metadata": {},
     "output_type": "execute_result"
    },
    {
     "data": {
      "image/png": "[encoded data removed]",
      "text/plain": [
       "<Figure size 432x288 with 1 Axes>"
      ]
     },
     "metadata": {
      "needs_background": "light"
     },
     "output_type": "display_data"
    }
   ],
   "source": [
    "(df['DOJ'].dt.year - df['DOB'].dt.year).value_counts().plot(kind='bar')"
   ]
  },
  {
   "cell_type": "code",
   "execution_count": 667,
   "id": "agricultural-annual",
   "metadata": {
    "ExecuteTime": {
     "end_time": "2021-05-25T11:54:21.159173Z",
     "start_time": "2021-05-25T11:54:21.034507Z"
    },
    "scrolled": true
   },
   "outputs": [
    {
     "name": "stdout",
     "output_type": "stream",
     "text": [
      "<class 'pandas.core.frame.DataFrame'>\n",
      "RangeIndex: 3998 entries, 0 to 3997\n",
      "Data columns (total 39 columns):\n",
      " #   Column                 Non-Null Count  Dtype         \n",
      "---  ------                 --------------  -----         \n",
      " 0   ID                     3998 non-null   int64         \n",
      " 1   Salary                 3998 non-null   int64         \n",
      " 2   DOJ                    3998 non-null   datetime64[ns]\n",
      " 3   DOL                    3998 non-null   object        \n",
      " 4   Designation            3998 non-null   object        \n",
      " 5   JobCity                3998 non-null   object        \n",
      " 6   Gender                 3998 non-null   object        \n",
      " 7   DOB                    3998 non-null   datetime64[ns]\n",
      " 8   10percentage           3998 non-null   float64       \n",
      " 9   10board                3998 non-null   object        \n",
      " 10  12graduation           3998 non-null   int64         \n",
      " 11  12percentage           3998 non-null   float64       \n",
      " 12  12board                3998 non-null   object        \n",
      " 13  CollegeID              3998 non-null   int64         \n",
      " 14  CollegeTier            3998 non-null   int64         \n",
      " 15  Degree                 3998 non-null   object        \n",
      " 16  Specialization         3998 non-null   object        \n",
      " 17  collegeGPA             3998 non-null   float64       \n",
      " 18  CollegeCityID          3998 non-null   int64         \n",
      " 19  CollegeCityTier        3998 non-null   int64         \n",
      " 20  CollegeState           3998 non-null   object        \n",
      " 21  GraduationYear         3998 non-null   int64         \n",
      " 22  English                3998 non-null   int64         \n",
      " 23  Logical                3998 non-null   int64         \n",
      " 24  Quant                  3998 non-null   int64         \n",
      " 25  Domain                 3998 non-null   float64       \n",
      " 26  ComputerProgramming    3998 non-null   int64         \n",
      " 27  ElectronicsAndSemicon  3998 non-null   int64         \n",
      " 28  ComputerScience        3998 non-null   int64         \n",
      " 29  MechanicalEngg         3998 non-null   int64         \n",
      " 30  ElectricalEngg         3998 non-null   int64         \n",
      " 31  TelecomEngg            3998 non-null   int64         \n",
      " 32  CivilEngg              3998 non-null   int64         \n",
      " 33  conscientiousness      3998 non-null   float64       \n",
      " 34  agreeableness          3998 non-null   float64       \n",
      " 35  extraversion           3998 non-null   float64       \n",
      " 36  nueroticism            3998 non-null   float64       \n",
      " 37  openess_to_experience  3998 non-null   float64       \n",
      " 38  Join_Age               3998 non-null   int64         \n",
      "dtypes: datetime64[ns](2), float64(9), int64(19), object(9)\n",
      "memory usage: 1.2+ MB\n"
     ]
    }
   ],
   "source": [
    "df.info()"
   ]
  },
  {
   "cell_type": "code",
   "execution_count": 705,
   "id": "internal-combining",
   "metadata": {
    "ExecuteTime": {
     "end_time": "2021-05-25T12:05:46.908112Z",
     "start_time": "2021-05-25T12:05:46.891157Z"
    },
    "scrolled": true
   },
   "outputs": [
    {
     "data": {
      "text/plain": [
       "Bangalore        303\n",
       "-1               263\n",
       "Noida            186\n",
       "Hyderabad        162\n",
       "Chennai          137\n",
       "Pune             135\n",
       "New Delhi        119\n",
       "Gurgaon           97\n",
       "Mumbai            56\n",
       "Kolkata           47\n",
       "Jaipur            31\n",
       "Mysore            23\n",
       "Lucknow           20\n",
       "chennai           17\n",
       "Bhopal            15\n",
       "Faridabad         14\n",
       "Bhubaneswar       14\n",
       "Navi Mumbai       13\n",
       "Ahmedabad         13\n",
       "Ghaziabad         13\n",
       "Indore            12\n",
       "Coimbatore        12\n",
       "Greater Noida     12\n",
       "pune              10\n",
       "Chandigarh        10\n",
       "hyderabad         10\n",
       "bangalore          9\n",
       "Dehradun           8\n",
       "Bangalore          8\n",
       "Delhi              8\n",
       "kolkata            7\n",
       "Kochi/Cochin       7\n",
       "Nagpur             7\n",
       "Bhubaneshwar       6\n",
       "noida              6\n",
       "Hyderabad          5\n",
       "Jabalpur           5\n",
       "delhi              5\n",
       "Chennai            5\n",
       "jaipur             5\n",
       "Name: JobCity, dtype: int64"
      ]
     },
     "execution_count": 705,
     "metadata": {},
     "output_type": "execute_result"
    }
   ],
   "source": [
    "(df[df['DOL']!='present']['JobCity']).value_counts().head(40)"
   ]
  },
  {
   "cell_type": "code",
   "execution_count": 713,
   "id": "renewable-electric",
   "metadata": {
    "ExecuteTime": {
     "end_time": "2021-05-25T12:07:45.262461Z",
     "start_time": "2021-05-25T12:07:45.247506Z"
    }
   },
   "outputs": [
    {
     "data": {
      "text/plain": [
       "m    1614\n",
       "f     509\n",
       "Name: Gender, dtype: int64"
      ]
     },
     "execution_count": 713,
     "metadata": {},
     "output_type": "execute_result"
    }
   ],
   "source": [
    "(df[df['DOL']!='present']['Gender']).value_counts()"
   ]
  },
  {
   "cell_type": "code",
   "execution_count": 711,
   "id": "working-sound",
   "metadata": {
    "ExecuteTime": {
     "end_time": "2021-05-25T12:07:17.927500Z",
     "start_time": "2021-05-25T12:07:17.429831Z"
    },
    "scrolled": false
   },
   "outputs": [
    {
     "data": {
      "text/plain": [
       "<AxesSubplot:>"
      ]
     },
     "execution_count": 711,
     "metadata": {},
     "output_type": "execute_result"
    },
    {
     "data": {
      "image/png": "[encoded data removed]",
      "text/plain": [
       "<Figure size 432x288 with 1 Axes>"
      ]
     },
     "metadata": {
      "needs_background": "light"
     },
     "output_type": "display_data"
    }
   ],
   "source": [
    "\n",
    "df['DOL'].value_counts().head(20).plot.bar()"
   ]
  },
  {
   "cell_type": "code",
   "execution_count": 181,
   "id": "synthetic-inside",
   "metadata": {
    "ExecuteTime": {
     "end_time": "2021-05-23T01:16:02.378703Z",
     "start_time": "2021-05-23T01:16:02.368731Z"
    },
    "scrolled": true
   },
   "outputs": [
    {
     "data": {
      "text/plain": [
       "electronics and communication engineering      880\n",
       "computer science & engineering                 744\n",
       "information technology                         660\n",
       "computer engineering                           600\n",
       "computer application                           244\n",
       "mechanical engineering                         201\n",
       "electronics and electrical engineering         196\n",
       "electronics & telecommunications               121\n",
       "electrical engineering                          82\n",
       "electronics & instrumentation eng               32\n",
       "civil engineering                               29\n",
       "information science engineering                 27\n",
       "electronics and instrumentation engineering     27\n",
       "instrumentation and control engineering         20\n",
       "electronics engineering                         19\n",
       "biotechnology                                   15\n",
       "other                                           13\n",
       "industrial & production engineering             10\n",
       "applied electronics and instrumentation          9\n",
       "chemical engineering                             9\n",
       "telecommunication engineering                    6\n",
       "computer science and technology                  6\n",
       "automobile/automotive engineering                5\n",
       "mechanical and automation                        5\n",
       "mechatronics                                     4\n",
       "instrumentation engineering                      4\n",
       "electronics and computer engineering             3\n",
       "aeronautical engineering                         3\n",
       "computer science                                 2\n",
       "biomedical engineering                           2\n",
       "metallurgical engineering                        2\n",
       "industrial engineering                           2\n",
       "information & communication technology           2\n",
       "electrical and power engineering                 2\n",
       "computer and communication engineering           1\n",
       "electronics                                      1\n",
       "mechanical & production engineering              1\n",
       "information science                              1\n",
       "ceramic engineering                              1\n",
       "embedded systems technology                      1\n",
       "internal combustion engine                       1\n",
       "industrial & management engineering              1\n",
       "power systems and automation                     1\n",
       "control and instrumentation engineering          1\n",
       "polymer technology                               1\n",
       "computer networking                              1\n",
       "Name: Specialization, dtype: int64"
      ]
     },
     "execution_count": 181,
     "metadata": {},
     "output_type": "execute_result"
    }
   ],
   "source": [
    "df['Specialization'].value_counts()"
   ]
  },
  {
   "cell_type": "code",
   "execution_count": 279,
   "id": "weighted-plaza",
   "metadata": {
    "ExecuteTime": {
     "end_time": "2021-05-23T08:43:05.533274Z",
     "start_time": "2021-05-23T08:42:51.374123Z"
    },
    "scrolled": true
   },
   "outputs": [
    {
     "data": {
      "image/png": "[encoded data removed]",
      "text/plain": [
       "<Figure size 936x432 with 1 Axes>"
      ]
     },
     "metadata": {
      "needs_background": "light"
     },
     "output_type": "display_data"
    }
   ],
   "source": [
    "a4_dims = (13,6)\n",
    "fig, ax = pyplot.subplots(figsize=a4_dims)\n",
    "l=sns.countplot(data=df, x='Specialization')\n",
    "l.set_xticklabels(ax.get_xticklabels(),rotation=90);\n",
    "# countplot shows that most of the students from electronics and communication engineering, computer science & engineering, information technology, computer engineering "
   ]
  },
  {
   "cell_type": "code",
   "execution_count": 218,
   "id": "assured-experiment",
   "metadata": {
    "ExecuteTime": {
     "end_time": "2021-05-23T02:11:04.933496Z",
     "start_time": "2021-05-23T02:11:03.414559Z"
    },
    "scrolled": true
   },
   "outputs": [
    {
     "data": {
      "image/png": "[encoded data removed]",
      "text/plain": [
       "<Figure size 936x432 with 1 Axes>"
      ]
     },
     "metadata": {
      "needs_background": "light"
     },
     "output_type": "display_data"
    }
   ],
   "source": [
    "from matplotlib import pyplot\n",
    "\n",
    "a4_dims = (13,6)\n",
    "fig, ax = pyplot.subplots(figsize=a4_dims)\n",
    "\n",
    "f=sns.barplot(data=df, x = 'Specialization', y='Salary', ci=None)\n",
    "f.set_xticklabels(ax.get_xticklabels(),rotation=90);"
   ]
  },
  {
   "cell_type": "code",
   "execution_count": 241,
   "id": "finnish-hamburg",
   "metadata": {
    "ExecuteTime": {
     "end_time": "2021-05-23T05:56:50.215391Z",
     "start_time": "2021-05-23T05:56:50.193389Z"
    },
    "scrolled": true
   },
   "outputs": [
    {
     "data": {
      "text/plain": [
       "Gender  CollegeTier  Degree       \n",
       "f       1            B.Tech/B.E.        46\n",
       "                     M.Tech./M.E.        4\n",
       "                     MCA                 1\n",
       "        2            B.Tech/B.E.       843\n",
       "                     M.Sc. (Tech.)       1\n",
       "                     M.Tech./M.E.        5\n",
       "                     MCA                57\n",
       "m       1            B.Tech/B.E.       223\n",
       "                     M.Sc. (Tech.)       1\n",
       "                     M.Tech./M.E.       11\n",
       "                     MCA                11\n",
       "        2            B.Tech/B.E.      2588\n",
       "                     M.Tech./M.E.       33\n",
       "                     MCA               174\n",
       "Name: ID, dtype: int64"
      ]
     },
     "execution_count": 241,
     "metadata": {},
     "output_type": "execute_result"
    }
   ],
   "source": [
    "df.groupby(by=['Gender','CollegeTier','Degree' ]).count()['ID']"
   ]
  },
  {
   "cell_type": "markdown",
   "id": "alone-modeling",
   "metadata": {},
   "source": [
    "$ \\ most\\ of\\ the \\ both \\ male \\ and \\ female \\  are\\  from\\ tier \\ 2 \\ colleges, \\ pursued \\ B.Tech \\ and \\ there \\ are \\ almost \\ 70 \\ percent \\ are \\ male $"
   ]
  },
  {
   "cell_type": "markdown",
   "id": "artificial-profit",
   "metadata": {},
   "source": [
    " "
   ]
  },
  {
   "cell_type": "code",
   "execution_count": 714,
   "id": "statewide-delight",
   "metadata": {
    "ExecuteTime": {
     "end_time": "2021-05-25T15:13:29.795245Z",
     "start_time": "2021-05-25T15:13:29.227263Z"
    }
   },
   "outputs": [
    {
     "data": {
      "text/plain": [
       "Gender  CollegeTier  CollegeCityTier\n",
       "f       1            0                    25\n",
       "                     1                    26\n",
       "        2            0                   624\n",
       "                     1                   282\n",
       "m       1            0                   134\n",
       "                     1                   112\n",
       "        2            0                  2014\n",
       "                     1                   781\n",
       "Name: ID, dtype: int64"
      ]
     },
     "execution_count": 714,
     "metadata": {},
     "output_type": "execute_result"
    }
   ],
   "source": [
    "df.groupby(by=['Gender','CollegeTier','CollegeCityTier' ]).count()['ID']\n",
    "# count of male and female w.r.t collegetier and collegecitytier\n",
    "# from 2nd tier college male and female students are higher"
   ]
  },
  {
   "cell_type": "code",
   "execution_count": 324,
   "id": "amazing-elephant",
   "metadata": {
    "ExecuteTime": {
     "end_time": "2021-05-23T09:49:05.628306Z",
     "start_time": "2021-05-23T09:49:04.883924Z"
    },
    "scrolled": true
   },
   "outputs": [
    {
     "data": {
      "image/png": "[encoded data removed]",
      "text/plain": [
       "<Figure size 936x432 with 1 Axes>"
      ]
     },
     "metadata": {
      "needs_background": "light"
     },
     "output_type": "display_data"
    }
   ],
   "source": [
    "a4_dims = (13,6)\n",
    "fig, ax = pyplot.subplots(figsize=a4_dims)\n",
    "\n",
    "k=sns.countplot(data=df, x= 'CollegeState', hue='CollegeTier')\n",
    "k.set_xticklabels(ax.get_xticklabels(),rotation=45);\n",
    "\n",
    "# large number of students are from Madhya Pradesh and followed by Delhi, Karnataka, Telangana"
   ]
  },
  {
   "cell_type": "code",
   "execution_count": 341,
   "id": "floppy-seattle",
   "metadata": {
    "ExecuteTime": {
     "end_time": "2021-05-23T10:35:46.434549Z",
     "start_time": "2021-05-23T10:35:46.402633Z"
    },
    "scrolled": true
   },
   "outputs": [
    {
     "data": {
      "text/plain": [
       "Gender  Join_Age  Degree       \n",
       "f       0         B.Tech/B.E.         1\n",
       "        18        B.Tech/B.E.         1\n",
       "        19        B.Tech/B.E.         1\n",
       "        20        B.Tech/B.E.         9\n",
       "                  MCA                 1\n",
       "        21        B.Tech/B.E.       176\n",
       "        22        B.Tech/B.E.       345\n",
       "                  M.Tech./M.E.        1\n",
       "                  MCA                 4\n",
       "        23        B.Tech/B.E.       252\n",
       "                  M.Tech./M.E.        4\n",
       "                  MCA                13\n",
       "        24        B.Tech/B.E.        70\n",
       "                  M.Sc. (Tech.)       1\n",
       "                  M.Tech./M.E.        3\n",
       "                  MCA                23\n",
       "        25        B.Tech/B.E.        22\n",
       "                  M.Tech./M.E.        1\n",
       "                  MCA                12\n",
       "        26        B.Tech/B.E.         7\n",
       "                  MCA                 4\n",
       "        27        B.Tech/B.E.         4\n",
       "                  MCA                 1\n",
       "        29        B.Tech/B.E.         1\n",
       "m       12        B.Tech/B.E.         1\n",
       "        17        B.Tech/B.E.         1\n",
       "        18        B.Tech/B.E.         2\n",
       "        19        B.Tech/B.E.         3\n",
       "                  M.Tech./M.E.        1\n",
       "        20        B.Tech/B.E.        32\n",
       "                  MCA                 1\n",
       "        21        B.Tech/B.E.       442\n",
       "                  M.Tech./M.E.        4\n",
       "        22        B.Tech/B.E.      1047\n",
       "                  M.Sc. (Tech.)       1\n",
       "                  M.Tech./M.E.        4\n",
       "                  MCA                 8\n",
       "        23        B.Tech/B.E.       772\n",
       "                  M.Tech./M.E.        9\n",
       "                  MCA                40\n",
       "        24        B.Tech/B.E.       355\n",
       "                  M.Tech./M.E.       11\n",
       "                  MCA                62\n",
       "        25        B.Tech/B.E.       108\n",
       "                  M.Tech./M.E.        7\n",
       "                  MCA                32\n",
       "        26        B.Tech/B.E.        34\n",
       "                  M.Tech./M.E.        4\n",
       "                  MCA                25\n",
       "        27        B.Tech/B.E.         6\n",
       "                  M.Tech./M.E.        3\n",
       "                  MCA                10\n",
       "        28        B.Tech/B.E.         4\n",
       "                  M.Tech./M.E.        1\n",
       "                  MCA                 4\n",
       "        29        B.Tech/B.E.         2\n",
       "                  MCA                 3\n",
       "        30        B.Tech/B.E.         1\n",
       "        32        B.Tech/B.E.         1\n",
       "Name: ID, dtype: int64"
      ]
     },
     "execution_count": 341,
     "metadata": {},
     "output_type": "execute_result"
    }
   ],
   "source": [
    "df.groupby(by=['Gender','Join_Age','Degree' ]).count()['ID']\n",
    "\n",
    "# values shows number of male and female according to their age and their degree "
   ]
  },
  {
   "cell_type": "code",
   "execution_count": 342,
   "id": "overhead-leadership",
   "metadata": {
    "ExecuteTime": {
     "end_time": "2021-05-23T10:35:55.581474Z",
     "start_time": "2021-05-23T10:35:54.945148Z"
    },
    "scrolled": true
   },
   "outputs": [
    {
     "data": {
      "text/plain": [
       "<AxesSubplot:xlabel='Join_Age', ylabel='Salary'>"
      ]
     },
     "execution_count": 342,
     "metadata": {},
     "output_type": "execute_result"
    },
    {
     "data": {
      "image/png": "[encoded data removed]",
      "text/plain": [
       "<Figure size 432x288 with 1 Axes>"
      ]
     },
     "metadata": {
      "needs_background": "light"
     },
     "output_type": "display_data"
    }
   ],
   "source": [
    "sns.boxplot(data=df,x='Join_Age', y='Salary')\n",
    "# 22 and 23 had large number of outlier data which concludes there are high salaries at that age group"
   ]
  },
  {
   "cell_type": "code",
   "execution_count": 305,
   "id": "derived-bosnia",
   "metadata": {
    "ExecuteTime": {
     "end_time": "2021-05-23T09:29:46.819178Z",
     "start_time": "2021-05-23T09:29:46.738369Z"
    }
   },
   "outputs": [
    {
     "name": "stdout",
     "output_type": "stream",
     "text": [
      "average salary package acc to collegetier: CollegeTier\n",
      "1    442356.902357\n",
      "2    296893.812483\n",
      "Name: Salary, dtype: float64\n",
      "maximum salary package acc to collegetier: CollegeTier\n",
      "1    4000000\n",
      "2    4000000\n",
      "Name: Salary, dtype: int64\n"
     ]
    },
    {
     "data": {
      "text/plain": [
       "(None, None)"
      ]
     },
     "execution_count": 305,
     "metadata": {},
     "output_type": "execute_result"
    }
   ],
   "source": [
    "print(\"average salary package acc to collegetier:\",df.groupby('CollegeTier')['Salary'].mean()), print(\"maximum salary package acc to collegetier:\",df.groupby('CollegeTier')['Salary'].max())"
   ]
  },
  {
   "cell_type": "code",
   "execution_count": 309,
   "id": "still-garlic",
   "metadata": {
    "ExecuteTime": {
     "end_time": "2021-05-23T09:31:30.021273Z",
     "start_time": "2021-05-23T09:31:30.011301Z"
    }
   },
   "outputs": [
    {
     "data": {
      "text/plain": [
       "1237    1\n",
       "2182    2\n",
       "Name: CollegeTier, dtype: int64"
      ]
     },
     "execution_count": 309,
     "metadata": {},
     "output_type": "execute_result"
    }
   ],
   "source": [
    "df[df['Salary']==4000000]['CollegeTier'] #it gives out the index position of highest salary\n",
    "# here 2 highest salary packages are recognised one is from tier 1 college and other is from tier 2 college"
   ]
  },
  {
   "cell_type": "code",
   "execution_count": 321,
   "id": "charged-conviction",
   "metadata": {
    "ExecuteTime": {
     "end_time": "2021-05-23T09:34:02.853734Z",
     "start_time": "2021-05-23T09:34:02.843758Z"
    },
    "scrolled": true
   },
   "outputs": [
    {
     "name": "stdout",
     "output_type": "stream",
     "text": [
      "highest salary package of person from tier 1 college:\n",
      " ID                                          48107\n",
      "Salary                                    4000000\n",
      "DOJ                           2010-07-01 00:00:00\n",
      "DOL                           2015-03-01 00:00:00\n",
      "Designation              senior software engineer\n",
      "JobCity                                 New Delhi\n",
      "Gender                                          m\n",
      "DOB                           1987-09-09 00:00:00\n",
      "10percentage                                90.83\n",
      "10board                                      rbse\n",
      "12graduation                                 2005\n",
      "12percentage                                88.77\n",
      "12board                                      rbse\n",
      "CollegeID                                    2857\n",
      "CollegeTier                                     1\n",
      "Degree                                B.Tech/B.E.\n",
      "Specialization               computer engineering\n",
      "collegeGPA                                   72.6\n",
      "CollegeCityID                                2857\n",
      "CollegeCityTier                                 1\n",
      "CollegeState                            Rajasthan\n",
      "GraduationYear                               2010\n",
      "English                                       675\n",
      "Logical                                       685\n",
      "Quant                                         585\n",
      "Domain                                   0.990009\n",
      "ComputerProgramming                           655\n",
      "ElectronicsAndSemicon                          -1\n",
      "ComputerScience                                -1\n",
      "MechanicalEngg                                 -1\n",
      "ElectricalEngg                                 -1\n",
      "TelecomEngg                                    -1\n",
      "CivilEngg                                      -1\n",
      "conscientiousness                         -0.7264\n",
      "agreeableness                              0.0328\n",
      "extraversion                              -1.6502\n",
      "nueroticism                               -0.8778\n",
      "openess_to_experience                     -0.1295\n",
      "Age                                            23\n",
      "Name: 1237, dtype: object\n",
      "highest salary package of person from tier 2 college:\n",
      " ID                                      41147\n",
      "Salary                                4000000\n",
      "DOJ                       2010-01-01 00:00:00\n",
      "DOL                       2011-12-01 00:00:00\n",
      "Designation               automation engineer\n",
      "JobCity                               gurgaon\n",
      "Gender                                      m\n",
      "DOB                       1987-09-13 00:00:00\n",
      "10percentage                             53.0\n",
      "10board                               up bord\n",
      "12graduation                             2004\n",
      "12percentage                             61.0\n",
      "12board                               up bord\n",
      "CollegeID                                  64\n",
      "CollegeTier                                 2\n",
      "Degree                                    MCA\n",
      "Specialization           computer application\n",
      "collegeGPA                               65.0\n",
      "CollegeCityID                              64\n",
      "CollegeCityTier                             0\n",
      "CollegeState                    Uttar Pradesh\n",
      "GraduationYear                           2010\n",
      "English                                   405\n",
      "Logical                                   455\n",
      "Quant                                     475\n",
      "Domain                               0.525923\n",
      "ComputerProgramming                       415\n",
      "ElectronicsAndSemicon                      -1\n",
      "ComputerScience                            -1\n",
      "MechanicalEngg                             -1\n",
      "ElectricalEngg                             -1\n",
      "TelecomEngg                                -1\n",
      "CivilEngg                                  -1\n",
      "conscientiousness                     -3.3539\n",
      "agreeableness                         -0.4353\n",
      "extraversion                          -1.0697\n",
      "nueroticism                           -0.0552\n",
      "openess_to_experience                 -2.6572\n",
      "Age                                        23\n",
      "Name: 2182, dtype: object\n"
     ]
    }
   ],
   "source": [
    "print(\"highest salary package of person from tier 1 college:\\n\",df.loc[1237]), \n",
    "print(\"highest salary package of person from tier 2 college:\\n\",df.loc[2182])"
   ]
  },
  {
   "cell_type": "code",
   "execution_count": 298,
   "id": "consecutive-climate",
   "metadata": {
    "ExecuteTime": {
     "end_time": "2021-05-23T09:24:41.327541Z",
     "start_time": "2021-05-23T09:24:41.161587Z"
    },
    "scrolled": true
   },
   "outputs": [
    {
     "data": {
      "text/html": [
       "<div>\n",
       "<style scoped>\n",
       "    .dataframe tbody tr th:only-of-type {\n",
       "        vertical-align: middle;\n",
       "    }\n",
       "\n",
       "    .dataframe tbody tr th {\n",
       "        vertical-align: top;\n",
       "    }\n",
       "\n",
       "    .dataframe thead th {\n",
       "        text-align: right;\n",
       "    }\n",
       "</style>\n",
       "<table border=\"1\" class=\"dataframe\">\n",
       "  <thead>\n",
       "    <tr style=\"text-align: right;\">\n",
       "      <th>CollegeTier</th>\n",
       "      <th>1</th>\n",
       "      <th>2</th>\n",
       "    </tr>\n",
       "    <tr>\n",
       "      <th>CollegeState</th>\n",
       "      <th></th>\n",
       "      <th></th>\n",
       "    </tr>\n",
       "  </thead>\n",
       "  <tbody>\n",
       "    <tr>\n",
       "      <th>Andhra Pradesh</th>\n",
       "      <td>320000.0</td>\n",
       "      <td>3000000.0</td>\n",
       "    </tr>\n",
       "    <tr>\n",
       "      <th>Assam</th>\n",
       "      <td>800000.0</td>\n",
       "      <td>360000.0</td>\n",
       "    </tr>\n",
       "    <tr>\n",
       "      <th>Bihar</th>\n",
       "      <td>610000.0</td>\n",
       "      <td>190000.0</td>\n",
       "    </tr>\n",
       "    <tr>\n",
       "      <th>Chhattisgarh</th>\n",
       "      <td>510000.0</td>\n",
       "      <td>550000.0</td>\n",
       "    </tr>\n",
       "    <tr>\n",
       "      <th>Delhi</th>\n",
       "      <td>1200000.0</td>\n",
       "      <td>705000.0</td>\n",
       "    </tr>\n",
       "    <tr>\n",
       "      <th>Goa</th>\n",
       "      <td>NaN</td>\n",
       "      <td>450000.0</td>\n",
       "    </tr>\n",
       "    <tr>\n",
       "      <th>Gujarat</th>\n",
       "      <td>460000.0</td>\n",
       "      <td>1200000.0</td>\n",
       "    </tr>\n",
       "    <tr>\n",
       "      <th>Haryana</th>\n",
       "      <td>610000.0</td>\n",
       "      <td>950000.0</td>\n",
       "    </tr>\n",
       "    <tr>\n",
       "      <th>Himachal Pradesh</th>\n",
       "      <td>400000.0</td>\n",
       "      <td>570000.0</td>\n",
       "    </tr>\n",
       "    <tr>\n",
       "      <th>Jammu and Kashmir</th>\n",
       "      <td>495000.0</td>\n",
       "      <td>440000.0</td>\n",
       "    </tr>\n",
       "    <tr>\n",
       "      <th>Jharkhand</th>\n",
       "      <td>850000.0</td>\n",
       "      <td>1000000.0</td>\n",
       "    </tr>\n",
       "    <tr>\n",
       "      <th>Karnataka</th>\n",
       "      <td>820000.0</td>\n",
       "      <td>1100000.0</td>\n",
       "    </tr>\n",
       "    <tr>\n",
       "      <th>Kerala</th>\n",
       "      <td>450000.0</td>\n",
       "      <td>560000.0</td>\n",
       "    </tr>\n",
       "    <tr>\n",
       "      <th>Madhya Pradesh</th>\n",
       "      <td>1300000.0</td>\n",
       "      <td>2020000.0</td>\n",
       "    </tr>\n",
       "    <tr>\n",
       "      <th>Maharashtra</th>\n",
       "      <td>1500000.0</td>\n",
       "      <td>3500000.0</td>\n",
       "    </tr>\n",
       "    <tr>\n",
       "      <th>Meghalaya</th>\n",
       "      <td>NaN</td>\n",
       "      <td>900000.0</td>\n",
       "    </tr>\n",
       "    <tr>\n",
       "      <th>Orissa</th>\n",
       "      <td>650000.0</td>\n",
       "      <td>1745000.0</td>\n",
       "    </tr>\n",
       "    <tr>\n",
       "      <th>Punjab</th>\n",
       "      <td>1100000.0</td>\n",
       "      <td>1800000.0</td>\n",
       "    </tr>\n",
       "    <tr>\n",
       "      <th>Rajasthan</th>\n",
       "      <td>4000000.0</td>\n",
       "      <td>2600000.0</td>\n",
       "    </tr>\n",
       "    <tr>\n",
       "      <th>Sikkim</th>\n",
       "      <td>NaN</td>\n",
       "      <td>520000.0</td>\n",
       "    </tr>\n",
       "    <tr>\n",
       "      <th>Tamil Nadu</th>\n",
       "      <td>400000.0</td>\n",
       "      <td>2300000.0</td>\n",
       "    </tr>\n",
       "    <tr>\n",
       "      <th>Telangana</th>\n",
       "      <td>550000.0</td>\n",
       "      <td>1500000.0</td>\n",
       "    </tr>\n",
       "    <tr>\n",
       "      <th>Union Territory</th>\n",
       "      <td>NaN</td>\n",
       "      <td>350000.0</td>\n",
       "    </tr>\n",
       "    <tr>\n",
       "      <th>Uttar Pradesh</th>\n",
       "      <td>2000000.0</td>\n",
       "      <td>4000000.0</td>\n",
       "    </tr>\n",
       "    <tr>\n",
       "      <th>Uttarakhand</th>\n",
       "      <td>700000.0</td>\n",
       "      <td>700000.0</td>\n",
       "    </tr>\n",
       "    <tr>\n",
       "      <th>West Bengal</th>\n",
       "      <td>650000.0</td>\n",
       "      <td>1300000.0</td>\n",
       "    </tr>\n",
       "  </tbody>\n",
       "</table>\n",
       "</div>"
      ],
      "text/plain": [
       "CollegeTier                1          2\n",
       "CollegeState                           \n",
       "Andhra Pradesh      320000.0  3000000.0\n",
       "Assam               800000.0   360000.0\n",
       "Bihar               610000.0   190000.0\n",
       "Chhattisgarh        510000.0   550000.0\n",
       "Delhi              1200000.0   705000.0\n",
       "Goa                      NaN   450000.0\n",
       "Gujarat             460000.0  1200000.0\n",
       "Haryana             610000.0   950000.0\n",
       "Himachal Pradesh    400000.0   570000.0\n",
       "Jammu and Kashmir   495000.0   440000.0\n",
       "Jharkhand           850000.0  1000000.0\n",
       "Karnataka           820000.0  1100000.0\n",
       "Kerala              450000.0   560000.0\n",
       "Madhya Pradesh     1300000.0  2020000.0\n",
       "Maharashtra        1500000.0  3500000.0\n",
       "Meghalaya                NaN   900000.0\n",
       "Orissa              650000.0  1745000.0\n",
       "Punjab             1100000.0  1800000.0\n",
       "Rajasthan          4000000.0  2600000.0\n",
       "Sikkim                   NaN   520000.0\n",
       "Tamil Nadu          400000.0  2300000.0\n",
       "Telangana           550000.0  1500000.0\n",
       "Union Territory          NaN   350000.0\n",
       "Uttar Pradesh      2000000.0  4000000.0\n",
       "Uttarakhand         700000.0   700000.0\n",
       "West Bengal         650000.0  1300000.0"
      ]
     },
     "execution_count": 298,
     "metadata": {},
     "output_type": "execute_result"
    }
   ],
   "source": [
    "pd.crosstab(df.CollegeState, df.CollegeTier, values=df.Salary, aggfunc='max')"
   ]
  },
  {
   "cell_type": "code",
   "execution_count": 296,
   "id": "mysterious-mystery",
   "metadata": {
    "ExecuteTime": {
     "end_time": "2021-05-23T09:09:35.610103Z",
     "start_time": "2021-05-23T09:09:35.544277Z"
    },
    "scrolled": true
   },
   "outputs": [
    {
     "data": {
      "text/html": [
       "<div>\n",
       "<style scoped>\n",
       "    .dataframe tbody tr th:only-of-type {\n",
       "        vertical-align: middle;\n",
       "    }\n",
       "\n",
       "    .dataframe tbody tr th {\n",
       "        vertical-align: top;\n",
       "    }\n",
       "\n",
       "    .dataframe thead th {\n",
       "        text-align: right;\n",
       "    }\n",
       "</style>\n",
       "<table border=\"1\" class=\"dataframe\">\n",
       "  <thead>\n",
       "    <tr style=\"text-align: right;\">\n",
       "      <th>Degree</th>\n",
       "      <th>B.Tech/B.E.</th>\n",
       "      <th>M.Sc. (Tech.)</th>\n",
       "      <th>M.Tech./M.E.</th>\n",
       "      <th>MCA</th>\n",
       "    </tr>\n",
       "    <tr>\n",
       "      <th>CollegeState</th>\n",
       "      <th></th>\n",
       "      <th></th>\n",
       "      <th></th>\n",
       "      <th></th>\n",
       "    </tr>\n",
       "  </thead>\n",
       "  <tbody>\n",
       "    <tr>\n",
       "      <th>Andhra Pradesh</th>\n",
       "      <td>3000000.0</td>\n",
       "      <td>NaN</td>\n",
       "      <td>560000.0</td>\n",
       "      <td>560000.0</td>\n",
       "    </tr>\n",
       "    <tr>\n",
       "      <th>Assam</th>\n",
       "      <td>800000.0</td>\n",
       "      <td>NaN</td>\n",
       "      <td>NaN</td>\n",
       "      <td>NaN</td>\n",
       "    </tr>\n",
       "    <tr>\n",
       "      <th>Bihar</th>\n",
       "      <td>610000.0</td>\n",
       "      <td>NaN</td>\n",
       "      <td>NaN</td>\n",
       "      <td>NaN</td>\n",
       "    </tr>\n",
       "    <tr>\n",
       "      <th>Chhattisgarh</th>\n",
       "      <td>550000.0</td>\n",
       "      <td>NaN</td>\n",
       "      <td>360000.0</td>\n",
       "      <td>240000.0</td>\n",
       "    </tr>\n",
       "    <tr>\n",
       "      <th>Delhi</th>\n",
       "      <td>1200000.0</td>\n",
       "      <td>NaN</td>\n",
       "      <td>NaN</td>\n",
       "      <td>750000.0</td>\n",
       "    </tr>\n",
       "    <tr>\n",
       "      <th>Goa</th>\n",
       "      <td>450000.0</td>\n",
       "      <td>NaN</td>\n",
       "      <td>NaN</td>\n",
       "      <td>NaN</td>\n",
       "    </tr>\n",
       "    <tr>\n",
       "      <th>Gujarat</th>\n",
       "      <td>1200000.0</td>\n",
       "      <td>460000.0</td>\n",
       "      <td>400000.0</td>\n",
       "      <td>NaN</td>\n",
       "    </tr>\n",
       "    <tr>\n",
       "      <th>Haryana</th>\n",
       "      <td>950000.0</td>\n",
       "      <td>NaN</td>\n",
       "      <td>440000.0</td>\n",
       "      <td>530000.0</td>\n",
       "    </tr>\n",
       "    <tr>\n",
       "      <th>Himachal Pradesh</th>\n",
       "      <td>570000.0</td>\n",
       "      <td>NaN</td>\n",
       "      <td>NaN</td>\n",
       "      <td>NaN</td>\n",
       "    </tr>\n",
       "    <tr>\n",
       "      <th>Jammu and Kashmir</th>\n",
       "      <td>495000.0</td>\n",
       "      <td>NaN</td>\n",
       "      <td>NaN</td>\n",
       "      <td>420000.0</td>\n",
       "    </tr>\n",
       "    <tr>\n",
       "      <th>Jharkhand</th>\n",
       "      <td>1000000.0</td>\n",
       "      <td>NaN</td>\n",
       "      <td>NaN</td>\n",
       "      <td>820000.0</td>\n",
       "    </tr>\n",
       "    <tr>\n",
       "      <th>Karnataka</th>\n",
       "      <td>1100000.0</td>\n",
       "      <td>NaN</td>\n",
       "      <td>820000.0</td>\n",
       "      <td>505000.0</td>\n",
       "    </tr>\n",
       "    <tr>\n",
       "      <th>Kerala</th>\n",
       "      <td>560000.0</td>\n",
       "      <td>NaN</td>\n",
       "      <td>NaN</td>\n",
       "      <td>400000.0</td>\n",
       "    </tr>\n",
       "    <tr>\n",
       "      <th>Madhya Pradesh</th>\n",
       "      <td>2000000.0</td>\n",
       "      <td>NaN</td>\n",
       "      <td>700000.0</td>\n",
       "      <td>2020000.0</td>\n",
       "    </tr>\n",
       "    <tr>\n",
       "      <th>Maharashtra</th>\n",
       "      <td>3500000.0</td>\n",
       "      <td>NaN</td>\n",
       "      <td>525000.0</td>\n",
       "      <td>445000.0</td>\n",
       "    </tr>\n",
       "    <tr>\n",
       "      <th>Meghalaya</th>\n",
       "      <td>900000.0</td>\n",
       "      <td>NaN</td>\n",
       "      <td>NaN</td>\n",
       "      <td>NaN</td>\n",
       "    </tr>\n",
       "    <tr>\n",
       "      <th>Orissa</th>\n",
       "      <td>1745000.0</td>\n",
       "      <td>NaN</td>\n",
       "      <td>NaN</td>\n",
       "      <td>640000.0</td>\n",
       "    </tr>\n",
       "    <tr>\n",
       "      <th>Punjab</th>\n",
       "      <td>1800000.0</td>\n",
       "      <td>180000.0</td>\n",
       "      <td>460000.0</td>\n",
       "      <td>540000.0</td>\n",
       "    </tr>\n",
       "    <tr>\n",
       "      <th>Rajasthan</th>\n",
       "      <td>4000000.0</td>\n",
       "      <td>NaN</td>\n",
       "      <td>650000.0</td>\n",
       "      <td>300000.0</td>\n",
       "    </tr>\n",
       "    <tr>\n",
       "      <th>Sikkim</th>\n",
       "      <td>345000.0</td>\n",
       "      <td>NaN</td>\n",
       "      <td>NaN</td>\n",
       "      <td>520000.0</td>\n",
       "    </tr>\n",
       "    <tr>\n",
       "      <th>Tamil Nadu</th>\n",
       "      <td>2300000.0</td>\n",
       "      <td>NaN</td>\n",
       "      <td>360000.0</td>\n",
       "      <td>500000.0</td>\n",
       "    </tr>\n",
       "    <tr>\n",
       "      <th>Telangana</th>\n",
       "      <td>1500000.0</td>\n",
       "      <td>NaN</td>\n",
       "      <td>400000.0</td>\n",
       "      <td>1200000.0</td>\n",
       "    </tr>\n",
       "    <tr>\n",
       "      <th>Union Territory</th>\n",
       "      <td>350000.0</td>\n",
       "      <td>NaN</td>\n",
       "      <td>NaN</td>\n",
       "      <td>NaN</td>\n",
       "    </tr>\n",
       "    <tr>\n",
       "      <th>Uttar Pradesh</th>\n",
       "      <td>2500000.0</td>\n",
       "      <td>NaN</td>\n",
       "      <td>1860000.0</td>\n",
       "      <td>4000000.0</td>\n",
       "    </tr>\n",
       "    <tr>\n",
       "      <th>Uttarakhand</th>\n",
       "      <td>700000.0</td>\n",
       "      <td>NaN</td>\n",
       "      <td>700000.0</td>\n",
       "      <td>460000.0</td>\n",
       "    </tr>\n",
       "    <tr>\n",
       "      <th>West Bengal</th>\n",
       "      <td>1300000.0</td>\n",
       "      <td>NaN</td>\n",
       "      <td>400000.0</td>\n",
       "      <td>650000.0</td>\n",
       "    </tr>\n",
       "  </tbody>\n",
       "</table>\n",
       "</div>"
      ],
      "text/plain": [
       "Degree             B.Tech/B.E.  M.Sc. (Tech.)  M.Tech./M.E.        MCA\n",
       "CollegeState                                                          \n",
       "Andhra Pradesh       3000000.0            NaN      560000.0   560000.0\n",
       "Assam                 800000.0            NaN           NaN        NaN\n",
       "Bihar                 610000.0            NaN           NaN        NaN\n",
       "Chhattisgarh          550000.0            NaN      360000.0   240000.0\n",
       "Delhi                1200000.0            NaN           NaN   750000.0\n",
       "Goa                   450000.0            NaN           NaN        NaN\n",
       "Gujarat              1200000.0       460000.0      400000.0        NaN\n",
       "Haryana               950000.0            NaN      440000.0   530000.0\n",
       "Himachal Pradesh      570000.0            NaN           NaN        NaN\n",
       "Jammu and Kashmir     495000.0            NaN           NaN   420000.0\n",
       "Jharkhand            1000000.0            NaN           NaN   820000.0\n",
       "Karnataka            1100000.0            NaN      820000.0   505000.0\n",
       "Kerala                560000.0            NaN           NaN   400000.0\n",
       "Madhya Pradesh       2000000.0            NaN      700000.0  2020000.0\n",
       "Maharashtra          3500000.0            NaN      525000.0   445000.0\n",
       "Meghalaya             900000.0            NaN           NaN        NaN\n",
       "Orissa               1745000.0            NaN           NaN   640000.0\n",
       "Punjab               1800000.0       180000.0      460000.0   540000.0\n",
       "Rajasthan            4000000.0            NaN      650000.0   300000.0\n",
       "Sikkim                345000.0            NaN           NaN   520000.0\n",
       "Tamil Nadu           2300000.0            NaN      360000.0   500000.0\n",
       "Telangana            1500000.0            NaN      400000.0  1200000.0\n",
       "Union Territory       350000.0            NaN           NaN        NaN\n",
       "Uttar Pradesh        2500000.0            NaN     1860000.0  4000000.0\n",
       "Uttarakhand           700000.0            NaN      700000.0   460000.0\n",
       "West Bengal          1300000.0            NaN      400000.0   650000.0"
      ]
     },
     "execution_count": 296,
     "metadata": {},
     "output_type": "execute_result"
    }
   ],
   "source": [
    "pd.crosstab(df.CollegeState, df.Degree, values=df.Salary, aggfunc='max')"
   ]
  },
  {
   "cell_type": "code",
   "execution_count": 343,
   "id": "electrical-ivory",
   "metadata": {
    "ExecuteTime": {
     "end_time": "2021-05-23T10:36:23.484241Z",
     "start_time": "2021-05-23T10:36:23.430385Z"
    },
    "scrolled": false
   },
   "outputs": [
    {
     "data": {
      "text/plain": [
       "23       180000\n",
       "1151     140000\n",
       "1404     700000\n",
       "1839     205000\n",
       "1982    2500000\n",
       "2606     300000\n",
       "3690     290000\n",
       "3803     330000\n",
       "3857     150000\n",
       "Name: Salary, dtype: int64"
      ]
     },
     "execution_count": 343,
     "metadata": {},
     "output_type": "execute_result"
    }
   ],
   "source": [
    "df[df['Join_Age']==28]['Salary']\n",
    "# at joining age of 28 the salary is shown"
   ]
  },
  {
   "cell_type": "code",
   "execution_count": 330,
   "id": "ongoing-abortion",
   "metadata": {
    "ExecuteTime": {
     "end_time": "2021-05-23T10:07:38.751985Z",
     "start_time": "2021-05-23T10:07:38.739019Z"
    },
    "scrolled": true
   },
   "outputs": [
    {
     "data": {
      "text/plain": [
       " 0       2289\n",
       " 1       1394\n",
       " 2        194\n",
       "-1         39\n",
       " 3         32\n",
       "-2         14\n",
       "-3         13\n",
       " 4          8\n",
       "-4          7\n",
       "-6          3\n",
       "-8          1\n",
       "-22         1\n",
       " 2014       1\n",
       "-5          1\n",
       "-7          1\n",
       "dtype: int64"
      ]
     },
     "execution_count": 330,
     "metadata": {},
     "output_type": "execute_result"
    }
   ],
   "source": [
    "(df['DOJ'].dt.year-df['GraduationYear']).value_counts()\n",
    "# it gives the difference b/w graduation year and joining year "
   ]
  },
  {
   "cell_type": "code",
   "execution_count": 332,
   "id": "hindu-enterprise",
   "metadata": {
    "ExecuteTime": {
     "end_time": "2021-05-23T10:10:14.288400Z",
     "start_time": "2021-05-23T10:10:14.277426Z"
    }
   },
   "outputs": [
    {
     "data": {
      "text/plain": [
       "2014    1596\n",
       "2013    1004\n",
       "2012     590\n",
       "2011     381\n",
       "2015     248\n",
       "2010     166\n",
       "2009       5\n",
       "2007       4\n",
       "2004       1\n",
       "2006       1\n",
       "2008       1\n",
       "1991       1\n",
       "Name: DOJ, dtype: int64"
      ]
     },
     "execution_count": 332,
     "metadata": {},
     "output_type": "execute_result"
    }
   ],
   "source": [
    "(df['DOJ'].dt.year).value_counts()"
   ]
  },
  {
   "cell_type": "code",
   "execution_count": 331,
   "id": "integral-alias",
   "metadata": {
    "ExecuteTime": {
     "end_time": "2021-05-23T10:09:23.951296Z",
     "start_time": "2021-05-23T10:09:23.939324Z"
    }
   },
   "outputs": [
    {
     "data": {
      "text/plain": [
       "2013    1181\n",
       "2014    1036\n",
       "2012     847\n",
       "2011     507\n",
       "2010     292\n",
       "2015      94\n",
       "2009      24\n",
       "2017       8\n",
       "2016       7\n",
       "0          1\n",
       "2007       1\n",
       "Name: GraduationYear, dtype: int64"
      ]
     },
     "execution_count": 331,
     "metadata": {},
     "output_type": "execute_result"
    }
   ],
   "source": [
    "df['GraduationYear'].value_counts()"
   ]
  },
  {
   "cell_type": "code",
   "execution_count": 715,
   "id": "third-respect",
   "metadata": {
    "ExecuteTime": {
     "end_time": "2021-05-25T15:18:59.611099Z",
     "start_time": "2021-05-25T15:18:59.187117Z"
    }
   },
   "outputs": [
    {
     "data": {
      "text/plain": [
       "0       21\n",
       "1       23\n",
       "2       22\n",
       "3       22\n",
       "4       21\n",
       "        ..\n",
       "3993    23\n",
       "3994    21\n",
       "3995    21\n",
       "3996    22\n",
       "3997    21\n",
       "Name: Grad_Age, Length: 3998, dtype: int64"
      ]
     },
     "execution_count": 715,
     "metadata": {},
     "output_type": "execute_result"
    }
   ],
   "source": [
    "df['Grad_Age']=df['GraduationYear']-df['DOB'].dt.year\n",
    "df['Grad_Age']"
   ]
  },
  {
   "cell_type": "markdown",
   "id": "random-chinese",
   "metadata": {},
   "source": [
    "## Research Questions\n",
    "- Times of India article dated Jan 18, 2019 states that “After doing your Computer Science\n",
    "Engineering if you take up jobs as a Programming Analyst, Software Engineer,\n",
    "Hardware Engineer and Associate Engineer you can earn up to 2.5-3 lakhs as a fresh\n",
    "graduate.” Test this claim with the data given to you."
   ]
  },
  {
   "cell_type": "markdown",
   "id": "champion-cardiff",
   "metadata": {},
   "source": [
    "**claiming here that  students who had done computer science engineering and who took jobs as programmer analyst and software engineer, hardware engineer, associate engineer would get upto 2.5L to 3L salaries as a fresh graduate**"
   ]
  },
  {
   "cell_type": "markdown",
   "id": "aware-elimination",
   "metadata": {},
   "source": [
    "$ \\large claiming \\ that$  $\\large H_0 \\ (Null Hypothesis) : H_0 \\geq \\ 3L $ \\\n",
    "$\\hspace{3cm}$ $ \\large H_1 \\ (Alternate Hypothesis) : H_1 \\lt \\ 3L$"
   ]
  },
  {
   "cell_type": "code",
   "execution_count": 61,
   "id": "quarterly-tribute",
   "metadata": {
    "ExecuteTime": {
     "end_time": "2021-05-26T04:40:55.154118Z",
     "start_time": "2021-05-26T04:40:55.140156Z"
    }
   },
   "outputs": [
    {
     "data": {
      "text/plain": [
       "True     2289\n",
       "False    1709\n",
       "dtype: int64"
      ]
     },
     "execution_count": 61,
     "metadata": {},
     "output_type": "execute_result"
    }
   ],
   "source": [
    "(df['DOJ'].dt.year == df['GraduationYear']).value_counts() # who have the same year of their graduation and job shows true"
   ]
  },
  {
   "cell_type": "code",
   "execution_count": 114,
   "id": "false-component",
   "metadata": {
    "ExecuteTime": {
     "end_time": "2021-05-26T05:28:08.918435Z",
     "start_time": "2021-05-26T05:28:08.816709Z"
    },
    "scrolled": true
   },
   "outputs": [
    {
     "data": {
      "text/html": [
       "<div>\n",
       "<style scoped>\n",
       "    .dataframe tbody tr th:only-of-type {\n",
       "        vertical-align: middle;\n",
       "    }\n",
       "\n",
       "    .dataframe tbody tr th {\n",
       "        vertical-align: top;\n",
       "    }\n",
       "\n",
       "    .dataframe thead th {\n",
       "        text-align: right;\n",
       "    }\n",
       "</style>\n",
       "<table border=\"1\" class=\"dataframe\">\n",
       "  <thead>\n",
       "    <tr style=\"text-align: right;\">\n",
       "      <th></th>\n",
       "      <th>ID</th>\n",
       "      <th>Salary</th>\n",
       "      <th>DOJ</th>\n",
       "      <th>DOL</th>\n",
       "      <th>Designation</th>\n",
       "      <th>JobCity</th>\n",
       "      <th>Gender</th>\n",
       "      <th>DOB</th>\n",
       "      <th>10percentage</th>\n",
       "      <th>10board</th>\n",
       "      <th>...</th>\n",
       "      <th>ComputerScience</th>\n",
       "      <th>MechanicalEngg</th>\n",
       "      <th>ElectricalEngg</th>\n",
       "      <th>TelecomEngg</th>\n",
       "      <th>CivilEngg</th>\n",
       "      <th>conscientiousness</th>\n",
       "      <th>agreeableness</th>\n",
       "      <th>extraversion</th>\n",
       "      <th>nueroticism</th>\n",
       "      <th>openess_to_experience</th>\n",
       "    </tr>\n",
       "  </thead>\n",
       "  <tbody>\n",
       "    <tr>\n",
       "      <th>55</th>\n",
       "      <td>989860</td>\n",
       "      <td>250000</td>\n",
       "      <td>2014-08-01</td>\n",
       "      <td>present</td>\n",
       "      <td>software engineer</td>\n",
       "      <td>Mangalore</td>\n",
       "      <td>m</td>\n",
       "      <td>1992-02-13</td>\n",
       "      <td>90.80</td>\n",
       "      <td>state board</td>\n",
       "      <td>...</td>\n",
       "      <td>376</td>\n",
       "      <td>-1</td>\n",
       "      <td>-1</td>\n",
       "      <td>-1</td>\n",
       "      <td>-1</td>\n",
       "      <td>-0.3027</td>\n",
       "      <td>0.7119</td>\n",
       "      <td>-0.2974</td>\n",
       "      <td>1.1601</td>\n",
       "      <td>-0.4776</td>\n",
       "    </tr>\n",
       "    <tr>\n",
       "      <th>499</th>\n",
       "      <td>845544</td>\n",
       "      <td>300000</td>\n",
       "      <td>2014-11-01</td>\n",
       "      <td>2015-05-01 00:00:00</td>\n",
       "      <td>software engineer</td>\n",
       "      <td>Thiruvananthapuram</td>\n",
       "      <td>f</td>\n",
       "      <td>1992-12-04</td>\n",
       "      <td>90.00</td>\n",
       "      <td>cbse</td>\n",
       "      <td>...</td>\n",
       "      <td>592</td>\n",
       "      <td>-1</td>\n",
       "      <td>-1</td>\n",
       "      <td>-1</td>\n",
       "      <td>-1</td>\n",
       "      <td>0.7027</td>\n",
       "      <td>0.7119</td>\n",
       "      <td>1.5470</td>\n",
       "      <td>-0.6147</td>\n",
       "      <td>1.0554</td>\n",
       "    </tr>\n",
       "    <tr>\n",
       "      <th>978</th>\n",
       "      <td>1143459</td>\n",
       "      <td>275000</td>\n",
       "      <td>2014-07-01</td>\n",
       "      <td>present</td>\n",
       "      <td>software engineer</td>\n",
       "      <td>Bhubaneswar</td>\n",
       "      <td>m</td>\n",
       "      <td>1991-06-04</td>\n",
       "      <td>80.42</td>\n",
       "      <td>icse</td>\n",
       "      <td>...</td>\n",
       "      <td>284</td>\n",
       "      <td>-1</td>\n",
       "      <td>-1</td>\n",
       "      <td>-1</td>\n",
       "      <td>-1</td>\n",
       "      <td>1.4208</td>\n",
       "      <td>0.8784</td>\n",
       "      <td>0.7785</td>\n",
       "      <td>-0.1076</td>\n",
       "      <td>0.2889</td>\n",
       "    </tr>\n",
       "    <tr>\n",
       "      <th>1003</th>\n",
       "      <td>745903</td>\n",
       "      <td>300000</td>\n",
       "      <td>2013-09-01</td>\n",
       "      <td>present</td>\n",
       "      <td>software engineer</td>\n",
       "      <td>Hyderabad</td>\n",
       "      <td>m</td>\n",
       "      <td>1991-03-21</td>\n",
       "      <td>89.50</td>\n",
       "      <td>state board</td>\n",
       "      <td>...</td>\n",
       "      <td>-1</td>\n",
       "      <td>-1</td>\n",
       "      <td>-1</td>\n",
       "      <td>-1</td>\n",
       "      <td>-1</td>\n",
       "      <td>0.1282</td>\n",
       "      <td>1.3779</td>\n",
       "      <td>1.3933</td>\n",
       "      <td>-2.1360</td>\n",
       "      <td>1.0554</td>\n",
       "    </tr>\n",
       "    <tr>\n",
       "      <th>1224</th>\n",
       "      <td>1062611</td>\n",
       "      <td>275000</td>\n",
       "      <td>2014-08-01</td>\n",
       "      <td>present</td>\n",
       "      <td>software engineer</td>\n",
       "      <td>Hyderabad</td>\n",
       "      <td>f</td>\n",
       "      <td>1993-05-15</td>\n",
       "      <td>82.40</td>\n",
       "      <td>state board</td>\n",
       "      <td>...</td>\n",
       "      <td>407</td>\n",
       "      <td>-1</td>\n",
       "      <td>-1</td>\n",
       "      <td>-1</td>\n",
       "      <td>-1</td>\n",
       "      <td>1.4208</td>\n",
       "      <td>0.8784</td>\n",
       "      <td>-0.6048</td>\n",
       "      <td>-1.3753</td>\n",
       "      <td>-0.2859</td>\n",
       "    </tr>\n",
       "    <tr>\n",
       "      <th>1300</th>\n",
       "      <td>1198934</td>\n",
       "      <td>275000</td>\n",
       "      <td>2014-12-01</td>\n",
       "      <td>present</td>\n",
       "      <td>software engineer</td>\n",
       "      <td>Hyderabad</td>\n",
       "      <td>m</td>\n",
       "      <td>1992-10-31</td>\n",
       "      <td>80.50</td>\n",
       "      <td>state board</td>\n",
       "      <td>...</td>\n",
       "      <td>-1</td>\n",
       "      <td>-1</td>\n",
       "      <td>-1</td>\n",
       "      <td>-1</td>\n",
       "      <td>-1</td>\n",
       "      <td>0.5591</td>\n",
       "      <td>0.0459</td>\n",
       "      <td>0.4711</td>\n",
       "      <td>-1.1218</td>\n",
       "      <td>-0.8608</td>\n",
       "    </tr>\n",
       "    <tr>\n",
       "      <th>1653</th>\n",
       "      <td>553327</td>\n",
       "      <td>300000</td>\n",
       "      <td>2013-12-01</td>\n",
       "      <td>present</td>\n",
       "      <td>software engineer</td>\n",
       "      <td>-1</td>\n",
       "      <td>m</td>\n",
       "      <td>1992-07-03</td>\n",
       "      <td>76.00</td>\n",
       "      <td>cbse</td>\n",
       "      <td>...</td>\n",
       "      <td>-1</td>\n",
       "      <td>-1</td>\n",
       "      <td>-1</td>\n",
       "      <td>-1</td>\n",
       "      <td>-1</td>\n",
       "      <td>-0.5899</td>\n",
       "      <td>0.2124</td>\n",
       "      <td>0.4711</td>\n",
       "      <td>-0.7415</td>\n",
       "      <td>0.2889</td>\n",
       "    </tr>\n",
       "    <tr>\n",
       "      <th>1868</th>\n",
       "      <td>1113188</td>\n",
       "      <td>300000</td>\n",
       "      <td>2014-12-01</td>\n",
       "      <td>present</td>\n",
       "      <td>programmer analyst</td>\n",
       "      <td>Pune</td>\n",
       "      <td>f</td>\n",
       "      <td>1991-09-17</td>\n",
       "      <td>93.30</td>\n",
       "      <td>state board</td>\n",
       "      <td>...</td>\n",
       "      <td>-1</td>\n",
       "      <td>-1</td>\n",
       "      <td>-1</td>\n",
       "      <td>-1</td>\n",
       "      <td>-1</td>\n",
       "      <td>0.5591</td>\n",
       "      <td>0.8784</td>\n",
       "      <td>0.1637</td>\n",
       "      <td>0.9066</td>\n",
       "      <td>1.2470</td>\n",
       "    </tr>\n",
       "    <tr>\n",
       "      <th>2132</th>\n",
       "      <td>614028</td>\n",
       "      <td>300000</td>\n",
       "      <td>2014-08-01</td>\n",
       "      <td>2015-05-01 00:00:00</td>\n",
       "      <td>programmer analyst</td>\n",
       "      <td>Bangalore</td>\n",
       "      <td>m</td>\n",
       "      <td>1993-02-15</td>\n",
       "      <td>89.40</td>\n",
       "      <td>cbse</td>\n",
       "      <td>...</td>\n",
       "      <td>-1</td>\n",
       "      <td>-1</td>\n",
       "      <td>-1</td>\n",
       "      <td>-1</td>\n",
       "      <td>-1</td>\n",
       "      <td>-0.0154</td>\n",
       "      <td>-0.1206</td>\n",
       "      <td>-0.6048</td>\n",
       "      <td>-1.7556</td>\n",
       "      <td>-1.4356</td>\n",
       "    </tr>\n",
       "    <tr>\n",
       "      <th>2650</th>\n",
       "      <td>1094191</td>\n",
       "      <td>300000</td>\n",
       "      <td>2014-09-01</td>\n",
       "      <td>present</td>\n",
       "      <td>software engineer</td>\n",
       "      <td>Noida</td>\n",
       "      <td>f</td>\n",
       "      <td>1993-03-05</td>\n",
       "      <td>88.80</td>\n",
       "      <td>cbse</td>\n",
       "      <td>...</td>\n",
       "      <td>376</td>\n",
       "      <td>-1</td>\n",
       "      <td>-1</td>\n",
       "      <td>-1</td>\n",
       "      <td>-1</td>\n",
       "      <td>0.4155</td>\n",
       "      <td>-0.2871</td>\n",
       "      <td>-0.4511</td>\n",
       "      <td>-0.8682</td>\n",
       "      <td>-0.6692</td>\n",
       "    </tr>\n",
       "    <tr>\n",
       "      <th>3216</th>\n",
       "      <td>1087051</td>\n",
       "      <td>250000</td>\n",
       "      <td>2014-07-01</td>\n",
       "      <td>2015-04-01 00:00:00</td>\n",
       "      <td>software engineer</td>\n",
       "      <td>Chennai</td>\n",
       "      <td>m</td>\n",
       "      <td>1992-12-23</td>\n",
       "      <td>77.60</td>\n",
       "      <td>state board</td>\n",
       "      <td>...</td>\n",
       "      <td>530</td>\n",
       "      <td>-1</td>\n",
       "      <td>-1</td>\n",
       "      <td>-1</td>\n",
       "      <td>-1</td>\n",
       "      <td>0.4155</td>\n",
       "      <td>1.5444</td>\n",
       "      <td>0.3174</td>\n",
       "      <td>-0.6147</td>\n",
       "      <td>0.2889</td>\n",
       "    </tr>\n",
       "    <tr>\n",
       "      <th>3225</th>\n",
       "      <td>1230200</td>\n",
       "      <td>300000</td>\n",
       "      <td>2014-12-01</td>\n",
       "      <td>2015-04-01 00:00:00</td>\n",
       "      <td>associate software engineer</td>\n",
       "      <td>Bangalore</td>\n",
       "      <td>m</td>\n",
       "      <td>1990-07-12</td>\n",
       "      <td>65.00</td>\n",
       "      <td>state board</td>\n",
       "      <td>...</td>\n",
       "      <td>438</td>\n",
       "      <td>-1</td>\n",
       "      <td>-1</td>\n",
       "      <td>-1</td>\n",
       "      <td>-1</td>\n",
       "      <td>-0.3027</td>\n",
       "      <td>-0.7866</td>\n",
       "      <td>-1.5270</td>\n",
       "      <td>1.9207</td>\n",
       "      <td>-1.6273</td>\n",
       "    </tr>\n",
       "    <tr>\n",
       "      <th>3357</th>\n",
       "      <td>1239552</td>\n",
       "      <td>300000</td>\n",
       "      <td>2014-12-01</td>\n",
       "      <td>present</td>\n",
       "      <td>software engineer</td>\n",
       "      <td>Bangalore</td>\n",
       "      <td>m</td>\n",
       "      <td>1990-07-20</td>\n",
       "      <td>89.00</td>\n",
       "      <td>icse</td>\n",
       "      <td>...</td>\n",
       "      <td>-1</td>\n",
       "      <td>-1</td>\n",
       "      <td>-1</td>\n",
       "      <td>-1</td>\n",
       "      <td>-1</td>\n",
       "      <td>1.1336</td>\n",
       "      <td>0.7119</td>\n",
       "      <td>0.7785</td>\n",
       "      <td>0.1459</td>\n",
       "      <td>0.4805</td>\n",
       "    </tr>\n",
       "    <tr>\n",
       "      <th>3429</th>\n",
       "      <td>615310</td>\n",
       "      <td>290000</td>\n",
       "      <td>2014-10-01</td>\n",
       "      <td>present</td>\n",
       "      <td>programmer analyst</td>\n",
       "      <td>Chennai</td>\n",
       "      <td>m</td>\n",
       "      <td>1993-01-15</td>\n",
       "      <td>70.00</td>\n",
       "      <td>cbse</td>\n",
       "      <td>...</td>\n",
       "      <td>530</td>\n",
       "      <td>-1</td>\n",
       "      <td>-1</td>\n",
       "      <td>-1</td>\n",
       "      <td>-1</td>\n",
       "      <td>-2.1698</td>\n",
       "      <td>0.2124</td>\n",
       "      <td>-0.4511</td>\n",
       "      <td>-0.8682</td>\n",
       "      <td>0.2889</td>\n",
       "    </tr>\n",
       "    <tr>\n",
       "      <th>3478</th>\n",
       "      <td>796891</td>\n",
       "      <td>300000</td>\n",
       "      <td>2014-09-01</td>\n",
       "      <td>2015-04-01 00:00:00</td>\n",
       "      <td>associate software engineer</td>\n",
       "      <td>Bangalore</td>\n",
       "      <td>f</td>\n",
       "      <td>1992-07-08</td>\n",
       "      <td>93.00</td>\n",
       "      <td>cbse</td>\n",
       "      <td>...</td>\n",
       "      <td>592</td>\n",
       "      <td>-1</td>\n",
       "      <td>-1</td>\n",
       "      <td>-1</td>\n",
       "      <td>-1</td>\n",
       "      <td>-0.0154</td>\n",
       "      <td>1.2114</td>\n",
       "      <td>0.9322</td>\n",
       "      <td>1.5404</td>\n",
       "      <td>0.8637</td>\n",
       "    </tr>\n",
       "    <tr>\n",
       "      <th>3656</th>\n",
       "      <td>1281863</td>\n",
       "      <td>300000</td>\n",
       "      <td>2015-05-01</td>\n",
       "      <td>present</td>\n",
       "      <td>software engineer</td>\n",
       "      <td>Chennai</td>\n",
       "      <td>m</td>\n",
       "      <td>1993-09-14</td>\n",
       "      <td>89.00</td>\n",
       "      <td>state board</td>\n",
       "      <td>...</td>\n",
       "      <td>438</td>\n",
       "      <td>-1</td>\n",
       "      <td>-1</td>\n",
       "      <td>-1</td>\n",
       "      <td>-1</td>\n",
       "      <td>-0.3027</td>\n",
       "      <td>0.7119</td>\n",
       "      <td>0.4711</td>\n",
       "      <td>0.3995</td>\n",
       "      <td>-0.6692</td>\n",
       "    </tr>\n",
       "    <tr>\n",
       "      <th>3778</th>\n",
       "      <td>1083136</td>\n",
       "      <td>300000</td>\n",
       "      <td>2014-10-01</td>\n",
       "      <td>2015-04-01 00:00:00</td>\n",
       "      <td>software engineer</td>\n",
       "      <td>Navi Mumbai</td>\n",
       "      <td>m</td>\n",
       "      <td>1990-11-24</td>\n",
       "      <td>87.20</td>\n",
       "      <td>state board</td>\n",
       "      <td>...</td>\n",
       "      <td>346</td>\n",
       "      <td>-1</td>\n",
       "      <td>-1</td>\n",
       "      <td>-1</td>\n",
       "      <td>-1</td>\n",
       "      <td>-0.3027</td>\n",
       "      <td>-0.4536</td>\n",
       "      <td>-2.6028</td>\n",
       "      <td>0.7798</td>\n",
       "      <td>0.2889</td>\n",
       "    </tr>\n",
       "    <tr>\n",
       "      <th>3880</th>\n",
       "      <td>1233727</td>\n",
       "      <td>300000</td>\n",
       "      <td>2015-06-01</td>\n",
       "      <td>present</td>\n",
       "      <td>programmer analyst</td>\n",
       "      <td>Gurgaon</td>\n",
       "      <td>m</td>\n",
       "      <td>1994-06-30</td>\n",
       "      <td>81.00</td>\n",
       "      <td>cbse</td>\n",
       "      <td>...</td>\n",
       "      <td>592</td>\n",
       "      <td>-1</td>\n",
       "      <td>-1</td>\n",
       "      <td>-1</td>\n",
       "      <td>-1</td>\n",
       "      <td>-1.3080</td>\n",
       "      <td>0.2124</td>\n",
       "      <td>1.3933</td>\n",
       "      <td>2.9349</td>\n",
       "      <td>0.4805</td>\n",
       "    </tr>\n",
       "    <tr>\n",
       "      <th>3989</th>\n",
       "      <td>1204604</td>\n",
       "      <td>300000</td>\n",
       "      <td>2014-09-01</td>\n",
       "      <td>present</td>\n",
       "      <td>software engineer</td>\n",
       "      <td>Bangalore</td>\n",
       "      <td>m</td>\n",
       "      <td>1991-11-23</td>\n",
       "      <td>74.88</td>\n",
       "      <td>state board</td>\n",
       "      <td>...</td>\n",
       "      <td>346</td>\n",
       "      <td>-1</td>\n",
       "      <td>-1</td>\n",
       "      <td>-1</td>\n",
       "      <td>-1</td>\n",
       "      <td>0.1282</td>\n",
       "      <td>0.0459</td>\n",
       "      <td>1.2396</td>\n",
       "      <td>1.0333</td>\n",
       "      <td>0.6721</td>\n",
       "    </tr>\n",
       "  </tbody>\n",
       "</table>\n",
       "<p>19 rows × 38 columns</p>\n",
       "</div>"
      ],
      "text/plain": [
       "           ID  Salary        DOJ                  DOL  \\\n",
       "55     989860  250000 2014-08-01              present   \n",
       "499    845544  300000 2014-11-01  2015-05-01 00:00:00   \n",
       "978   1143459  275000 2014-07-01              present   \n",
       "1003   745903  300000 2013-09-01              present   \n",
       "1224  1062611  275000 2014-08-01              present   \n",
       "1300  1198934  275000 2014-12-01              present   \n",
       "1653   553327  300000 2013-12-01              present   \n",
       "1868  1113188  300000 2014-12-01              present   \n",
       "2132   614028  300000 2014-08-01  2015-05-01 00:00:00   \n",
       "2650  1094191  300000 2014-09-01              present   \n",
       "3216  1087051  250000 2014-07-01  2015-04-01 00:00:00   \n",
       "3225  1230200  300000 2014-12-01  2015-04-01 00:00:00   \n",
       "3357  1239552  300000 2014-12-01              present   \n",
       "3429   615310  290000 2014-10-01              present   \n",
       "3478   796891  300000 2014-09-01  2015-04-01 00:00:00   \n",
       "3656  1281863  300000 2015-05-01              present   \n",
       "3778  1083136  300000 2014-10-01  2015-04-01 00:00:00   \n",
       "3880  1233727  300000 2015-06-01              present   \n",
       "3989  1204604  300000 2014-09-01              present   \n",
       "\n",
       "                      Designation             JobCity Gender        DOB  \\\n",
       "55              software engineer           Mangalore      m 1992-02-13   \n",
       "499             software engineer  Thiruvananthapuram      f 1992-12-04   \n",
       "978             software engineer         Bhubaneswar      m 1991-06-04   \n",
       "1003            software engineer           Hyderabad      m 1991-03-21   \n",
       "1224            software engineer           Hyderabad      f 1993-05-15   \n",
       "1300            software engineer           Hyderabad      m 1992-10-31   \n",
       "1653            software engineer                  -1      m 1992-07-03   \n",
       "1868           programmer analyst                Pune      f 1991-09-17   \n",
       "2132           programmer analyst           Bangalore      m 1993-02-15   \n",
       "2650            software engineer               Noida      f 1993-03-05   \n",
       "3216            software engineer             Chennai      m 1992-12-23   \n",
       "3225  associate software engineer           Bangalore      m 1990-07-12   \n",
       "3357            software engineer           Bangalore      m 1990-07-20   \n",
       "3429           programmer analyst             Chennai      m 1993-01-15   \n",
       "3478  associate software engineer           Bangalore      f 1992-07-08   \n",
       "3656            software engineer             Chennai      m 1993-09-14   \n",
       "3778            software engineer         Navi Mumbai      m 1990-11-24   \n",
       "3880           programmer analyst             Gurgaon      m 1994-06-30   \n",
       "3989            software engineer           Bangalore      m 1991-11-23   \n",
       "\n",
       "      10percentage      10board  ...  ComputerScience  MechanicalEngg  \\\n",
       "55           90.80  state board  ...              376              -1   \n",
       "499          90.00         cbse  ...              592              -1   \n",
       "978          80.42         icse  ...              284              -1   \n",
       "1003         89.50  state board  ...               -1              -1   \n",
       "1224         82.40  state board  ...              407              -1   \n",
       "1300         80.50  state board  ...               -1              -1   \n",
       "1653         76.00         cbse  ...               -1              -1   \n",
       "1868         93.30  state board  ...               -1              -1   \n",
       "2132         89.40         cbse  ...               -1              -1   \n",
       "2650         88.80         cbse  ...              376              -1   \n",
       "3216         77.60  state board  ...              530              -1   \n",
       "3225         65.00  state board  ...              438              -1   \n",
       "3357         89.00         icse  ...               -1              -1   \n",
       "3429         70.00         cbse  ...              530              -1   \n",
       "3478         93.00         cbse  ...              592              -1   \n",
       "3656         89.00  state board  ...              438              -1   \n",
       "3778         87.20  state board  ...              346              -1   \n",
       "3880         81.00         cbse  ...              592              -1   \n",
       "3989         74.88  state board  ...              346              -1   \n",
       "\n",
       "     ElectricalEngg  TelecomEngg  CivilEngg conscientiousness agreeableness  \\\n",
       "55               -1           -1         -1           -0.3027        0.7119   \n",
       "499              -1           -1         -1            0.7027        0.7119   \n",
       "978              -1           -1         -1            1.4208        0.8784   \n",
       "1003             -1           -1         -1            0.1282        1.3779   \n",
       "1224             -1           -1         -1            1.4208        0.8784   \n",
       "1300             -1           -1         -1            0.5591        0.0459   \n",
       "1653             -1           -1         -1           -0.5899        0.2124   \n",
       "1868             -1           -1         -1            0.5591        0.8784   \n",
       "2132             -1           -1         -1           -0.0154       -0.1206   \n",
       "2650             -1           -1         -1            0.4155       -0.2871   \n",
       "3216             -1           -1         -1            0.4155        1.5444   \n",
       "3225             -1           -1         -1           -0.3027       -0.7866   \n",
       "3357             -1           -1         -1            1.1336        0.7119   \n",
       "3429             -1           -1         -1           -2.1698        0.2124   \n",
       "3478             -1           -1         -1           -0.0154        1.2114   \n",
       "3656             -1           -1         -1           -0.3027        0.7119   \n",
       "3778             -1           -1         -1           -0.3027       -0.4536   \n",
       "3880             -1           -1         -1           -1.3080        0.2124   \n",
       "3989             -1           -1         -1            0.1282        0.0459   \n",
       "\n",
       "      extraversion  nueroticism  openess_to_experience  \n",
       "55         -0.2974       1.1601                -0.4776  \n",
       "499         1.5470      -0.6147                 1.0554  \n",
       "978         0.7785      -0.1076                 0.2889  \n",
       "1003        1.3933      -2.1360                 1.0554  \n",
       "1224       -0.6048      -1.3753                -0.2859  \n",
       "1300        0.4711      -1.1218                -0.8608  \n",
       "1653        0.4711      -0.7415                 0.2889  \n",
       "1868        0.1637       0.9066                 1.2470  \n",
       "2132       -0.6048      -1.7556                -1.4356  \n",
       "2650       -0.4511      -0.8682                -0.6692  \n",
       "3216        0.3174      -0.6147                 0.2889  \n",
       "3225       -1.5270       1.9207                -1.6273  \n",
       "3357        0.7785       0.1459                 0.4805  \n",
       "3429       -0.4511      -0.8682                 0.2889  \n",
       "3478        0.9322       1.5404                 0.8637  \n",
       "3656        0.4711       0.3995                -0.6692  \n",
       "3778       -2.6028       0.7798                 0.2889  \n",
       "3880        1.3933       2.9349                 0.4805  \n",
       "3989        1.2396       1.0333                 0.6721  \n",
       "\n",
       "[19 rows x 38 columns]"
      ]
     },
     "execution_count": 114,
     "metadata": {},
     "output_type": "execute_result"
    }
   ],
   "source": [
    "data=df[ (df.Specialization =='computer science & engineering') & (df.Salary >=250000) & (df.Salary<=300000) & (df['DOJ'].dt.year == df['GraduationYear']) & ((df.Designation=='software engineer')  | (df.Designation=='programmer analyst')| (df.Designation=='associate software engineer'))] \n",
    "\n",
    "data"
   ]
  },
  {
   "cell_type": "code",
   "execution_count": 115,
   "id": "timely-input",
   "metadata": {
    "ExecuteTime": {
     "end_time": "2021-05-26T05:28:15.435991Z",
     "start_time": "2021-05-26T05:28:15.419037Z"
    },
    "scrolled": true
   },
   "outputs": [
    {
     "data": {
      "text/html": [
       "<div>\n",
       "<style scoped>\n",
       "    .dataframe tbody tr th:only-of-type {\n",
       "        vertical-align: middle;\n",
       "    }\n",
       "\n",
       "    .dataframe tbody tr th {\n",
       "        vertical-align: top;\n",
       "    }\n",
       "\n",
       "    .dataframe thead th {\n",
       "        text-align: right;\n",
       "    }\n",
       "</style>\n",
       "<table border=\"1\" class=\"dataframe\">\n",
       "  <thead>\n",
       "    <tr style=\"text-align: right;\">\n",
       "      <th></th>\n",
       "      <th>DOJ</th>\n",
       "      <th>GraduationYear</th>\n",
       "    </tr>\n",
       "  </thead>\n",
       "  <tbody>\n",
       "    <tr>\n",
       "      <th>55</th>\n",
       "      <td>2014-08-01</td>\n",
       "      <td>2014</td>\n",
       "    </tr>\n",
       "    <tr>\n",
       "      <th>499</th>\n",
       "      <td>2014-11-01</td>\n",
       "      <td>2014</td>\n",
       "    </tr>\n",
       "    <tr>\n",
       "      <th>978</th>\n",
       "      <td>2014-07-01</td>\n",
       "      <td>2014</td>\n",
       "    </tr>\n",
       "    <tr>\n",
       "      <th>1003</th>\n",
       "      <td>2013-09-01</td>\n",
       "      <td>2013</td>\n",
       "    </tr>\n",
       "    <tr>\n",
       "      <th>1224</th>\n",
       "      <td>2014-08-01</td>\n",
       "      <td>2014</td>\n",
       "    </tr>\n",
       "    <tr>\n",
       "      <th>1300</th>\n",
       "      <td>2014-12-01</td>\n",
       "      <td>2014</td>\n",
       "    </tr>\n",
       "    <tr>\n",
       "      <th>1653</th>\n",
       "      <td>2013-12-01</td>\n",
       "      <td>2013</td>\n",
       "    </tr>\n",
       "    <tr>\n",
       "      <th>1868</th>\n",
       "      <td>2014-12-01</td>\n",
       "      <td>2014</td>\n",
       "    </tr>\n",
       "    <tr>\n",
       "      <th>2132</th>\n",
       "      <td>2014-08-01</td>\n",
       "      <td>2014</td>\n",
       "    </tr>\n",
       "    <tr>\n",
       "      <th>2650</th>\n",
       "      <td>2014-09-01</td>\n",
       "      <td>2014</td>\n",
       "    </tr>\n",
       "    <tr>\n",
       "      <th>3216</th>\n",
       "      <td>2014-07-01</td>\n",
       "      <td>2014</td>\n",
       "    </tr>\n",
       "    <tr>\n",
       "      <th>3225</th>\n",
       "      <td>2014-12-01</td>\n",
       "      <td>2014</td>\n",
       "    </tr>\n",
       "    <tr>\n",
       "      <th>3357</th>\n",
       "      <td>2014-12-01</td>\n",
       "      <td>2014</td>\n",
       "    </tr>\n",
       "    <tr>\n",
       "      <th>3429</th>\n",
       "      <td>2014-10-01</td>\n",
       "      <td>2014</td>\n",
       "    </tr>\n",
       "    <tr>\n",
       "      <th>3478</th>\n",
       "      <td>2014-09-01</td>\n",
       "      <td>2014</td>\n",
       "    </tr>\n",
       "    <tr>\n",
       "      <th>3656</th>\n",
       "      <td>2015-05-01</td>\n",
       "      <td>2015</td>\n",
       "    </tr>\n",
       "    <tr>\n",
       "      <th>3778</th>\n",
       "      <td>2014-10-01</td>\n",
       "      <td>2014</td>\n",
       "    </tr>\n",
       "    <tr>\n",
       "      <th>3880</th>\n",
       "      <td>2015-06-01</td>\n",
       "      <td>2015</td>\n",
       "    </tr>\n",
       "    <tr>\n",
       "      <th>3989</th>\n",
       "      <td>2014-09-01</td>\n",
       "      <td>2014</td>\n",
       "    </tr>\n",
       "  </tbody>\n",
       "</table>\n",
       "</div>"
      ],
      "text/plain": [
       "            DOJ  GraduationYear\n",
       "55   2014-08-01            2014\n",
       "499  2014-11-01            2014\n",
       "978  2014-07-01            2014\n",
       "1003 2013-09-01            2013\n",
       "1224 2014-08-01            2014\n",
       "1300 2014-12-01            2014\n",
       "1653 2013-12-01            2013\n",
       "1868 2014-12-01            2014\n",
       "2132 2014-08-01            2014\n",
       "2650 2014-09-01            2014\n",
       "3216 2014-07-01            2014\n",
       "3225 2014-12-01            2014\n",
       "3357 2014-12-01            2014\n",
       "3429 2014-10-01            2014\n",
       "3478 2014-09-01            2014\n",
       "3656 2015-05-01            2015\n",
       "3778 2014-10-01            2014\n",
       "3880 2015-06-01            2015\n",
       "3989 2014-09-01            2014"
      ]
     },
     "execution_count": 115,
     "metadata": {},
     "output_type": "execute_result"
    }
   ],
   "source": [
    "data[['DOJ','GraduationYear']] "
   ]
  },
  {
   "cell_type": "markdown",
   "id": "sufficient-illinois",
   "metadata": {},
   "source": [
    " $ above \\ cell \\ is \\ to \\ check \\ both \\ graduation \\ year \\ and \\ Date \\ of \\ joining \\ in \\ a \\ company \\ should \\ be \\ same \\ which \\ is \\ of \\ computer \\ science \\ and \\ engineering \\\\ who \\ got \\ placed \\ in \\ roles \\ of \\ software \\ engineer, \\ programmer \\ analyst, \\ associate \\ software \\ engineer$"
   ]
  },
  {
   "cell_type": "markdown",
   "id": "demographic-access",
   "metadata": {},
   "source": [
    " "
   ]
  },
  {
   "cell_type": "code",
   "execution_count": 64,
   "id": "expired-metropolitan",
   "metadata": {
    "ExecuteTime": {
     "end_time": "2021-05-26T04:42:36.612736Z",
     "start_time": "2021-05-26T04:42:36.604756Z"
    }
   },
   "outputs": [
    {
     "data": {
      "text/plain": [
       "array(['software engineer', 'programmer analyst',\n",
       "       'associate software engineer'], dtype=object)"
      ]
     },
     "execution_count": 64,
     "metadata": {},
     "output_type": "execute_result"
    }
   ],
   "source": [
    "data['Designation'].unique()"
   ]
  },
  {
   "cell_type": "code",
   "execution_count": 65,
   "id": "waiting-session",
   "metadata": {
    "ExecuteTime": {
     "end_time": "2021-05-26T04:42:39.188703Z",
     "start_time": "2021-05-26T04:42:39.180725Z"
    }
   },
   "outputs": [
    {
     "data": {
      "text/plain": [
       "300000    13\n",
       "275000     3\n",
       "250000     2\n",
       "290000     1\n",
       "Name: Salary, dtype: int64"
      ]
     },
     "execution_count": 65,
     "metadata": {},
     "output_type": "execute_result"
    }
   ],
   "source": [
    "data['Salary'].value_counts()"
   ]
  },
  {
   "cell_type": "code",
   "execution_count": 66,
   "id": "indoor-metadata",
   "metadata": {
    "ExecuteTime": {
     "end_time": "2021-05-26T04:42:42.995408Z",
     "start_time": "2021-05-26T04:42:42.985434Z"
    }
   },
   "outputs": [
    {
     "data": {
      "text/plain": [
       "computer science & engineering    19\n",
       "Name: Specialization, dtype: int64"
      ]
     },
     "execution_count": 66,
     "metadata": {},
     "output_type": "execute_result"
    }
   ],
   "source": [
    "data['Specialization'].value_counts()"
   ]
  },
  {
   "cell_type": "code",
   "execution_count": 45,
   "id": "hairy-enzyme",
   "metadata": {
    "ExecuteTime": {
     "end_time": "2021-05-26T03:09:07.145026Z",
     "start_time": "2021-05-26T03:09:07.129066Z"
    },
    "scrolled": false
   },
   "outputs": [
    {
     "data": {
      "text/plain": [
       "197                        electrical engineering\n",
       "802     electronics and communication engineering\n",
       "839     electronics and communication engineering\n",
       "1886    electronics and communication engineering\n",
       "2070    electronics and communication engineering\n",
       "2533    electronics and communication engineering\n",
       "3438                      electronics engineering\n",
       "3547    electronics and communication engineering\n",
       "Name: Specialization, dtype: object"
      ]
     },
     "execution_count": 45,
     "metadata": {},
     "output_type": "execute_result"
    }
   ],
   "source": [
    "(df[df['Designation'].str.contains('hardware engineer')])['Specialization'] # here hardware engineer belongs to electronics, electrical stream"
   ]
  },
  {
   "cell_type": "code",
   "execution_count": 11,
   "id": "chemical-concord",
   "metadata": {
    "ExecuteTime": {
     "end_time": "2021-05-26T02:35:31.210047Z",
     "start_time": "2021-05-26T02:35:31.186112Z"
    }
   },
   "outputs": [
    {
     "data": {
      "text/plain": [
       "Gender  Specialization                         \n",
       "f       aeronautical engineering                    1\n",
       "        applied electronics and instrumentation     2\n",
       "        biomedical engineering                      2\n",
       "        biotechnology                               9\n",
       "        chemical engineering                        1\n",
       "                                                   ..\n",
       "m       metallurgical engineering                   2\n",
       "        other                                      13\n",
       "        polymer technology                          1\n",
       "        power systems and automation                1\n",
       "        telecommunication engineering               5\n",
       "Name: ID, Length: 71, dtype: int64"
      ]
     },
     "execution_count": 11,
     "metadata": {},
     "output_type": "execute_result"
    }
   ],
   "source": [
    "df.groupby(by=['Gender','Specialization']).count()['ID']"
   ]
  },
  {
   "cell_type": "code",
   "execution_count": 116,
   "id": "patent-singles",
   "metadata": {
    "ExecuteTime": {
     "end_time": "2021-05-26T05:28:28.827752Z",
     "start_time": "2021-05-26T05:28:28.818776Z"
    },
    "scrolled": true
   },
   "outputs": [
    {
     "data": {
      "text/plain": [
       "55      250000\n",
       "499     300000\n",
       "978     275000\n",
       "1003    300000\n",
       "1224    275000\n",
       "1300    275000\n",
       "1653    300000\n",
       "1868    300000\n",
       "2132    300000\n",
       "2650    300000\n",
       "3216    250000\n",
       "3225    300000\n",
       "3357    300000\n",
       "3429    290000\n",
       "3478    300000\n",
       "3656    300000\n",
       "3778    300000\n",
       "3880    300000\n",
       "3989    300000\n",
       "Name: Salary, dtype: int64"
      ]
     },
     "execution_count": 116,
     "metadata": {},
     "output_type": "execute_result"
    }
   ],
   "source": [
    "data['Salary']"
   ]
  },
  {
   "cell_type": "code",
   "execution_count": 117,
   "id": "mediterranean-forth",
   "metadata": {
    "ExecuteTime": {
     "end_time": "2021-05-26T05:28:32.504705Z",
     "start_time": "2021-05-26T05:28:32.500717Z"
    }
   },
   "outputs": [],
   "source": [
    "from scipy.stats import t, norm\n",
    "import matplotlib.pyplot as plt\n",
    "import numpy as np"
   ]
  },
  {
   "cell_type": "code",
   "execution_count": 144,
   "id": "elder-envelope",
   "metadata": {
    "ExecuteTime": {
     "end_time": "2021-05-26T06:00:01.022028Z",
     "start_time": "2021-05-26T06:00:01.014047Z"
    }
   },
   "outputs": [
    {
     "data": {
      "text/plain": [
       "290263.15789473685"
      ]
     },
     "execution_count": 144,
     "metadata": {},
     "output_type": "execute_result"
    }
   ],
   "source": [
    "sum(data['Salary'])/len(data['Salary']) # mean of Salary"
   ]
  },
  {
   "cell_type": "code",
   "execution_count": 119,
   "id": "acute-musical",
   "metadata": {
    "ExecuteTime": {
     "end_time": "2021-05-26T05:28:38.680642Z",
     "start_time": "2021-05-26T05:28:38.675655Z"
    }
   },
   "outputs": [],
   "source": [
    "# function for calculation of t_score \n",
    "\n",
    "def tscore(sample_mean, pop_mean, sample_std, sample_size):\n",
    "    numerator = sample_mean - pop_mean\n",
    "    denominator = sample_std/sample_size**0.5\n",
    "    return numerator/denominator"
   ]
  },
  {
   "cell_type": "code",
   "execution_count": 152,
   "id": "closing-trust",
   "metadata": {
    "ExecuteTime": {
     "end_time": "2021-05-26T06:01:25.637954Z",
     "start_time": "2021-05-26T06:01:25.631972Z"
    }
   },
   "outputs": [
    {
     "name": "stdout",
     "output_type": "stream",
     "text": [
      "1.7340636066175354\n"
     ]
    }
   ],
   "source": [
    "# one tail test\n",
    "\n",
    "alpha = 1-0.95\n",
    "\n",
    "t_critical = t.ppf(1-alpha, df=18)\n",
    "\n",
    "print(t_critical)"
   ]
  },
  {
   "cell_type": "code",
   "execution_count": 153,
   "id": "continued-mitchell",
   "metadata": {
    "ExecuteTime": {
     "end_time": "2021-05-26T06:01:26.915377Z",
     "start_time": "2021-05-26T06:01:26.909399Z"
    }
   },
   "outputs": [
    {
     "data": {
      "text/plain": [
       "16501.48990167461"
      ]
     },
     "execution_count": 153,
     "metadata": {},
     "output_type": "execute_result"
    }
   ],
   "source": [
    "std = np.std(data.Salary)\n",
    "\n",
    "std"
   ]
  },
  {
   "cell_type": "code",
   "execution_count": 154,
   "id": "painful-corrections",
   "metadata": {
    "ExecuteTime": {
     "end_time": "2021-05-26T06:01:28.142152Z",
     "start_time": "2021-05-26T06:01:28.137166Z"
    }
   },
   "outputs": [],
   "source": [
    "sample_size = len(data.Salary)\n",
    "sample_mean = 290263.157\n",
    "pop_mean = 300000"
   ]
  },
  {
   "cell_type": "code",
   "execution_count": 155,
   "id": "useful-tackle",
   "metadata": {
    "ExecuteTime": {
     "end_time": "2021-05-26T06:01:29.573149Z",
     "start_time": "2021-05-26T06:01:29.566167Z"
    }
   },
   "outputs": [
    {
     "data": {
      "text/plain": [
       "-2.5720050079729027"
      ]
     },
     "execution_count": 155,
     "metadata": {},
     "output_type": "execute_result"
    }
   ],
   "source": [
    "# calculate t-score\n",
    "\n",
    "t_score = tscore(sample_mean,pop_mean, std,sample_size)\n",
    "\n",
    "t_score"
   ]
  },
  {
   "cell_type": "code",
   "execution_count": 156,
   "id": "powered-moldova",
   "metadata": {
    "ExecuteTime": {
     "end_time": "2021-05-26T06:01:32.682412Z",
     "start_time": "2021-05-26T06:01:31.588310Z"
    },
    "scrolled": true
   },
   "outputs": [
    {
     "data": {
      "image/png": "[encoded data removed]",
      "text/plain": [
       "<Figure size 432x288 with 1 Axes>"
      ]
     },
     "metadata": {
      "needs_background": "light"
     },
     "output_type": "display_data"
    },
    {
     "data": {
      "text/plain": [
       "<Figure size 1440x720 with 0 Axes>"
      ]
     },
     "metadata": {},
     "output_type": "display_data"
    }
   ],
   "source": [
    "x_min = 230000\n",
    "x_max = 350000\n",
    "\n",
    "mean = pop_mean\n",
    "std = std/(sample_size**0.5)\n",
    "\n",
    "x = np.linspace(x_min, x_max, 100)\n",
    "y = norm.pdf(x, mean, std)\n",
    "\n",
    "plt.xlim(x_min, x_max)\n",
    "# plt.ylim(0, 0.03)\n",
    "import matplotlib.pyplot as plt\n",
    "plt.plot(x, y)\n",
    "\n",
    "\n",
    "t_critical_left = pop_mean + (-t_critical * std)\n",
    "\n",
    "x1 = np.linspace(x_min, t_critical_left, 100)\n",
    "y1 = norm.pdf(x1, mean, std)\n",
    "plt.fill_between(x1, y1, color='purple')\n",
    "\n",
    "plt.scatter(sample_mean, 0)\n",
    "plt.axvline(mean, color = 'black')\n",
    "#plt.figure(figsize=(20,10))\n",
    "plt.annotate(\"x_bar\", (sample_mean, 0.02))\n",
    "plt.figure(figsize=(20,10))\n",
    "plt.show()\n",
    "\n",
    "\n",
    "# In this case sample mean falls in the rejection region\n",
    "\n",
    "# i.e. we Reject Null Hypothesis"
   ]
  },
  {
   "cell_type": "code",
   "execution_count": 157,
   "id": "failing-trauma",
   "metadata": {
    "ExecuteTime": {
     "end_time": "2021-05-26T06:03:25.196485Z",
     "start_time": "2021-05-26T06:03:25.190500Z"
    }
   },
   "outputs": [
    {
     "name": "stdout",
     "output_type": "stream",
     "text": [
      "Reject Null Hypothesis\n"
     ]
    }
   ],
   "source": [
    "# Conclusion using t test\n",
    "\n",
    "if abs(t_score) >= t_critical:\n",
    "    print(\"Reject Null Hypothesis\")\n",
    "else:\n",
    "    print(\"Fail to reject Null Hypothesis\")"
   ]
  },
  {
   "cell_type": "code",
   "execution_count": 158,
   "id": "phantom-highlight",
   "metadata": {
    "ExecuteTime": {
     "end_time": "2021-05-26T06:03:27.122100Z",
     "start_time": "2021-05-26T06:03:27.114121Z"
    }
   },
   "outputs": [
    {
     "name": "stdout",
     "output_type": "stream",
     "text": [
      "p_value =  0.005055571456571095\n",
      "Reject Null Hypothesis\n"
     ]
    }
   ],
   "source": [
    "# Conclusion using p test\n",
    "\n",
    "p_value = 1.0 - norm.cdf(np.abs(t_score))\n",
    "\n",
    "print(\"p_value = \", p_value)\n",
    "\n",
    "\n",
    "if(p_value < alpha):\n",
    "    print(\"Reject Null Hypothesis\")\n",
    "else:\n",
    "    print(\"Fail to reject Null Hypothesis\")"
   ]
  },
  {
   "cell_type": "markdown",
   "id": "guilty-interest",
   "metadata": {},
   "source": [
    "$\\large  here \\ we \\ are \\ getting \\ to \\ Reject \\ Null \\ Hypothesis \\ means \\ the \\ salaries \\ for \\ freshers \\ are \\ getting \\ salaries \\ upto \\\\ \\large \\ 2.5L \\ to \\ 3L \\ who \\ had  joined \\ in \\ computer \\ science \\ engineering \\ took \\ jobs \\ in \\ software \\ engineer, \\\\ \\large programmer \\ analyst \\ and \\ associate \\ software \\ engineer$"
   ]
  },
  {
   "cell_type": "markdown",
   "id": "fundamental-armstrong",
   "metadata": {},
   "source": [
    " "
   ]
  },
  {
   "cell_type": "markdown",
   "id": "italian-gabriel",
   "metadata": {},
   "source": [
    "- **Is there a relationship between gender and specialisation? (i.e. Does the preference of\n",
    "Specialisation depend on the Gender?)**"
   ]
  },
  {
   "cell_type": "code",
   "execution_count": 604,
   "id": "significant-light",
   "metadata": {
    "ExecuteTime": {
     "end_time": "2021-05-25T02:29:20.002313Z",
     "start_time": "2021-05-25T02:29:19.982387Z"
    }
   },
   "outputs": [
    {
     "data": {
      "text/plain": [
       "Gender\n",
       "f     957\n",
       "m    3041\n",
       "Name: Specialization, dtype: int64"
      ]
     },
     "execution_count": 604,
     "metadata": {},
     "output_type": "execute_result"
    }
   ],
   "source": [
    "df.groupby(df['Gender']).count()['Specialization'] # number of male and female regarding with specialization"
   ]
  },
  {
   "cell_type": "code",
   "execution_count": 717,
   "id": "bronze-astrology",
   "metadata": {
    "ExecuteTime": {
     "end_time": "2021-05-26T02:07:51.996950Z",
     "start_time": "2021-05-26T02:07:51.570979Z"
    },
    "scrolled": false
   },
   "outputs": [
    {
     "data": {
      "text/plain": [
       "Gender  Specialization                         \n",
       "f       aeronautical engineering                    1\n",
       "        applied electronics and instrumentation     2\n",
       "        biomedical engineering                      2\n",
       "        biotechnology                               9\n",
       "        chemical engineering                        1\n",
       "                                                   ..\n",
       "m       metallurgical engineering                   2\n",
       "        other                                      13\n",
       "        polymer technology                          1\n",
       "        power systems and automation                1\n",
       "        telecommunication engineering               5\n",
       "Name: ID, Length: 71, dtype: int64"
      ]
     },
     "execution_count": 717,
     "metadata": {},
     "output_type": "execute_result"
    }
   ],
   "source": [
    "df.groupby(by=['Gender','Specialization' ]).count()['ID'] # values shows the count of male and female in each specialization"
   ]
  },
  {
   "cell_type": "markdown",
   "id": "individual-picture",
   "metadata": {},
   "source": [
    "$ \\ the \\ values \\ tells \\ you \\ that \\ how \\ many \\ male \\ and \\ female \\ candidates \\ have \\ choosen \\ specialization \\ individually $"
   ]
  },
  {
   "cell_type": "markdown",
   "id": "standard-gathering",
   "metadata": {},
   "source": [
    " "
   ]
  },
  {
   "cell_type": "code",
   "execution_count": 621,
   "id": "chemical-growth",
   "metadata": {
    "ExecuteTime": {
     "end_time": "2021-05-25T02:45:25.485723Z",
     "start_time": "2021-05-25T02:45:23.300571Z"
    }
   },
   "outputs": [
    {
     "data": {
      "image/png": "[encoded data removed]",
      "text/plain": [
       "<Figure size 1584x576 with 1 Axes>"
      ]
     },
     "metadata": {
      "needs_background": "light"
     },
     "output_type": "display_data"
    }
   ],
   "source": [
    "a4_dims = (22,8)\n",
    "fig, ax = pyplot.subplots(figsize=a4_dims)\n",
    "\n",
    "s=sns.countplot(data=df, x='Specialization', hue='Gender')\n",
    "s.set_xticklabels(ax.get_xticklabels(),rotation=90);\n"
   ]
  },
  {
   "cell_type": "markdown",
   "id": "complete-insurance",
   "metadata": {},
   "source": [
    "$\\ you \\ can \\ observe \\ male\\ and \\ female \\ ratio \\ with \\ respect\\ to \\ specialization \\ column, \\ number \\ of \\ male \\ ratio \\ is \\ higher \\ in \\  every \\ domain\\\\ \\ if \\ you \\ observe \\ keenly \\ both \\ male \\ and \\ female \\ are \\ choosing \\ mostly \\ with \\ computer \\ science \\ and \\ electroincs \\ groups, \\\\  because \\ the \\ pattern\\ trends\\ tells\\ you \\ most \\ of \\ the \\ jobs \\ are \\ available \\ in \\ those \\ fields.$"
   ]
  },
  {
   "cell_type": "markdown",
   "id": "turkish-stewart",
   "metadata": {},
   "source": [
    " "
   ]
  },
  {
   "cell_type": "code",
   "execution_count": 620,
   "id": "flying-protocol",
   "metadata": {
    "ExecuteTime": {
     "end_time": "2021-05-25T02:42:06.716963Z",
     "start_time": "2021-05-25T02:42:06.116185Z"
    }
   },
   "outputs": [
    {
     "data": {
      "text/plain": [
       "<AxesSubplot:xlabel='Gender', ylabel='Salary'>"
      ]
     },
     "execution_count": 620,
     "metadata": {},
     "output_type": "execute_result"
    },
    {
     "data": {
      "image/png": "[encoded data removed]",
      "text/plain": [
       "<Figure size 432x288 with 1 Axes>"
      ]
     },
     "metadata": {
      "needs_background": "light"
     },
     "output_type": "display_data"
    }
   ],
   "source": [
    "sns.boxplot(data=df, x='Gender', y='Salary')"
   ]
  },
  {
   "cell_type": "markdown",
   "id": "worthy-improvement",
   "metadata": {},
   "source": [
    " $ if\\ you\\ observe\\ the\\ outliers\\ in\\ boxplot\\ it\\ clearly\\ shows\\ that\\ male\\ had\\ high\\ range\\ of \\ different \\ salaries\\ $"
   ]
  },
  {
   "cell_type": "markdown",
   "id": "defined-whale",
   "metadata": {},
   "source": [
    " "
   ]
  },
  {
   "cell_type": "code",
   "execution_count": 619,
   "id": "brown-turkish",
   "metadata": {
    "ExecuteTime": {
     "end_time": "2021-05-25T02:40:46.549525Z",
     "start_time": "2021-05-25T02:40:43.949585Z"
    }
   },
   "outputs": [
    {
     "data": {
      "image/png": "[encoded data removed]",
      "text/plain": [
       "<Figure size 1584x576 with 1 Axes>"
      ]
     },
     "metadata": {
      "needs_background": "light"
     },
     "output_type": "display_data"
    }
   ],
   "source": [
    "a4_dims = (22,8)\n",
    "fig, ax = pyplot.subplots(figsize=a4_dims)\n",
    "r=sns.boxplot(data=df, x='Specialization', y='Salary')\n",
    "r.set_xticklabels(ax.get_xticklabels(),rotation=90);"
   ]
  },
  {
   "cell_type": "markdown",
   "id": "combined-essence",
   "metadata": {},
   "source": [
    "$ if \\ you \\ observe \\ here \\ at \\ each \\ box \\ outliers \\ can \\ be \\ seen \\ for \\ each \\ specialization \\ and \\ consider \\ those \\ outliers \\ are \\ the \\ highest \\ salary \\ which \\ are \\ away \\ from \\ average \\ salary $"
   ]
  },
  {
   "cell_type": "code",
   "execution_count": null,
   "id": "crucial-whole",
   "metadata": {},
   "outputs": [],
   "source": []
  },
  {
   "cell_type": "code",
   "execution_count": null,
   "id": "measured-regard",
   "metadata": {},
   "outputs": [],
   "source": []
  },
  {
   "cell_type": "code",
   "execution_count": null,
   "id": "white-option",
   "metadata": {},
   "outputs": [],
   "source": []
  },
  {
   "cell_type": "code",
   "execution_count": null,
   "id": "animated-equation",
   "metadata": {},
   "outputs": [],
   "source": []
  },
  {
   "cell_type": "code",
   "execution_count": null,
   "id": "iraqi-composer",
   "metadata": {},
   "outputs": [],
   "source": []
  }
 ],
 "metadata": {
  "kernelspec": {
   "display_name": "Python 3",
   "language": "python",
   "name": "python3"
  },
  "language_info": {
   "codemirror_mode": {
    "name": "ipython",
    "version": 3
   },
   "file_extension": ".py",
   "mimetype": "text/x-python",
   "name": "python",
   "nbconvert_exporter": "python",
   "pygments_lexer": "ipython3",
   "version": "3.8.5"
  },
  "toc": {
   "base_numbering": 1,
   "nav_menu": {},
   "number_sections": true,
   "sideBar": true,
   "skip_h1_title": false,
   "title_cell": "Table of Contents",
   "title_sidebar": "Contents",
   "toc_cell": false,
   "toc_position": {},
   "toc_section_display": true,
   "toc_window_display": false
  },
  "varInspector": {
   "cols": {
    "lenName": 16,
    "lenType": 16,
    "lenVar": 40
   },
   "kernels_config": {
    "python": {
     "delete_cmd_postfix": "",
     "delete_cmd_prefix": "del ",
     "library": "var_list.py",
     "varRefreshCmd": "print(var_dic_list())"
    },
    "r": {
     "delete_cmd_postfix": ") ",
     "delete_cmd_prefix": "rm(",
     "library": "var_list.r",
     "varRefreshCmd": "cat(var_dic_list()) "
    }
   },
   "position": {
    "height": "285px",
    "left": "996px",
    "right": "20px",
    "top": "120px",
    "width": "350px"
   },
   "types_to_exclude": [
    "module",
    "function",
    "builtin_function_or_method",
    "instance",
    "_Feature"
   ],
   "window_display": false
  }
 },
 "nbformat": 4,
 "nbformat_minor": 5
}
